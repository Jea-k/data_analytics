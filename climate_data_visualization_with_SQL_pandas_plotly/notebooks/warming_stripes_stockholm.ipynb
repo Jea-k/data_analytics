{
 "cells": [
  {
   "cell_type": "markdown",
   "id": "38d73267-253a-4c79-88b5-c44ea4a232b9",
   "metadata": {},
   "source": [
    "### Create warming stripes for the weather station \"Stockholm\" over time to inspect warming over time"
   ]
  },
  {
   "cell_type": "markdown",
   "id": "2cfeb0f1-fe44-4eeb-9fc0-eda1895a1d83",
   "metadata": {},
   "source": [
    "Tips: Use the year, yearly average temp to create warming stripes showing the change in average temperature over time"
   ]
  },
  {
   "cell_type": "code",
   "execution_count": 4,
   "id": "7d314b15-574e-4b71-bd54-1e5bcc8e3589",
   "metadata": {},
   "outputs": [],
   "source": [
    "import pandas as pd\n",
    "import matplotlib.pyplot as plt\n",
    "import matplotlib as mpl\n",
    "from matplotlib.colors import ListedColormap\n",
    "import numpy as np\n",
    "from sqlalchemy import create_engine, text"
   ]
  },
  {
   "cell_type": "code",
   "execution_count": 5,
   "id": "1705fe11-e34e-425d-8d33-3aa073caac51",
   "metadata": {},
   "outputs": [],
   "source": [
    "from dotenv import dotenv_values\n",
    "\n",
    "config = dotenv_values(\".env\")"
   ]
  },
  {
   "cell_type": "code",
   "execution_count": 6,
   "id": "f8267fa4-7be8-43aa-8a6f-8bbe6652e492",
   "metadata": {},
   "outputs": [],
   "source": [
    "# define variables for the login\n",
    "username = config['USER']\n",
    "password = config['PASS']\n",
    "host = config['HOST']\n",
    "port = config['PORT']"
   ]
  },
  {
   "cell_type": "code",
   "execution_count": 7,
   "id": "f61c0ad4-888a-4966-8006-8f5b7b8d69a8",
   "metadata": {},
   "outputs": [],
   "source": [
    "url = f'postgresql://{username}:{password}@{host}:{port}/climate'"
   ]
  },
  {
   "cell_type": "code",
   "execution_count": 8,
   "id": "b5a80a87-0d14-459a-8ee7-e8edfcfcad84",
   "metadata": {},
   "outputs": [],
   "source": [
    "engine = create_engine(url, echo=False)"
   ]
  },
  {
   "cell_type": "code",
   "execution_count": 9,
   "id": "b474fa20-91de-48ba-815c-d2826cce61f8",
   "metadata": {},
   "outputs": [],
   "source": [
    "with engine.begin() as conn:\n",
    "    results = conn.execute(text(\"\"\"\n",
    "SELECT  s.staname AS station_name, \n",
    "        s.staid AS station_id,\n",
    "        ymt.yearly_temp AS mean_temp,\n",
    "        ymt.year AS year\n",
    "FROM stations s\n",
    "INNER JOIN yearly_mean_temperature ymt ON ymt.staid = s.staid\n",
    "ORDER BY year\n",
    "\"\"\"))\n",
    "\n",
    "data = results.fetchall()\n",
    "df_warming_stripes = pd.DataFrame(data)"
   ]
  },
  {
   "cell_type": "code",
   "execution_count": 10,
   "id": "464296ef-88f0-41c1-bc10-c094d100adb1",
   "metadata": {},
   "outputs": [
    {
     "data": {
      "text/html": [
       "<div>\n",
       "<style scoped>\n",
       "    .dataframe tbody tr th:only-of-type {\n",
       "        vertical-align: middle;\n",
       "    }\n",
       "\n",
       "    .dataframe tbody tr th {\n",
       "        vertical-align: top;\n",
       "    }\n",
       "\n",
       "    .dataframe thead th {\n",
       "        text-align: right;\n",
       "    }\n",
       "</style>\n",
       "<table border=\"1\" class=\"dataframe\">\n",
       "  <thead>\n",
       "    <tr style=\"text-align: right;\">\n",
       "      <th></th>\n",
       "      <th>station_name</th>\n",
       "      <th>station_id</th>\n",
       "      <th>mean_temp</th>\n",
       "      <th>year</th>\n",
       "    </tr>\n",
       "  </thead>\n",
       "  <tbody>\n",
       "    <tr>\n",
       "      <th>0</th>\n",
       "      <td>STOCKHOLM</td>\n",
       "      <td>10</td>\n",
       "      <td>0E-20</td>\n",
       "      <td>1756</td>\n",
       "    </tr>\n",
       "    <tr>\n",
       "      <th>1</th>\n",
       "      <td>VARTAN</td>\n",
       "      <td>5465</td>\n",
       "      <td>0E-20</td>\n",
       "      <td>1756</td>\n",
       "    </tr>\n",
       "    <tr>\n",
       "      <th>2</th>\n",
       "      <td>STOCKHOLM_A</td>\n",
       "      <td>5464</td>\n",
       "      <td>0E-20</td>\n",
       "      <td>1756</td>\n",
       "    </tr>\n",
       "    <tr>\n",
       "      <th>3</th>\n",
       "      <td>STOCKHOLM_A</td>\n",
       "      <td>5464</td>\n",
       "      <td>0E-20</td>\n",
       "      <td>1757</td>\n",
       "    </tr>\n",
       "    <tr>\n",
       "      <th>4</th>\n",
       "      <td>VARTAN</td>\n",
       "      <td>5465</td>\n",
       "      <td>0E-20</td>\n",
       "      <td>1757</td>\n",
       "    </tr>\n",
       "    <tr>\n",
       "      <th>...</th>\n",
       "      <td>...</td>\n",
       "      <td>...</td>\n",
       "      <td>...</td>\n",
       "      <td>...</td>\n",
       "    </tr>\n",
       "    <tr>\n",
       "      <th>250574</th>\n",
       "      <td>TETEROW</td>\n",
       "      <td>4676</td>\n",
       "      <td>66.1125827814569536</td>\n",
       "      <td>2023</td>\n",
       "    </tr>\n",
       "    <tr>\n",
       "      <th>250575</th>\n",
       "      <td>PUCH</td>\n",
       "      <td>4530</td>\n",
       "      <td>62.8543046357615894</td>\n",
       "      <td>2023</td>\n",
       "    </tr>\n",
       "    <tr>\n",
       "      <th>250576</th>\n",
       "      <td>MALLERSDORF-PFAFFENBERG</td>\n",
       "      <td>4842</td>\n",
       "      <td>63.7682119205298013</td>\n",
       "      <td>2023</td>\n",
       "    </tr>\n",
       "    <tr>\n",
       "      <th>250577</th>\n",
       "      <td>QUEDLINBURG</td>\n",
       "      <td>4534</td>\n",
       "      <td>73.7284768211920530</td>\n",
       "      <td>2023</td>\n",
       "    </tr>\n",
       "    <tr>\n",
       "      <th>250578</th>\n",
       "      <td>CELLE</td>\n",
       "      <td>4952</td>\n",
       "      <td>73.7549668874172185</td>\n",
       "      <td>2023</td>\n",
       "    </tr>\n",
       "  </tbody>\n",
       "</table>\n",
       "<p>250579 rows × 4 columns</p>\n",
       "</div>"
      ],
      "text/plain": [
       "                                        station_name  station_id  \\\n",
       "0       STOCKHOLM                                             10   \n",
       "1       VARTAN                                              5465   \n",
       "2       STOCKHOLM_A                                         5464   \n",
       "3       STOCKHOLM_A                                         5464   \n",
       "4       VARTAN                                              5465   \n",
       "...                                              ...         ...   \n",
       "250574  TETEROW                                             4676   \n",
       "250575  PUCH                                                4530   \n",
       "250576  MALLERSDORF-PFAFFENBERG                             4842   \n",
       "250577  QUEDLINBURG                                         4534   \n",
       "250578  CELLE                                               4952   \n",
       "\n",
       "                  mean_temp  year  \n",
       "0                     0E-20  1756  \n",
       "1                     0E-20  1756  \n",
       "2                     0E-20  1756  \n",
       "3                     0E-20  1757  \n",
       "4                     0E-20  1757  \n",
       "...                     ...   ...  \n",
       "250574  66.1125827814569536  2023  \n",
       "250575  62.8543046357615894  2023  \n",
       "250576  63.7682119205298013  2023  \n",
       "250577  73.7284768211920530  2023  \n",
       "250578  73.7549668874172185  2023  \n",
       "\n",
       "[250579 rows x 4 columns]"
      ]
     },
     "execution_count": 10,
     "metadata": {},
     "output_type": "execute_result"
    }
   ],
   "source": [
    "df_warming_stripes"
   ]
  },
  {
   "cell_type": "code",
   "execution_count": 11,
   "id": "8036549b-ed83-4941-8870-b95ab94e2327",
   "metadata": {},
   "outputs": [
    {
     "name": "stdout",
     "output_type": "stream",
     "text": [
      "min           1756\n",
      "max           2023\n",
      "timeframe    267.0\n",
      "Name: STOCKHOLM                                   , dtype: object\n"
     ]
    }
   ],
   "source": [
    "#to find the station with largest timeframe\n",
    "min_max_years = df_warming_stripes.groupby('station_name')['year'].agg(['min', 'max'])\n",
    "\n",
    "# Calculate the timeframe for each station\n",
    "min_max_years['timeframe'] = min_max_years['max'] - min_max_years['min']\n",
    "\n",
    "# Convert the 'timeframe' column to numeric data type (optional, but ensures proper calculations)\n",
    "min_max_years['timeframe'] = pd.to_numeric(min_max_years['timeframe'])\n",
    "\n",
    "# Find the station with the largest timeframe\n",
    "largest_timeframe_station = min_max_years.loc[min_max_years['timeframe'].idxmax()]\n",
    "\n",
    "print(largest_timeframe_station)"
   ]
  },
  {
   "cell_type": "code",
   "execution_count": 12,
   "id": "30bc10f3-992a-4d77-8d59-159e3d68df42",
   "metadata": {},
   "outputs": [
    {
     "data": {
      "text/html": [
       "<div>\n",
       "<style scoped>\n",
       "    .dataframe tbody tr th:only-of-type {\n",
       "        vertical-align: middle;\n",
       "    }\n",
       "\n",
       "    .dataframe tbody tr th {\n",
       "        vertical-align: top;\n",
       "    }\n",
       "\n",
       "    .dataframe thead th {\n",
       "        text-align: right;\n",
       "    }\n",
       "</style>\n",
       "<table border=\"1\" class=\"dataframe\">\n",
       "  <thead>\n",
       "    <tr style=\"text-align: right;\">\n",
       "      <th></th>\n",
       "      <th>station_name</th>\n",
       "      <th>station_id</th>\n",
       "      <th>mean_temp</th>\n",
       "      <th>year</th>\n",
       "    </tr>\n",
       "  </thead>\n",
       "  <tbody>\n",
       "    <tr>\n",
       "      <th>0</th>\n",
       "      <td>STOCKHOLM</td>\n",
       "      <td>10</td>\n",
       "      <td>0E-20</td>\n",
       "      <td>1756</td>\n",
       "    </tr>\n",
       "    <tr>\n",
       "      <th>5</th>\n",
       "      <td>STOCKHOLM</td>\n",
       "      <td>10</td>\n",
       "      <td>0E-20</td>\n",
       "      <td>1757</td>\n",
       "    </tr>\n",
       "    <tr>\n",
       "      <th>6</th>\n",
       "      <td>STOCKHOLM</td>\n",
       "      <td>10</td>\n",
       "      <td>0E-20</td>\n",
       "      <td>1759</td>\n",
       "    </tr>\n",
       "    <tr>\n",
       "      <th>11</th>\n",
       "      <td>STOCKHOLM</td>\n",
       "      <td>10</td>\n",
       "      <td>0E-20</td>\n",
       "      <td>1760</td>\n",
       "    </tr>\n",
       "    <tr>\n",
       "      <th>12</th>\n",
       "      <td>STOCKHOLM</td>\n",
       "      <td>10</td>\n",
       "      <td>0E-20</td>\n",
       "      <td>1762</td>\n",
       "    </tr>\n",
       "    <tr>\n",
       "      <th>...</th>\n",
       "      <td>...</td>\n",
       "      <td>...</td>\n",
       "      <td>...</td>\n",
       "      <td>...</td>\n",
       "    </tr>\n",
       "    <tr>\n",
       "      <th>237330</th>\n",
       "      <td>STOCKHOLM</td>\n",
       "      <td>10</td>\n",
       "      <td>86.0301369863013699</td>\n",
       "      <td>2019</td>\n",
       "    </tr>\n",
       "    <tr>\n",
       "      <th>241316</th>\n",
       "      <td>STOCKHOLM</td>\n",
       "      <td>10</td>\n",
       "      <td>97.2131147540983607</td>\n",
       "      <td>2020</td>\n",
       "    </tr>\n",
       "    <tr>\n",
       "      <th>244622</th>\n",
       "      <td>STOCKHOLM</td>\n",
       "      <td>10</td>\n",
       "      <td>81.4054794520547945</td>\n",
       "      <td>2021</td>\n",
       "    </tr>\n",
       "    <tr>\n",
       "      <th>247445</th>\n",
       "      <td>STOCKHOLM</td>\n",
       "      <td>10</td>\n",
       "      <td>87.7068493150684932</td>\n",
       "      <td>2022</td>\n",
       "    </tr>\n",
       "    <tr>\n",
       "      <th>249253</th>\n",
       "      <td>STOCKHOLM</td>\n",
       "      <td>10</td>\n",
       "      <td>41.5894039735099338</td>\n",
       "      <td>2023</td>\n",
       "    </tr>\n",
       "  </tbody>\n",
       "</table>\n",
       "<p>241 rows × 4 columns</p>\n",
       "</div>"
      ],
      "text/plain": [
       "                                        station_name  station_id  \\\n",
       "0       STOCKHOLM                                             10   \n",
       "5       STOCKHOLM                                             10   \n",
       "6       STOCKHOLM                                             10   \n",
       "11      STOCKHOLM                                             10   \n",
       "12      STOCKHOLM                                             10   \n",
       "...                                              ...         ...   \n",
       "237330  STOCKHOLM                                             10   \n",
       "241316  STOCKHOLM                                             10   \n",
       "244622  STOCKHOLM                                             10   \n",
       "247445  STOCKHOLM                                             10   \n",
       "249253  STOCKHOLM                                             10   \n",
       "\n",
       "                  mean_temp  year  \n",
       "0                     0E-20  1756  \n",
       "5                     0E-20  1757  \n",
       "6                     0E-20  1759  \n",
       "11                    0E-20  1760  \n",
       "12                    0E-20  1762  \n",
       "...                     ...   ...  \n",
       "237330  86.0301369863013699  2019  \n",
       "241316  97.2131147540983607  2020  \n",
       "244622  81.4054794520547945  2021  \n",
       "247445  87.7068493150684932  2022  \n",
       "249253  41.5894039735099338  2023  \n",
       "\n",
       "[241 rows x 4 columns]"
      ]
     },
     "execution_count": 12,
     "metadata": {},
     "output_type": "execute_result"
    }
   ],
   "source": [
    "df_station_ws = df_warming_stripes[df_warming_stripes['station_id']== 10]\n",
    "df_station_ws"
   ]
  },
  {
   "cell_type": "markdown",
   "id": "35e12856-fa8b-4684-aa9c-98b546577838",
   "metadata": {},
   "source": [
    "1. Choose a baseline period:  1756-2023\n",
    "2. Calculate average temperature during the baseline, add all the temperatures recorded during these years and  divide the sum by the number of years. \n",
    "3. Calculate anomalies: Anomaly is the difference between the observed value and the average value during the baseline period. \n",
    "    - Subtract the baseline average temp from the observed mean temp, which represents how much the observed temperature deviates from the average baseline temperature.\n",
    "    - If the observed value is higher than the baseline average, the anomaly will be positive, indicating that the value is above the average.\n",
    "    - If the observed value is lower than the baseline average, the anomaly will be negative, indicating that the value is below the average.rage."
   ]
  },
  {
   "cell_type": "code",
   "execution_count": 13,
   "id": "82cae5cb-b541-431e-9ce9-6df000235be1",
   "metadata": {},
   "outputs": [
    {
     "name": "stderr",
     "output_type": "stream",
     "text": [
      "C:\\Users\\HP\\AppData\\Local\\Temp\\ipykernel_11772\\4196969332.py:14: SettingWithCopyWarning: \n",
      "A value is trying to be set on a copy of a slice from a DataFrame.\n",
      "Try using .loc[row_indexer,col_indexer] = value instead\n",
      "\n",
      "See the caveats in the documentation: https://pandas.pydata.org/pandas-docs/stable/user_guide/indexing.html#returning-a-view-versus-a-copy\n",
      "  df_station_ws.loc[:, 'temp_anomaly'] = df_station_ws['mean_temp'] - baseline_mean_temp\n"
     ]
    }
   ],
   "source": [
    "# Convert the 'mean_temp' column to a float data type using .loc\n",
    "df_station_ws.loc[:, 'mean_temp'] = df_station_ws['mean_temp'].astype(float)\n",
    "\n",
    "# Calculate the baseline average\n",
    "baseline_start = 1756\n",
    "baseline_end = 2023\n",
    "baseline_mean_temp = df_station_ws[(df_station_ws['year'] >= baseline_start)\n",
    "                    & (df_station_ws['year'] <= baseline_end)]['mean_temp'].mean()\n",
    "\n",
    "# Convert the baseline_mean_temp to a float data type\n",
    "baseline_mean_temp = float(baseline_mean_temp)\n",
    "\n",
    "# Calculate temperature anomalies using .loc\n",
    "df_station_ws.loc[:, 'temp_anomaly'] = df_station_ws['mean_temp'] - baseline_mean_temp"
   ]
  },
  {
   "cell_type": "code",
   "execution_count": 14,
   "id": "2ce7b6d3-78d1-47ab-a019-f4d81f035997",
   "metadata": {},
   "outputs": [
    {
     "name": "stderr",
     "output_type": "stream",
     "text": [
      "C:\\Users\\HP\\AppData\\Local\\Temp\\ipykernel_11772\\3277044604.py:8: SettingWithCopyWarning: \n",
      "A value is trying to be set on a copy of a slice from a DataFrame.\n",
      "Try using .loc[row_indexer,col_indexer] = value instead\n",
      "\n",
      "See the caveats in the documentation: https://pandas.pydata.org/pandas-docs/stable/user_guide/indexing.html#returning-a-view-versus-a-copy\n",
      "  df_station_ws['temp_anomaly'] = pd.to_numeric(df_station_ws['temp_anomaly'], errors='coerce')\n"
     ]
    }
   ],
   "source": [
    "#thanks to chatgpt\n",
    "\n",
    "# There was invalid data and NaN in the 'temp_anomaly' column that was causing issues with the colormap normalization\n",
    "\n",
    "# converted the 'temp_anomaly' column to a numeric format before using np.isfinite() \n",
    "\n",
    "# Convert the 'temp_anomaly' column to a numeric format (float)\n",
    "df_station_ws['temp_anomaly'] = pd.to_numeric(df_station_ws['temp_anomaly'], errors='coerce')\n",
    "\n",
    "# Filter out rows with NaN values in 'temp_anomaly' column - removing invalid data\n",
    "df_station_ws = df_station_ws.dropna(subset=['temp_anomaly'])\n",
    "\n",
    "# Convert 'temp_anomaly' column to a NumPy array to ensure compatibility with the colormap normalization function.\n",
    "temp_anomaly_values = df_station_ws['temp_anomaly'].values"
   ]
  },
  {
   "cell_type": "code",
   "execution_count": 15,
   "id": "cafc4e3b-3e31-4715-96b2-b3acd5ea9df2",
   "metadata": {},
   "outputs": [
    {
     "data": {
      "image/png": "[encoded data removed]",
      "text/plain": [
       "<Figure size 1279.68x720 with 1 Axes>"
      ]
     },
     "metadata": {},
     "output_type": "display_data"
    }
   ],
   "source": [
    "# Create the figure and axes objects, specify the size and the dots per inches\n",
    "fig, ax = plt.subplots(figsize=(13.33, 7.5), dpi=96)\n",
    "\n",
    "# Colours - Choose the colour map - 8 blues and 8 reds\n",
    "cmap = ListedColormap([\n",
    "    '#08306b', '#08519c', '#2171b5', '#4292c6',\n",
    "    '#6baed6', '#9ecae1', '#c6dbef', '#deebf7',\n",
    "    '#fee0d2', '#fcbba1', '#fc9272', '#fb6a4a',\n",
    "    '#ef3b2c', '#cb181d', '#a50f15', '#67000d'])\n",
    "\n",
    "# linearly normalizes data into the [0.0, 1.0] interval\n",
    "norm = mpl.colors.Normalize(np.min(temp_anomaly_values), np.max(temp_anomaly_values))\n",
    "\n",
    "# Plot bars\n",
    "bar = ax.bar(df_station_ws['year'], 1, color=cmap(norm(temp_anomaly_values)), width=1, zorder=2)"
   ]
  },
  {
   "cell_type": "markdown",
   "id": "d47aa629-320c-4489-be0e-316b2603e2c8",
   "metadata": {},
   "source": [
    "source: https://towardsdatascience.com/visualizing-climate-change-a-step-by-step-guide-to-reproduce-climate-stripes-with-python-ea1d440e8e8d"
   ]
  },
  {
   "cell_type": "code",
   "execution_count": 20,
   "id": "00f650b5-60de-4bb5-9baf-873c89c2fa54",
   "metadata": {},
   "outputs": [
    {
     "data": {
      "image/png": "[encoded data removed]",
      "text/plain": [
       "<Figure size 1279.68x720 with 1 Axes>"
      ]
     },
     "metadata": {},
     "output_type": "display_data"
    }
   ],
   "source": [
    "# Create the figure and axes objects, specify the size and the dots per inches\n",
    "fig, ax = plt.subplots(figsize=(13.33, 7.5), dpi=96)\n",
    "\n",
    "# Colours - Choose the colour map - 8 blues and 8 reds\n",
    "cmap = ListedColormap([\n",
    "    '#08306b', '#08519c', '#2171b5', '#4292c6',\n",
    "    '#6baed6', '#9ecae1', '#c6dbef', '#deebf7',\n",
    "    '#fee0d2', '#fcbba1', '#fc9272', '#fb6a4a',\n",
    "    '#ef3b2c', '#cb181d', '#a50f15', '#67000d'])\n",
    "\n",
    "# linearly normalizes data into the [0.0, 1.0] interval\n",
    "norm = mpl.colors.Normalize(np.min(temp_anomaly_values), np.max(temp_anomaly_values))\n",
    "\n",
    "# Plot bars\n",
    "bar = ax.bar(df_station_ws['year'], 1, color=cmap(norm(temp_anomaly_values)), width=1, zorder=2)\n",
    "\n",
    "# Remove the spines\n",
    "ax.spines[['top', 'left', 'bottom', 'right']].set_visible(False)\n",
    "\n",
    "# Reformat y-axis label and tick labels\n",
    "ax.set_ylabel('', fontsize=12, labelpad=10)\n",
    "ax.set_yticks([])\n",
    "ax.set_ylim([0, 1])\n",
    "\n",
    "# Reformat x-axis label and tick labels\n",
    "ax.set_xlabel('', fontsize=12, labelpad=10)\n",
    "ax.xaxis.set_tick_params(pad=2, labelbottom=True, bottom=True, labelsize=9, labelrotation=45, labelcolor='black')\n",
    "ax.set_xlim([df_station_ws['year'].min() - 1, df_station_ws['year'].max() + 1])\n",
    "\n",
    "# Set graph title\n",
    "ax.set_title('Stockholm Temperature Change (1756-2023)', loc='left', color='black', fontweight=\"bold\", size=16, pad=10)\n",
    "\n",
    "# Adjust the x-axis tick labels to show every few years\n",
    "tick_step = 5\n",
    "xticks = df_station_ws['year'][::tick_step]\n",
    "ax.set_xticks(xticks)\n",
    "\n",
    "# Set background\n",
    "fig.patch.set_facecolor('white')\n",
    "ax.patch.set_facecolor('white')\n",
    "\n",
    "plt.show()"
   ]
  },
  {
   "cell_type": "code",
   "execution_count": null,
   "id": "d1f463e4-d45e-4018-97f2-7643a74c1d20",
   "metadata": {},
   "outputs": [],
   "source": []
  }
 ],
 "metadata": {
  "kernelspec": {
   "display_name": "Python 3 (ipykernel)",
   "language": "python",
   "name": "python3"
  },
  "language_info": {
   "codemirror_mode": {
    "name": "ipython",
    "version": 3
   },
   "file_extension": ".py",
   "mimetype": "text/x-python",
   "name": "python",
   "nbconvert_exporter": "python",
   "pygments_lexer": "ipython3",
   "version": "3.11.4"
  }
 },
 "nbformat": 4,
 "nbformat_minor": 5
}
