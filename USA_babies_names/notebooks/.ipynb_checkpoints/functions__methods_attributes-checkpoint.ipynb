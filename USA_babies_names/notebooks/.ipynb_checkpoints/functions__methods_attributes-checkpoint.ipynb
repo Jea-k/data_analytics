{
 "cells": [
  {
   "cell_type": "markdown",
   "id": "3c06c8eb",
   "metadata": {},
   "source": [
    "### 03_writing_fucntions_create function project_challenege\n"
   ]
  },
  {
   "cell_type": "code",
   "execution_count": 8,
   "id": "34cbceb9",
   "metadata": {},
   "outputs": [],
   "source": [
    "import pandas as pd"
   ]
  },
  {
   "cell_type": "markdown",
   "id": "bd097b4f",
   "metadata": {},
   "source": [
    "The function should\n",
    "- Accept a single year as input value\n",
    "- construct a valid file path\n",
    "- read in the corresponding names dataset\n",
    "- define the correct column index for the data set\n",
    "- output the dataset as a pandas dataframe"
   ]
  },
  {
   "cell_type": "markdown",
   "id": "fe2fd8f1",
   "metadata": {},
   "source": [
    "#### accept a single year as input value"
   ]
  },
  {
   "cell_type": "code",
   "execution_count": 9,
   "id": "e97f3094",
   "metadata": {},
   "outputs": [
    {
     "name": "stdout",
     "output_type": "stream",
     "text": [
      "Type year: 1991\n"
     ]
    }
   ],
   "source": [
    "year = input('Type year: ')"
   ]
  },
  {
   "cell_type": "markdown",
   "id": "5f922b0e",
   "metadata": {},
   "source": [
    "#### construct a valid file path & read in the corresponding names dataset"
   ]
  },
  {
   "cell_type": "code",
   "execution_count": null,
   "id": "04d26b5a",
   "metadata": {},
   "outputs": [],
   "source": [
    "# def make_path(year):\n",
    "#     path = f'./data/yob{year}.txt'\n",
    "#     return path"
   ]
  },
  {
   "cell_type": "code",
   "execution_count": 12,
   "id": "775f589e",
   "metadata": {},
   "outputs": [],
   "source": [
    "def parse_dataset(year):\n",
    "    \n",
    "    path = f'../data/yob{year}.txt'\n",
    "    df = pd.read_csv(path, names = ['name','gender','frequency'])\n",
    "\n",
    "    return df"
   ]
  },
  {
   "cell_type": "markdown",
   "id": "3a7e37d3",
   "metadata": {},
   "source": [
    "#### output the dataset as a pandas dataframe"
   ]
  },
  {
   "cell_type": "code",
   "execution_count": 13,
   "id": "5253feb3",
   "metadata": {},
   "outputs": [
    {
     "data": {
      "text/html": [
       "<div>\n",
       "<style scoped>\n",
       "    .dataframe tbody tr th:only-of-type {\n",
       "        vertical-align: middle;\n",
       "    }\n",
       "\n",
       "    .dataframe tbody tr th {\n",
       "        vertical-align: top;\n",
       "    }\n",
       "\n",
       "    .dataframe thead th {\n",
       "        text-align: right;\n",
       "    }\n",
       "</style>\n",
       "<table border=\"1\" class=\"dataframe\">\n",
       "  <thead>\n",
       "    <tr style=\"text-align: right;\">\n",
       "      <th></th>\n",
       "      <th>name</th>\n",
       "      <th>gender</th>\n",
       "      <th>frequency</th>\n",
       "    </tr>\n",
       "  </thead>\n",
       "  <tbody>\n",
       "    <tr>\n",
       "      <th>0</th>\n",
       "      <td>Ashley</td>\n",
       "      <td>F</td>\n",
       "      <td>43480</td>\n",
       "    </tr>\n",
       "    <tr>\n",
       "      <th>1</th>\n",
       "      <td>Jessica</td>\n",
       "      <td>F</td>\n",
       "      <td>43397</td>\n",
       "    </tr>\n",
       "    <tr>\n",
       "      <th>2</th>\n",
       "      <td>Brittany</td>\n",
       "      <td>F</td>\n",
       "      <td>29090</td>\n",
       "    </tr>\n",
       "    <tr>\n",
       "      <th>3</th>\n",
       "      <td>Amanda</td>\n",
       "      <td>F</td>\n",
       "      <td>28895</td>\n",
       "    </tr>\n",
       "    <tr>\n",
       "      <th>4</th>\n",
       "      <td>Samantha</td>\n",
       "      <td>F</td>\n",
       "      <td>25647</td>\n",
       "    </tr>\n",
       "    <tr>\n",
       "      <th>...</th>\n",
       "      <td>...</td>\n",
       "      <td>...</td>\n",
       "      <td>...</td>\n",
       "    </tr>\n",
       "    <tr>\n",
       "      <th>25108</th>\n",
       "      <td>Zeev</td>\n",
       "      <td>M</td>\n",
       "      <td>5</td>\n",
       "    </tr>\n",
       "    <tr>\n",
       "      <th>25109</th>\n",
       "      <td>Zein</td>\n",
       "      <td>M</td>\n",
       "      <td>5</td>\n",
       "    </tr>\n",
       "    <tr>\n",
       "      <th>25110</th>\n",
       "      <td>Zerick</td>\n",
       "      <td>M</td>\n",
       "      <td>5</td>\n",
       "    </tr>\n",
       "    <tr>\n",
       "      <th>25111</th>\n",
       "      <td>Zeshan</td>\n",
       "      <td>M</td>\n",
       "      <td>5</td>\n",
       "    </tr>\n",
       "    <tr>\n",
       "      <th>25112</th>\n",
       "      <td>Zuhair</td>\n",
       "      <td>M</td>\n",
       "      <td>5</td>\n",
       "    </tr>\n",
       "  </tbody>\n",
       "</table>\n",
       "<p>25113 rows × 3 columns</p>\n",
       "</div>"
      ],
      "text/plain": [
       "           name gender  frequency\n",
       "0        Ashley      F      43480\n",
       "1       Jessica      F      43397\n",
       "2      Brittany      F      29090\n",
       "3        Amanda      F      28895\n",
       "4      Samantha      F      25647\n",
       "...         ...    ...        ...\n",
       "25108      Zeev      M          5\n",
       "25109      Zein      M          5\n",
       "25110    Zerick      M          5\n",
       "25111    Zeshan      M          5\n",
       "25112    Zuhair      M          5\n",
       "\n",
       "[25113 rows x 3 columns]"
      ]
     },
     "execution_count": 13,
     "metadata": {},
     "output_type": "execute_result"
    }
   ],
   "source": [
    "dataset_output = parse_dataset(year)\n",
    "df = pd.DataFrame(dataset_output)\n",
    "df"
   ]
  },
  {
   "cell_type": "markdown",
   "id": "0b63b73a",
   "metadata": {},
   "source": [
    "###  04_methods_project_challenege"
   ]
  },
  {
   "cell_type": "markdown",
   "id": "452bb918",
   "metadata": {},
   "source": [
    "#### Total number of babys in specific years"
   ]
  },
  {
   "cell_type": "code",
   "execution_count": null,
   "id": "03c20c8a",
   "metadata": {},
   "outputs": [],
   "source": [
    "#sum of babies for a specific year\n",
    "sum_babies = dataset_output.sum()['frequency']\n",
    "print(f'Total number of babies in {year} = {sum_babies}')"
   ]
  },
  {
   "cell_type": "markdown",
   "id": "1fb7fc59",
   "metadata": {},
   "source": [
    "#### code to combine datasets for analysis"
   ]
  },
  {
   "cell_type": "code",
   "execution_count": 14,
   "id": "39a0db84",
   "metadata": {},
   "outputs": [],
   "source": [
    "#create an empty df\n",
    "df_final = pd.DataFrame(columns = ['name','gender','frequency']) \n",
    "\n",
    "for year in range(1880,2023):\n",
    "    df_temp = parse_dataset(year)\n",
    "    df_temp['year'] = year\n",
    "    df_final = pd.concat([df_final,df_temp], ignore_index = True)\n"
   ]
  },
  {
   "cell_type": "code",
   "execution_count": 15,
   "id": "eb5c038b",
   "metadata": {},
   "outputs": [
    {
     "data": {
      "text/html": [
       "<div>\n",
       "<style scoped>\n",
       "    .dataframe tbody tr th:only-of-type {\n",
       "        vertical-align: middle;\n",
       "    }\n",
       "\n",
       "    .dataframe tbody tr th {\n",
       "        vertical-align: top;\n",
       "    }\n",
       "\n",
       "    .dataframe thead th {\n",
       "        text-align: right;\n",
       "    }\n",
       "</style>\n",
       "<table border=\"1\" class=\"dataframe\">\n",
       "  <thead>\n",
       "    <tr style=\"text-align: right;\">\n",
       "      <th></th>\n",
       "      <th>name</th>\n",
       "      <th>gender</th>\n",
       "      <th>frequency</th>\n",
       "      <th>year</th>\n",
       "    </tr>\n",
       "  </thead>\n",
       "  <tbody>\n",
       "    <tr>\n",
       "      <th>0</th>\n",
       "      <td>Mary</td>\n",
       "      <td>F</td>\n",
       "      <td>7065</td>\n",
       "      <td>1880.0</td>\n",
       "    </tr>\n",
       "    <tr>\n",
       "      <th>1</th>\n",
       "      <td>Anna</td>\n",
       "      <td>F</td>\n",
       "      <td>2604</td>\n",
       "      <td>1880.0</td>\n",
       "    </tr>\n",
       "    <tr>\n",
       "      <th>2</th>\n",
       "      <td>Emma</td>\n",
       "      <td>F</td>\n",
       "      <td>2003</td>\n",
       "      <td>1880.0</td>\n",
       "    </tr>\n",
       "    <tr>\n",
       "      <th>3</th>\n",
       "      <td>Elizabeth</td>\n",
       "      <td>F</td>\n",
       "      <td>1939</td>\n",
       "      <td>1880.0</td>\n",
       "    </tr>\n",
       "    <tr>\n",
       "      <th>4</th>\n",
       "      <td>Minnie</td>\n",
       "      <td>F</td>\n",
       "      <td>1746</td>\n",
       "      <td>1880.0</td>\n",
       "    </tr>\n",
       "    <tr>\n",
       "      <th>...</th>\n",
       "      <td>...</td>\n",
       "      <td>...</td>\n",
       "      <td>...</td>\n",
       "      <td>...</td>\n",
       "    </tr>\n",
       "    <tr>\n",
       "      <th>2085153</th>\n",
       "      <td>Zuberi</td>\n",
       "      <td>M</td>\n",
       "      <td>5</td>\n",
       "      <td>2022.0</td>\n",
       "    </tr>\n",
       "    <tr>\n",
       "      <th>2085154</th>\n",
       "      <td>Zydn</td>\n",
       "      <td>M</td>\n",
       "      <td>5</td>\n",
       "      <td>2022.0</td>\n",
       "    </tr>\n",
       "    <tr>\n",
       "      <th>2085155</th>\n",
       "      <td>Zylon</td>\n",
       "      <td>M</td>\n",
       "      <td>5</td>\n",
       "      <td>2022.0</td>\n",
       "    </tr>\n",
       "    <tr>\n",
       "      <th>2085156</th>\n",
       "      <td>Zymeer</td>\n",
       "      <td>M</td>\n",
       "      <td>5</td>\n",
       "      <td>2022.0</td>\n",
       "    </tr>\n",
       "    <tr>\n",
       "      <th>2085157</th>\n",
       "      <td>Zymeire</td>\n",
       "      <td>M</td>\n",
       "      <td>5</td>\n",
       "      <td>2022.0</td>\n",
       "    </tr>\n",
       "  </tbody>\n",
       "</table>\n",
       "<p>2085158 rows × 4 columns</p>\n",
       "</div>"
      ],
      "text/plain": [
       "              name gender frequency    year\n",
       "0             Mary      F      7065  1880.0\n",
       "1             Anna      F      2604  1880.0\n",
       "2             Emma      F      2003  1880.0\n",
       "3        Elizabeth      F      1939  1880.0\n",
       "4           Minnie      F      1746  1880.0\n",
       "...            ...    ...       ...     ...\n",
       "2085153     Zuberi      M         5  2022.0\n",
       "2085154       Zydn      M         5  2022.0\n",
       "2085155      Zylon      M         5  2022.0\n",
       "2085156     Zymeer      M         5  2022.0\n",
       "2085157    Zymeire      M         5  2022.0\n",
       "\n",
       "[2085158 rows x 4 columns]"
      ]
     },
     "execution_count": 15,
     "metadata": {},
     "output_type": "execute_result"
    }
   ],
   "source": [
    "df_final"
   ]
  },
  {
   "cell_type": "markdown",
   "id": "74f9b733",
   "metadata": {},
   "source": [
    "#### saving the data file"
   ]
  },
  {
   "cell_type": "code",
   "execution_count": 19,
   "id": "b38ef668",
   "metadata": {},
   "outputs": [],
   "source": [
    "df_final.to_csv('../data/baby_names_all_years.csv', index=False)"
   ]
  },
  {
   "cell_type": "code",
   "execution_count": 21,
   "id": "2372678f",
   "metadata": {},
   "outputs": [
    {
     "data": {
      "text/plain": [
       "name          Zzyzx\n",
       "gender            M\n",
       "frequency     99693\n",
       "year         2022.0\n",
       "dtype: object"
      ]
     },
     "execution_count": 21,
     "metadata": {},
     "output_type": "execute_result"
    }
   ],
   "source": [
    "df_final.sort_values(by='frequency').max()"
   ]
  }
 ],
 "metadata": {
  "kernelspec": {
   "display_name": "Python 3 (ipykernel)",
   "language": "python",
   "name": "python3"
  },
  "language_info": {
   "codemirror_mode": {
    "name": "ipython",
    "version": 3
   },
   "file_extension": ".py",
   "mimetype": "text/x-python",
   "name": "python",
   "nbconvert_exporter": "python",
   "pygments_lexer": "ipython3",
   "version": "3.10.10"
  }
 },
 "nbformat": 4,
 "nbformat_minor": 5
}
