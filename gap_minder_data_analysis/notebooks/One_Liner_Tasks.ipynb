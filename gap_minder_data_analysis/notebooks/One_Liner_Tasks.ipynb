{
 "cells": [
  {
   "cell_type": "markdown",
   "id": "9a16680a",
   "metadata": {},
   "source": [
    "##  Solve aggregation and groupby One-Liners\n"
   ]
  },
  {
   "cell_type": "markdown",
   "id": "6ddea8bf",
   "metadata": {},
   "source": [
    "### Using the gapminder_total dataset solve the following tasks with pandas one-liners:"
   ]
  },
  {
   "cell_type": "code",
   "execution_count": 1,
   "id": "ede20cf6",
   "metadata": {},
   "outputs": [],
   "source": [
    "import pandas as pd"
   ]
  },
  {
   "cell_type": "markdown",
   "id": "5cd53d78",
   "metadata": {},
   "source": [
    "#### 1. Read in data:"
   ]
  },
  {
   "cell_type": "code",
   "execution_count": 2,
   "id": "4c5b1f30",
   "metadata": {},
   "outputs": [],
   "source": [
    "df = pd.read_csv('../../data/gapminder_total.csv')"
   ]
  },
  {
   "cell_type": "code",
   "execution_count": 3,
   "id": "b57fe995",
   "metadata": {},
   "outputs": [
    {
     "data": {
      "text/html": [
       "<div>\n",
       "<style scoped>\n",
       "    .dataframe tbody tr th:only-of-type {\n",
       "        vertical-align: middle;\n",
       "    }\n",
       "\n",
       "    .dataframe tbody tr th {\n",
       "        vertical-align: top;\n",
       "    }\n",
       "\n",
       "    .dataframe thead th {\n",
       "        text-align: right;\n",
       "    }\n",
       "</style>\n",
       "<table border=\"1\" class=\"dataframe\">\n",
       "  <thead>\n",
       "    <tr style=\"text-align: right;\">\n",
       "      <th></th>\n",
       "      <th>country</th>\n",
       "      <th>year</th>\n",
       "      <th>life expectancy</th>\n",
       "      <th>continent</th>\n",
       "      <th>population</th>\n",
       "      <th>fertility</th>\n",
       "    </tr>\n",
       "  </thead>\n",
       "  <tbody>\n",
       "    <tr>\n",
       "      <th>0</th>\n",
       "      <td>Afghanistan</td>\n",
       "      <td>1951</td>\n",
       "      <td>27.13</td>\n",
       "      <td>Asia</td>\n",
       "      <td>7839426.0</td>\n",
       "      <td>7.67</td>\n",
       "    </tr>\n",
       "    <tr>\n",
       "      <th>1</th>\n",
       "      <td>Afghanistan</td>\n",
       "      <td>1952</td>\n",
       "      <td>27.67</td>\n",
       "      <td>Asia</td>\n",
       "      <td>7934798.0</td>\n",
       "      <td>7.67</td>\n",
       "    </tr>\n",
       "    <tr>\n",
       "      <th>2</th>\n",
       "      <td>Afghanistan</td>\n",
       "      <td>1953</td>\n",
       "      <td>28.19</td>\n",
       "      <td>Asia</td>\n",
       "      <td>8038312.0</td>\n",
       "      <td>7.67</td>\n",
       "    </tr>\n",
       "    <tr>\n",
       "      <th>3</th>\n",
       "      <td>Afghanistan</td>\n",
       "      <td>1954</td>\n",
       "      <td>28.73</td>\n",
       "      <td>Asia</td>\n",
       "      <td>8150037.0</td>\n",
       "      <td>7.67</td>\n",
       "    </tr>\n",
       "    <tr>\n",
       "      <th>4</th>\n",
       "      <td>Afghanistan</td>\n",
       "      <td>1955</td>\n",
       "      <td>29.27</td>\n",
       "      <td>Asia</td>\n",
       "      <td>8270024.0</td>\n",
       "      <td>7.67</td>\n",
       "    </tr>\n",
       "    <tr>\n",
       "      <th>...</th>\n",
       "      <td>...</td>\n",
       "      <td>...</td>\n",
       "      <td>...</td>\n",
       "      <td>...</td>\n",
       "      <td>...</td>\n",
       "      <td>...</td>\n",
       "    </tr>\n",
       "    <tr>\n",
       "      <th>10915</th>\n",
       "      <td>Zimbabwe</td>\n",
       "      <td>2011</td>\n",
       "      <td>51.60</td>\n",
       "      <td>Africa</td>\n",
       "      <td>14255592.0</td>\n",
       "      <td>3.64</td>\n",
       "    </tr>\n",
       "    <tr>\n",
       "      <th>10916</th>\n",
       "      <td>Zimbabwe</td>\n",
       "      <td>2012</td>\n",
       "      <td>54.20</td>\n",
       "      <td>Africa</td>\n",
       "      <td>14565482.0</td>\n",
       "      <td>3.56</td>\n",
       "    </tr>\n",
       "    <tr>\n",
       "      <th>10917</th>\n",
       "      <td>Zimbabwe</td>\n",
       "      <td>2013</td>\n",
       "      <td>55.70</td>\n",
       "      <td>Africa</td>\n",
       "      <td>14898092.0</td>\n",
       "      <td>3.49</td>\n",
       "    </tr>\n",
       "    <tr>\n",
       "      <th>10918</th>\n",
       "      <td>Zimbabwe</td>\n",
       "      <td>2014</td>\n",
       "      <td>57.00</td>\n",
       "      <td>Africa</td>\n",
       "      <td>15245855.0</td>\n",
       "      <td>3.41</td>\n",
       "    </tr>\n",
       "    <tr>\n",
       "      <th>10919</th>\n",
       "      <td>Zimbabwe</td>\n",
       "      <td>2015</td>\n",
       "      <td>59.30</td>\n",
       "      <td>Africa</td>\n",
       "      <td>15602751.0</td>\n",
       "      <td>3.35</td>\n",
       "    </tr>\n",
       "  </tbody>\n",
       "</table>\n",
       "<p>10920 rows × 6 columns</p>\n",
       "</div>"
      ],
      "text/plain": [
       "           country  year  life expectancy continent  population  fertility\n",
       "0      Afghanistan  1951            27.13      Asia   7839426.0       7.67\n",
       "1      Afghanistan  1952            27.67      Asia   7934798.0       7.67\n",
       "2      Afghanistan  1953            28.19      Asia   8038312.0       7.67\n",
       "3      Afghanistan  1954            28.73      Asia   8150037.0       7.67\n",
       "4      Afghanistan  1955            29.27      Asia   8270024.0       7.67\n",
       "...            ...   ...              ...       ...         ...        ...\n",
       "10915     Zimbabwe  2011            51.60    Africa  14255592.0       3.64\n",
       "10916     Zimbabwe  2012            54.20    Africa  14565482.0       3.56\n",
       "10917     Zimbabwe  2013            55.70    Africa  14898092.0       3.49\n",
       "10918     Zimbabwe  2014            57.00    Africa  15245855.0       3.41\n",
       "10919     Zimbabwe  2015            59.30    Africa  15602751.0       3.35\n",
       "\n",
       "[10920 rows x 6 columns]"
      ]
     },
     "execution_count": 3,
     "metadata": {},
     "output_type": "execute_result"
    }
   ],
   "source": [
    "df"
   ]
  },
  {
   "cell_type": "markdown",
   "id": "7c7d10aa",
   "metadata": {},
   "source": [
    "#### 2. What is the median population in the data set?"
   ]
  },
  {
   "cell_type": "code",
   "execution_count": 4,
   "id": "c0bc0f8e",
   "metadata": {},
   "outputs": [
    {
     "data": {
      "text/plain": [
       "5242045.0"
      ]
     },
     "execution_count": 4,
     "metadata": {},
     "output_type": "execute_result"
    }
   ],
   "source": [
    "df_median_pop = df['population'].median()\n",
    "df_median_pop"
   ]
  },
  {
   "cell_type": "markdown",
   "id": "68951000",
   "metadata": {},
   "source": [
    "#### How often does each continent appear in the data set?"
   ]
  },
  {
   "cell_type": "code",
   "execution_count": 5,
   "id": "e423beaf",
   "metadata": {},
   "outputs": [
    {
     "data": {
      "text/plain": [
       "continent\n",
       "Africa                   3185\n",
       "Europe                   2600\n",
       "Asia                     2535\n",
       "North America            1235\n",
       "South America             780\n",
       "Australia and Oceania     585\n",
       "Name: count, dtype: int64"
      ]
     },
     "execution_count": 5,
     "metadata": {},
     "output_type": "execute_result"
    }
   ],
   "source": [
    "df_continent_count = df['continent'].value_counts()\n",
    "df_continent_count"
   ]
  },
  {
   "cell_type": "markdown",
   "id": "6ac83688",
   "metadata": {},
   "source": [
    "#### 4. Which continent has the lowest average fertility rate overall?"
   ]
  },
  {
   "cell_type": "code",
   "execution_count": 6,
   "id": "9e4a6ed3",
   "metadata": {},
   "outputs": [
    {
     "data": {
      "text/plain": [
       "continent\n",
       "Africa                   5.923479\n",
       "Asia                     4.650813\n",
       "Australia and Oceania    4.662256\n",
       "Europe                   2.155885\n",
       "North America            3.978445\n",
       "South America            4.051987\n",
       "Name: fertility, dtype: float64"
      ]
     },
     "execution_count": 6,
     "metadata": {},
     "output_type": "execute_result"
    }
   ],
   "source": [
    "df_low_f = df.groupby(['continent'])['fertility'].mean()\n",
    "df_low_f "
   ]
  },
  {
   "cell_type": "code",
   "execution_count": 7,
   "id": "e65b9ad5",
   "metadata": {},
   "outputs": [
    {
     "data": {
      "text/plain": [
       "'Europe'"
      ]
     },
     "execution_count": 7,
     "metadata": {},
     "output_type": "execute_result"
    }
   ],
   "source": [
    "df_low_f = df_low_f.idxmin() #idxmin() gets the index position/label of min value\n",
    "df_low_f"
   ]
  },
  {
   "cell_type": "markdown",
   "id": "53161877",
   "metadata": {},
   "source": [
    "#### 5. What was the average life expectancy in Europe in 2015? Hint: first filter for 2015 then apply groupby."
   ]
  },
  {
   "cell_type": "code",
   "execution_count": 8,
   "id": "0703e9dd",
   "metadata": {},
   "outputs": [
    {
     "data": {
      "text/html": [
       "<div>\n",
       "<style scoped>\n",
       "    .dataframe tbody tr th:only-of-type {\n",
       "        vertical-align: middle;\n",
       "    }\n",
       "\n",
       "    .dataframe tbody tr th {\n",
       "        vertical-align: top;\n",
       "    }\n",
       "\n",
       "    .dataframe thead th {\n",
       "        text-align: right;\n",
       "    }\n",
       "</style>\n",
       "<table border=\"1\" class=\"dataframe\">\n",
       "  <thead>\n",
       "    <tr style=\"text-align: right;\">\n",
       "      <th></th>\n",
       "      <th>country</th>\n",
       "      <th>year</th>\n",
       "      <th>life expectancy</th>\n",
       "      <th>continent</th>\n",
       "      <th>population</th>\n",
       "      <th>fertility</th>\n",
       "    </tr>\n",
       "  </thead>\n",
       "  <tbody>\n",
       "    <tr>\n",
       "      <th>64</th>\n",
       "      <td>Afghanistan</td>\n",
       "      <td>2015</td>\n",
       "      <td>53.8</td>\n",
       "      <td>Asia</td>\n",
       "      <td>32526562.0</td>\n",
       "      <td>4.47</td>\n",
       "    </tr>\n",
       "    <tr>\n",
       "      <th>129</th>\n",
       "      <td>Albania</td>\n",
       "      <td>2015</td>\n",
       "      <td>78.0</td>\n",
       "      <td>Europe</td>\n",
       "      <td>2896679.0</td>\n",
       "      <td>1.78</td>\n",
       "    </tr>\n",
       "    <tr>\n",
       "      <th>194</th>\n",
       "      <td>Algeria</td>\n",
       "      <td>2015</td>\n",
       "      <td>76.4</td>\n",
       "      <td>Africa</td>\n",
       "      <td>39666519.0</td>\n",
       "      <td>2.71</td>\n",
       "    </tr>\n",
       "    <tr>\n",
       "      <th>259</th>\n",
       "      <td>Angola</td>\n",
       "      <td>2015</td>\n",
       "      <td>59.6</td>\n",
       "      <td>Africa</td>\n",
       "      <td>25021974.0</td>\n",
       "      <td>5.65</td>\n",
       "    </tr>\n",
       "    <tr>\n",
       "      <th>324</th>\n",
       "      <td>Antigua and Barbuda</td>\n",
       "      <td>2015</td>\n",
       "      <td>76.4</td>\n",
       "      <td>North America</td>\n",
       "      <td>91818.0</td>\n",
       "      <td>2.06</td>\n",
       "    </tr>\n",
       "    <tr>\n",
       "      <th>...</th>\n",
       "      <td>...</td>\n",
       "      <td>...</td>\n",
       "      <td>...</td>\n",
       "      <td>...</td>\n",
       "      <td>...</td>\n",
       "      <td>...</td>\n",
       "    </tr>\n",
       "    <tr>\n",
       "      <th>10659</th>\n",
       "      <td>Venezuela</td>\n",
       "      <td>2015</td>\n",
       "      <td>74.8</td>\n",
       "      <td>South America</td>\n",
       "      <td>31108083.0</td>\n",
       "      <td>2.34</td>\n",
       "    </tr>\n",
       "    <tr>\n",
       "      <th>10724</th>\n",
       "      <td>Vietnam</td>\n",
       "      <td>2015</td>\n",
       "      <td>75.4</td>\n",
       "      <td>Asia</td>\n",
       "      <td>93447601.0</td>\n",
       "      <td>1.70</td>\n",
       "    </tr>\n",
       "    <tr>\n",
       "      <th>10789</th>\n",
       "      <td>Yemen</td>\n",
       "      <td>2015</td>\n",
       "      <td>66.0</td>\n",
       "      <td>Asia</td>\n",
       "      <td>26832215.0</td>\n",
       "      <td>3.83</td>\n",
       "    </tr>\n",
       "    <tr>\n",
       "      <th>10854</th>\n",
       "      <td>Zambia</td>\n",
       "      <td>2015</td>\n",
       "      <td>56.7</td>\n",
       "      <td>Africa</td>\n",
       "      <td>16211767.0</td>\n",
       "      <td>5.59</td>\n",
       "    </tr>\n",
       "    <tr>\n",
       "      <th>10919</th>\n",
       "      <td>Zimbabwe</td>\n",
       "      <td>2015</td>\n",
       "      <td>59.3</td>\n",
       "      <td>Africa</td>\n",
       "      <td>15602751.0</td>\n",
       "      <td>3.35</td>\n",
       "    </tr>\n",
       "  </tbody>\n",
       "</table>\n",
       "<p>168 rows × 6 columns</p>\n",
       "</div>"
      ],
      "text/plain": [
       "                   country  year  life expectancy      continent  population  \\\n",
       "64             Afghanistan  2015             53.8           Asia  32526562.0   \n",
       "129                Albania  2015             78.0         Europe   2896679.0   \n",
       "194                Algeria  2015             76.4         Africa  39666519.0   \n",
       "259                 Angola  2015             59.6         Africa  25021974.0   \n",
       "324    Antigua and Barbuda  2015             76.4  North America     91818.0   \n",
       "...                    ...   ...              ...            ...         ...   \n",
       "10659            Venezuela  2015             74.8  South America  31108083.0   \n",
       "10724              Vietnam  2015             75.4           Asia  93447601.0   \n",
       "10789                Yemen  2015             66.0           Asia  26832215.0   \n",
       "10854               Zambia  2015             56.7         Africa  16211767.0   \n",
       "10919             Zimbabwe  2015             59.3         Africa  15602751.0   \n",
       "\n",
       "       fertility  \n",
       "64          4.47  \n",
       "129         1.78  \n",
       "194         2.71  \n",
       "259         5.65  \n",
       "324         2.06  \n",
       "...          ...  \n",
       "10659       2.34  \n",
       "10724       1.70  \n",
       "10789       3.83  \n",
       "10854       5.59  \n",
       "10919       3.35  \n",
       "\n",
       "[168 rows x 6 columns]"
      ]
     },
     "execution_count": 8,
     "metadata": {},
     "output_type": "execute_result"
    }
   ],
   "source": [
    "df_2015 = df[df['year'] == 2015]\n",
    "df_2015"
   ]
  },
  {
   "cell_type": "code",
   "execution_count": 9,
   "id": "6348a553",
   "metadata": {},
   "outputs": [
    {
     "data": {
      "text/plain": [
       "continent\n",
       "Africa                   63.410204\n",
       "Asia                     73.933333\n",
       "Australia and Oceania    69.666667\n",
       "Europe                   78.755000\n",
       "North America            75.152632\n",
       "South America            75.141667\n",
       "Name: life expectancy, dtype: float64"
      ]
     },
     "execution_count": 9,
     "metadata": {},
     "output_type": "execute_result"
    }
   ],
   "source": [
    "avg_life_exp = df_2015.groupby(['continent'])['life expectancy'].mean()\n",
    "avg_life_exp"
   ]
  },
  {
   "cell_type": "code",
   "execution_count": 10,
   "id": "7fbab5e2",
   "metadata": {},
   "outputs": [
    {
     "data": {
      "text/plain": [
       "78.755"
      ]
     },
     "execution_count": 10,
     "metadata": {},
     "output_type": "execute_result"
    }
   ],
   "source": [
    "avg_life_exp_eu = avg_life_exp['Europe']\n",
    "avg_life_exp_eu"
   ]
  },
  {
   "cell_type": "markdown",
   "id": "cb418e93",
   "metadata": {},
   "source": [
    "#### 6. How many countries does each continent have in the dataset? Hint: filter for one year and count"
   ]
  },
  {
   "cell_type": "code",
   "execution_count": 11,
   "id": "7a1c2155",
   "metadata": {},
   "outputs": [
    {
     "data": {
      "text/plain": [
       "continent\n",
       "Africa                   49\n",
       "Asia                     39\n",
       "Australia and Oceania     9\n",
       "Europe                   40\n",
       "North America            19\n",
       "South America            12\n",
       "dtype: int64"
      ]
     },
     "execution_count": 11,
     "metadata": {},
     "output_type": "execute_result"
    }
   ],
   "source": [
    "df_num_countries = df_2015.groupby('continent').size()\n",
    "df_num_countries"
   ]
  },
  {
   "cell_type": "markdown",
   "id": "83b7f290",
   "metadata": {},
   "source": [
    "#### 7. What is the average population of a European country in 1976 compare to 2015? Hint: once again filter for the year in question and do each year separately to compare"
   ]
  },
  {
   "cell_type": "code",
   "execution_count": 12,
   "id": "61a166d0",
   "metadata": {},
   "outputs": [
    {
     "data": {
      "text/html": [
       "<div>\n",
       "<style scoped>\n",
       "    .dataframe tbody tr th:only-of-type {\n",
       "        vertical-align: middle;\n",
       "    }\n",
       "\n",
       "    .dataframe tbody tr th {\n",
       "        vertical-align: top;\n",
       "    }\n",
       "\n",
       "    .dataframe thead th {\n",
       "        text-align: right;\n",
       "    }\n",
       "</style>\n",
       "<table border=\"1\" class=\"dataframe\">\n",
       "  <thead>\n",
       "    <tr style=\"text-align: right;\">\n",
       "      <th></th>\n",
       "      <th>country</th>\n",
       "      <th>year</th>\n",
       "      <th>life expectancy</th>\n",
       "      <th>continent</th>\n",
       "      <th>population</th>\n",
       "      <th>fertility</th>\n",
       "    </tr>\n",
       "  </thead>\n",
       "  <tbody>\n",
       "    <tr>\n",
       "      <th>25</th>\n",
       "      <td>Afghanistan</td>\n",
       "      <td>1976</td>\n",
       "      <td>40.07</td>\n",
       "      <td>Asia</td>\n",
       "      <td>12831361.0</td>\n",
       "      <td>7.67</td>\n",
       "    </tr>\n",
       "    <tr>\n",
       "      <th>90</th>\n",
       "      <td>Albania</td>\n",
       "      <td>1976</td>\n",
       "      <td>70.17</td>\n",
       "      <td>Europe</td>\n",
       "      <td>2464338.0</td>\n",
       "      <td>4.24</td>\n",
       "    </tr>\n",
       "    <tr>\n",
       "      <th>155</th>\n",
       "      <td>Algeria</td>\n",
       "      <td>1976</td>\n",
       "      <td>56.11</td>\n",
       "      <td>Africa</td>\n",
       "      <td>17190236.0</td>\n",
       "      <td>7.34</td>\n",
       "    </tr>\n",
       "    <tr>\n",
       "      <th>220</th>\n",
       "      <td>Angola</td>\n",
       "      <td>1976</td>\n",
       "      <td>44.68</td>\n",
       "      <td>Africa</td>\n",
       "      <td>7299508.0</td>\n",
       "      <td>7.19</td>\n",
       "    </tr>\n",
       "    <tr>\n",
       "      <th>285</th>\n",
       "      <td>Antigua and Barbuda</td>\n",
       "      <td>1976</td>\n",
       "      <td>69.32</td>\n",
       "      <td>North America</td>\n",
       "      <td>69782.0</td>\n",
       "      <td>2.51</td>\n",
       "    </tr>\n",
       "    <tr>\n",
       "      <th>...</th>\n",
       "      <td>...</td>\n",
       "      <td>...</td>\n",
       "      <td>...</td>\n",
       "      <td>...</td>\n",
       "      <td>...</td>\n",
       "      <td>...</td>\n",
       "    </tr>\n",
       "    <tr>\n",
       "      <th>10620</th>\n",
       "      <td>Venezuela</td>\n",
       "      <td>1976</td>\n",
       "      <td>68.23</td>\n",
       "      <td>South America</td>\n",
       "      <td>13739142.0</td>\n",
       "      <td>4.57</td>\n",
       "    </tr>\n",
       "    <tr>\n",
       "      <th>10685</th>\n",
       "      <td>Vietnam</td>\n",
       "      <td>1976</td>\n",
       "      <td>62.07</td>\n",
       "      <td>Asia</td>\n",
       "      <td>49808071.0</td>\n",
       "      <td>5.80</td>\n",
       "    </tr>\n",
       "    <tr>\n",
       "      <th>10750</th>\n",
       "      <td>Yemen</td>\n",
       "      <td>1976</td>\n",
       "      <td>47.05</td>\n",
       "      <td>Asia</td>\n",
       "      <td>6994840.0</td>\n",
       "      <td>8.28</td>\n",
       "    </tr>\n",
       "    <tr>\n",
       "      <th>10815</th>\n",
       "      <td>Zambia</td>\n",
       "      <td>1976</td>\n",
       "      <td>57.07</td>\n",
       "      <td>Africa</td>\n",
       "      <td>5160570.0</td>\n",
       "      <td>7.41</td>\n",
       "    </tr>\n",
       "    <tr>\n",
       "      <th>10880</th>\n",
       "      <td>Zimbabwe</td>\n",
       "      <td>1976</td>\n",
       "      <td>59.94</td>\n",
       "      <td>Africa</td>\n",
       "      <td>6373956.0</td>\n",
       "      <td>7.37</td>\n",
       "    </tr>\n",
       "  </tbody>\n",
       "</table>\n",
       "<p>168 rows × 6 columns</p>\n",
       "</div>"
      ],
      "text/plain": [
       "                   country  year  life expectancy      continent  population  \\\n",
       "25             Afghanistan  1976            40.07           Asia  12831361.0   \n",
       "90                 Albania  1976            70.17         Europe   2464338.0   \n",
       "155                Algeria  1976            56.11         Africa  17190236.0   \n",
       "220                 Angola  1976            44.68         Africa   7299508.0   \n",
       "285    Antigua and Barbuda  1976            69.32  North America     69782.0   \n",
       "...                    ...   ...              ...            ...         ...   \n",
       "10620            Venezuela  1976            68.23  South America  13739142.0   \n",
       "10685              Vietnam  1976            62.07           Asia  49808071.0   \n",
       "10750                Yemen  1976            47.05           Asia   6994840.0   \n",
       "10815               Zambia  1976            57.07         Africa   5160570.0   \n",
       "10880             Zimbabwe  1976            59.94         Africa   6373956.0   \n",
       "\n",
       "       fertility  \n",
       "25          7.67  \n",
       "90          4.24  \n",
       "155         7.34  \n",
       "220         7.19  \n",
       "285         2.51  \n",
       "...          ...  \n",
       "10620       4.57  \n",
       "10685       5.80  \n",
       "10750       8.28  \n",
       "10815       7.41  \n",
       "10880       7.37  \n",
       "\n",
       "[168 rows x 6 columns]"
      ]
     },
     "execution_count": 12,
     "metadata": {},
     "output_type": "execute_result"
    }
   ],
   "source": [
    "df_1976 = df[df['year'] == 1976]\n",
    "df_1976"
   ]
  },
  {
   "cell_type": "code",
   "execution_count": 13,
   "id": "c3be6300",
   "metadata": {},
   "outputs": [
    {
     "data": {
      "text/plain": [
       "13840493.8"
      ]
     },
     "execution_count": 13,
     "metadata": {},
     "output_type": "execute_result"
    }
   ],
   "source": [
    "avg_pop_1976 = df_1976.groupby(['continent'])['population'].mean()\n",
    "avg_pop_eu_1976 = avg_pop_1976['Europe']\n",
    "avg_pop_eu_1976"
   ]
  },
  {
   "cell_type": "code",
   "execution_count": null,
   "id": "a7156b34",
   "metadata": {},
   "outputs": [],
   "source": []
  },
  {
   "cell_type": "code",
   "execution_count": 14,
   "id": "3d0d274e",
   "metadata": {},
   "outputs": [
    {
     "data": {
      "text/html": [
       "<div>\n",
       "<style scoped>\n",
       "    .dataframe tbody tr th:only-of-type {\n",
       "        vertical-align: middle;\n",
       "    }\n",
       "\n",
       "    .dataframe tbody tr th {\n",
       "        vertical-align: top;\n",
       "    }\n",
       "\n",
       "    .dataframe thead th {\n",
       "        text-align: right;\n",
       "    }\n",
       "</style>\n",
       "<table border=\"1\" class=\"dataframe\">\n",
       "  <thead>\n",
       "    <tr style=\"text-align: right;\">\n",
       "      <th></th>\n",
       "      <th>country</th>\n",
       "      <th>year</th>\n",
       "      <th>life expectancy</th>\n",
       "      <th>continent</th>\n",
       "      <th>population</th>\n",
       "      <th>fertility</th>\n",
       "    </tr>\n",
       "  </thead>\n",
       "  <tbody>\n",
       "    <tr>\n",
       "      <th>64</th>\n",
       "      <td>Afghanistan</td>\n",
       "      <td>2015</td>\n",
       "      <td>53.8</td>\n",
       "      <td>Asia</td>\n",
       "      <td>32526562.0</td>\n",
       "      <td>4.47</td>\n",
       "    </tr>\n",
       "    <tr>\n",
       "      <th>129</th>\n",
       "      <td>Albania</td>\n",
       "      <td>2015</td>\n",
       "      <td>78.0</td>\n",
       "      <td>Europe</td>\n",
       "      <td>2896679.0</td>\n",
       "      <td>1.78</td>\n",
       "    </tr>\n",
       "    <tr>\n",
       "      <th>194</th>\n",
       "      <td>Algeria</td>\n",
       "      <td>2015</td>\n",
       "      <td>76.4</td>\n",
       "      <td>Africa</td>\n",
       "      <td>39666519.0</td>\n",
       "      <td>2.71</td>\n",
       "    </tr>\n",
       "    <tr>\n",
       "      <th>259</th>\n",
       "      <td>Angola</td>\n",
       "      <td>2015</td>\n",
       "      <td>59.6</td>\n",
       "      <td>Africa</td>\n",
       "      <td>25021974.0</td>\n",
       "      <td>5.65</td>\n",
       "    </tr>\n",
       "    <tr>\n",
       "      <th>324</th>\n",
       "      <td>Antigua and Barbuda</td>\n",
       "      <td>2015</td>\n",
       "      <td>76.4</td>\n",
       "      <td>North America</td>\n",
       "      <td>91818.0</td>\n",
       "      <td>2.06</td>\n",
       "    </tr>\n",
       "    <tr>\n",
       "      <th>...</th>\n",
       "      <td>...</td>\n",
       "      <td>...</td>\n",
       "      <td>...</td>\n",
       "      <td>...</td>\n",
       "      <td>...</td>\n",
       "      <td>...</td>\n",
       "    </tr>\n",
       "    <tr>\n",
       "      <th>10659</th>\n",
       "      <td>Venezuela</td>\n",
       "      <td>2015</td>\n",
       "      <td>74.8</td>\n",
       "      <td>South America</td>\n",
       "      <td>31108083.0</td>\n",
       "      <td>2.34</td>\n",
       "    </tr>\n",
       "    <tr>\n",
       "      <th>10724</th>\n",
       "      <td>Vietnam</td>\n",
       "      <td>2015</td>\n",
       "      <td>75.4</td>\n",
       "      <td>Asia</td>\n",
       "      <td>93447601.0</td>\n",
       "      <td>1.70</td>\n",
       "    </tr>\n",
       "    <tr>\n",
       "      <th>10789</th>\n",
       "      <td>Yemen</td>\n",
       "      <td>2015</td>\n",
       "      <td>66.0</td>\n",
       "      <td>Asia</td>\n",
       "      <td>26832215.0</td>\n",
       "      <td>3.83</td>\n",
       "    </tr>\n",
       "    <tr>\n",
       "      <th>10854</th>\n",
       "      <td>Zambia</td>\n",
       "      <td>2015</td>\n",
       "      <td>56.7</td>\n",
       "      <td>Africa</td>\n",
       "      <td>16211767.0</td>\n",
       "      <td>5.59</td>\n",
       "    </tr>\n",
       "    <tr>\n",
       "      <th>10919</th>\n",
       "      <td>Zimbabwe</td>\n",
       "      <td>2015</td>\n",
       "      <td>59.3</td>\n",
       "      <td>Africa</td>\n",
       "      <td>15602751.0</td>\n",
       "      <td>3.35</td>\n",
       "    </tr>\n",
       "  </tbody>\n",
       "</table>\n",
       "<p>168 rows × 6 columns</p>\n",
       "</div>"
      ],
      "text/plain": [
       "                   country  year  life expectancy      continent  population  \\\n",
       "64             Afghanistan  2015             53.8           Asia  32526562.0   \n",
       "129                Albania  2015             78.0         Europe   2896679.0   \n",
       "194                Algeria  2015             76.4         Africa  39666519.0   \n",
       "259                 Angola  2015             59.6         Africa  25021974.0   \n",
       "324    Antigua and Barbuda  2015             76.4  North America     91818.0   \n",
       "...                    ...   ...              ...            ...         ...   \n",
       "10659            Venezuela  2015             74.8  South America  31108083.0   \n",
       "10724              Vietnam  2015             75.4           Asia  93447601.0   \n",
       "10789                Yemen  2015             66.0           Asia  26832215.0   \n",
       "10854               Zambia  2015             56.7         Africa  16211767.0   \n",
       "10919             Zimbabwe  2015             59.3         Africa  15602751.0   \n",
       "\n",
       "       fertility  \n",
       "64          4.47  \n",
       "129         1.78  \n",
       "194         2.71  \n",
       "259         5.65  \n",
       "324         2.06  \n",
       "...          ...  \n",
       "10659       2.34  \n",
       "10724       1.70  \n",
       "10789       3.83  \n",
       "10854       5.59  \n",
       "10919       3.35  \n",
       "\n",
       "[168 rows x 6 columns]"
      ]
     },
     "execution_count": 14,
     "metadata": {},
     "output_type": "execute_result"
    }
   ],
   "source": [
    "df_2015"
   ]
  },
  {
   "cell_type": "code",
   "execution_count": 15,
   "id": "1ed5f185",
   "metadata": {},
   "outputs": [
    {
     "data": {
      "text/plain": [
       "15122675.725"
      ]
     },
     "execution_count": 15,
     "metadata": {},
     "output_type": "execute_result"
    }
   ],
   "source": [
    "avg_pop_2015 = df_2015.groupby(['continent'])['population'].mean()\n",
    "avg_pop_eu_2015 = avg_pop_2015['Europe']\n",
    "avg_pop_eu_2015"
   ]
  },
  {
   "cell_type": "code",
   "execution_count": 16,
   "id": "68dfce7e",
   "metadata": {},
   "outputs": [
    {
     "name": "stdout",
     "output_type": "stream",
     "text": [
      "Average population of EU countries in 1976:  13840493.8\n",
      "Average population of EU countries in 2015:  15122675.725\n"
     ]
    }
   ],
   "source": [
    "#compare\n",
    "print('Average population of EU countries in 1976: ', avg_pop_eu_1976)\n",
    "print('Average population of EU countries in 2015: ', avg_pop_eu_2015)"
   ]
  },
  {
   "cell_type": "markdown",
   "id": "817db9eb",
   "metadata": {},
   "source": [
    "#### # 8. What is the highest population a continent ever had? Hint: group by multiple columns"
   ]
  },
  {
   "cell_type": "code",
   "execution_count": 17,
   "id": "89ecb9d4",
   "metadata": {},
   "outputs": [
    {
     "data": {
      "text/plain": [
       "1376048943.0"
      ]
     },
     "execution_count": 17,
     "metadata": {},
     "output_type": "execute_result"
    }
   ],
   "source": [
    "highest_pop = df.groupby(['continent'])[['population']].max()\n",
    "highest_pop['population'].max()"
   ]
  },
  {
   "cell_type": "markdown",
   "id": "ec58de82",
   "metadata": {},
   "source": [
    "#### 9. Which continent had that population and in which year? Hint: group by multiple columns and filter for the result from #6"
   ]
  },
  {
   "cell_type": "code",
   "execution_count": 18,
   "id": "d4f210cf",
   "metadata": {},
   "outputs": [
    {
     "data": {
      "text/html": [
       "<div>\n",
       "<style scoped>\n",
       "    .dataframe tbody tr th:only-of-type {\n",
       "        vertical-align: middle;\n",
       "    }\n",
       "\n",
       "    .dataframe tbody tr th {\n",
       "        vertical-align: top;\n",
       "    }\n",
       "\n",
       "    .dataframe thead th {\n",
       "        text-align: right;\n",
       "    }\n",
       "</style>\n",
       "<table border=\"1\" class=\"dataframe\">\n",
       "  <thead>\n",
       "    <tr style=\"text-align: right;\">\n",
       "      <th></th>\n",
       "      <th></th>\n",
       "      <th>population</th>\n",
       "    </tr>\n",
       "    <tr>\n",
       "      <th>continent</th>\n",
       "      <th>year</th>\n",
       "      <th></th>\n",
       "    </tr>\n",
       "  </thead>\n",
       "  <tbody>\n",
       "    <tr>\n",
       "      <th rowspan=\"5\" valign=\"top\">Africa</th>\n",
       "      <th>1951</th>\n",
       "      <td>38431323.0</td>\n",
       "    </tr>\n",
       "    <tr>\n",
       "      <th>1952</th>\n",
       "      <td>39049831.0</td>\n",
       "    </tr>\n",
       "    <tr>\n",
       "      <th>1953</th>\n",
       "      <td>39707796.0</td>\n",
       "    </tr>\n",
       "    <tr>\n",
       "      <th>1954</th>\n",
       "      <td>40399771.0</td>\n",
       "    </tr>\n",
       "    <tr>\n",
       "      <th>1955</th>\n",
       "      <td>41122333.0</td>\n",
       "    </tr>\n",
       "    <tr>\n",
       "      <th>...</th>\n",
       "      <th>...</th>\n",
       "      <td>...</td>\n",
       "    </tr>\n",
       "    <tr>\n",
       "      <th rowspan=\"5\" valign=\"top\">South America</th>\n",
       "      <th>2011</th>\n",
       "      <td>200517584.0</td>\n",
       "    </tr>\n",
       "    <tr>\n",
       "      <th>2012</th>\n",
       "      <td>202401584.0</td>\n",
       "    </tr>\n",
       "    <tr>\n",
       "      <th>2013</th>\n",
       "      <td>204259377.0</td>\n",
       "    </tr>\n",
       "    <tr>\n",
       "      <th>2014</th>\n",
       "      <td>206077898.0</td>\n",
       "    </tr>\n",
       "    <tr>\n",
       "      <th>2015</th>\n",
       "      <td>207847528.0</td>\n",
       "    </tr>\n",
       "  </tbody>\n",
       "</table>\n",
       "<p>390 rows × 1 columns</p>\n",
       "</div>"
      ],
      "text/plain": [
       "                     population\n",
       "continent     year             \n",
       "Africa        1951   38431323.0\n",
       "              1952   39049831.0\n",
       "              1953   39707796.0\n",
       "              1954   40399771.0\n",
       "              1955   41122333.0\n",
       "...                         ...\n",
       "South America 2011  200517584.0\n",
       "              2012  202401584.0\n",
       "              2013  204259377.0\n",
       "              2014  206077898.0\n",
       "              2015  207847528.0\n",
       "\n",
       "[390 rows x 1 columns]"
      ]
     },
     "execution_count": 18,
     "metadata": {},
     "output_type": "execute_result"
    }
   ],
   "source": [
    "high_pop_continent = df.groupby(['continent','year'])[['population']].max()\n",
    "high_pop_continent"
   ]
  },
  {
   "cell_type": "code",
   "execution_count": 19,
   "id": "ff94e2c8",
   "metadata": {},
   "outputs": [
    {
     "data": {
      "text/plain": [
       "population    (Asia, 2015)\n",
       "dtype: object"
      ]
     },
     "execution_count": 19,
     "metadata": {},
     "output_type": "execute_result"
    }
   ],
   "source": [
    "high_pop_continent.idxmax()"
   ]
  },
  {
   "cell_type": "markdown",
   "id": "2db4180e",
   "metadata": {},
   "source": [
    "#### # 10. Plot a bar plot comparison of life_expectancy, fertility, population average per continent\n",
    "#### Hint: for a quick and dirty graph use Pandas ploting ability\n",
    "#### Hint: use log=True to make the visual more friendly to the eyes"
   ]
  },
  {
   "cell_type": "markdown",
   "id": "aeef892b",
   "metadata": {},
   "source": []
  },
  {
   "cell_type": "code",
   "execution_count": 28,
   "id": "f2158872",
   "metadata": {},
   "outputs": [
    {
     "data": {
      "image/png": "[encoded data removed]",
      "text/plain": [
       "<Figure size 1500x600 with 1 Axes>"
      ]
     },
     "metadata": {},
     "output_type": "display_data"
    }
   ],
   "source": [
    "agg_dict = {'life expectancy': 'mean', 'fertility': 'mean', 'population': 'mean'}\n",
    "averages = df.groupby('continent').agg(agg_dict)\n",
    "# averages\n",
    "averages.plot(kind='bar', figsize=(15, 6),\n",
    "             log=True);\n"
   ]
  },
  {
   "cell_type": "code",
   "execution_count": null,
   "id": "58bc162c",
   "metadata": {},
   "outputs": [],
   "source": []
  }
 ],
 "metadata": {
  "kernelspec": {
   "display_name": "Python 3 (ipykernel)",
   "language": "python",
   "name": "python3"
  },
  "language_info": {
   "codemirror_mode": {
    "name": "ipython",
    "version": 3
   },
   "file_extension": ".py",
   "mimetype": "text/x-python",
   "name": "python",
   "nbconvert_exporter": "python",
   "pygments_lexer": "ipython3",
   "version": "3.10.10"
  }
 },
 "nbformat": 4,
 "nbformat_minor": 5
}
