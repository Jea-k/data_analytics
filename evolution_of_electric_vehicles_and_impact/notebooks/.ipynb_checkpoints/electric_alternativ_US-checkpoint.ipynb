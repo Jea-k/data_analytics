{
 "cells": [
  {
   "cell_type": "code",
   "execution_count": 1,
   "id": "3edd0b65-4931-47c4-ad58-0eab80f65f16",
   "metadata": {},
   "outputs": [],
   "source": [
    "import pandas as pd\n",
    "import matplotlib.pyplot as plt\n",
    "import seaborn as sns"
   ]
  },
  {
   "cell_type": "code",
   "execution_count": 62,
   "id": "46723879-69bc-4829-9efe-fdd50d4e9b83",
   "metadata": {},
   "outputs": [],
   "source": [
    "df_ev_alt_us = pd.read_csv('../data/Electric_alternative_fuel_vehicles_us/Alternative Fuel Vehicles US.csv')"
   ]
  },
  {
   "cell_type": "code",
   "execution_count": 63,
   "id": "6b3e2ff5-6760-434f-a2d0-f06550a0f3ea",
   "metadata": {},
   "outputs": [
    {
     "data": {
      "text/html": [
       "<div>\n",
       "<style scoped>\n",
       "    .dataframe tbody tr th:only-of-type {\n",
       "        vertical-align: middle;\n",
       "    }\n",
       "\n",
       "    .dataframe tbody tr th {\n",
       "        vertical-align: top;\n",
       "    }\n",
       "\n",
       "    .dataframe thead th {\n",
       "        text-align: right;\n",
       "    }\n",
       "</style>\n",
       "<table border=\"1\" class=\"dataframe\">\n",
       "  <thead>\n",
       "    <tr style=\"text-align: right;\">\n",
       "      <th></th>\n",
       "      <th>Category</th>\n",
       "      <th>Model</th>\n",
       "      <th>Model Year</th>\n",
       "      <th>Manufacturer</th>\n",
       "      <th>Fuel</th>\n",
       "      <th>All-Electric Range</th>\n",
       "      <th>PHEV Total Range</th>\n",
       "      <th>Alternative Fuel Economy City</th>\n",
       "      <th>Alternative Fuel Economy Highway</th>\n",
       "      <th>Alternative Fuel Economy Combined</th>\n",
       "      <th>...</th>\n",
       "      <th>Conventional Fuel Economy Combined</th>\n",
       "      <th>Transmission Type</th>\n",
       "      <th>Transmission Make</th>\n",
       "      <th>Engine Type</th>\n",
       "      <th>Engine Size</th>\n",
       "      <th>Engine Cylinder Count</th>\n",
       "      <th>Number of Passengers</th>\n",
       "      <th>Heavy-Duty Power System</th>\n",
       "      <th>Notes</th>\n",
       "      <th>Drivetrain</th>\n",
       "    </tr>\n",
       "  </thead>\n",
       "  <tbody>\n",
       "    <tr>\n",
       "      <th>0</th>\n",
       "      <td>Sedan/Wagon</td>\n",
       "      <td>NSX</td>\n",
       "      <td>2022.0</td>\n",
       "      <td>Acura</td>\n",
       "      <td>Hybrid Electric</td>\n",
       "      <td>NaN</td>\n",
       "      <td>NaN</td>\n",
       "      <td>NaN</td>\n",
       "      <td>NaN</td>\n",
       "      <td>NaN</td>\n",
       "      <td>...</td>\n",
       "      <td>21.0</td>\n",
       "      <td>Auto</td>\n",
       "      <td>NaN</td>\n",
       "      <td>SI</td>\n",
       "      <td>3.5L</td>\n",
       "      <td>6.0</td>\n",
       "      <td>NaN</td>\n",
       "      <td>NaN</td>\n",
       "      <td>NaN</td>\n",
       "      <td>AWD</td>\n",
       "    </tr>\n",
       "    <tr>\n",
       "      <th>1</th>\n",
       "      <td>Sedan/Wagon</td>\n",
       "      <td>A3</td>\n",
       "      <td>2022.0</td>\n",
       "      <td>Audi</td>\n",
       "      <td>Hybrid Electric</td>\n",
       "      <td>NaN</td>\n",
       "      <td>NaN</td>\n",
       "      <td>NaN</td>\n",
       "      <td>NaN</td>\n",
       "      <td>NaN</td>\n",
       "      <td>...</td>\n",
       "      <td>32.0</td>\n",
       "      <td>Auto</td>\n",
       "      <td>NaN</td>\n",
       "      <td>SI</td>\n",
       "      <td>2.0L</td>\n",
       "      <td>4.0</td>\n",
       "      <td>NaN</td>\n",
       "      <td>NaN</td>\n",
       "      <td>NaN</td>\n",
       "      <td>FWD</td>\n",
       "    </tr>\n",
       "    <tr>\n",
       "      <th>2</th>\n",
       "      <td>Sedan/Wagon</td>\n",
       "      <td>A3 quattro</td>\n",
       "      <td>2022.0</td>\n",
       "      <td>Audi</td>\n",
       "      <td>Hybrid Electric</td>\n",
       "      <td>NaN</td>\n",
       "      <td>NaN</td>\n",
       "      <td>NaN</td>\n",
       "      <td>NaN</td>\n",
       "      <td>NaN</td>\n",
       "      <td>...</td>\n",
       "      <td>31.0</td>\n",
       "      <td>Auto</td>\n",
       "      <td>NaN</td>\n",
       "      <td>SI</td>\n",
       "      <td>2.0L</td>\n",
       "      <td>4.0</td>\n",
       "      <td>NaN</td>\n",
       "      <td>NaN</td>\n",
       "      <td>NaN</td>\n",
       "      <td>AWD</td>\n",
       "    </tr>\n",
       "    <tr>\n",
       "      <th>3</th>\n",
       "      <td>Sedan/Wagon</td>\n",
       "      <td>A4 allroad quattro</td>\n",
       "      <td>2022.0</td>\n",
       "      <td>Audi</td>\n",
       "      <td>Hybrid Electric</td>\n",
       "      <td>NaN</td>\n",
       "      <td>NaN</td>\n",
       "      <td>NaN</td>\n",
       "      <td>NaN</td>\n",
       "      <td>NaN</td>\n",
       "      <td>...</td>\n",
       "      <td>26.0</td>\n",
       "      <td>Auto</td>\n",
       "      <td>NaN</td>\n",
       "      <td>SI</td>\n",
       "      <td>2.0L</td>\n",
       "      <td>4.0</td>\n",
       "      <td>NaN</td>\n",
       "      <td>NaN</td>\n",
       "      <td>NaN</td>\n",
       "      <td>AWD</td>\n",
       "    </tr>\n",
       "    <tr>\n",
       "      <th>4</th>\n",
       "      <td>Sedan/Wagon</td>\n",
       "      <td>A4 quattro</td>\n",
       "      <td>2022.0</td>\n",
       "      <td>Audi</td>\n",
       "      <td>Hybrid Electric</td>\n",
       "      <td>NaN</td>\n",
       "      <td>NaN</td>\n",
       "      <td>NaN</td>\n",
       "      <td>NaN</td>\n",
       "      <td>NaN</td>\n",
       "      <td>...</td>\n",
       "      <td>29.0</td>\n",
       "      <td>Auto</td>\n",
       "      <td>NaN</td>\n",
       "      <td>SI</td>\n",
       "      <td>2.0L</td>\n",
       "      <td>4.0</td>\n",
       "      <td>NaN</td>\n",
       "      <td>NaN</td>\n",
       "      <td>NaN</td>\n",
       "      <td>AWD</td>\n",
       "    </tr>\n",
       "    <tr>\n",
       "      <th>...</th>\n",
       "      <td>...</td>\n",
       "      <td>...</td>\n",
       "      <td>...</td>\n",
       "      <td>...</td>\n",
       "      <td>...</td>\n",
       "      <td>...</td>\n",
       "      <td>...</td>\n",
       "      <td>...</td>\n",
       "      <td>...</td>\n",
       "      <td>...</td>\n",
       "      <td>...</td>\n",
       "      <td>...</td>\n",
       "      <td>...</td>\n",
       "      <td>...</td>\n",
       "      <td>...</td>\n",
       "      <td>...</td>\n",
       "      <td>...</td>\n",
       "      <td>...</td>\n",
       "      <td>...</td>\n",
       "      <td>...</td>\n",
       "      <td>...</td>\n",
       "    </tr>\n",
       "    <tr>\n",
       "      <th>877</th>\n",
       "      <td>Street Sweeper</td>\n",
       "      <td>HSP</td>\n",
       "      <td>NaN</td>\n",
       "      <td>TYMCO</td>\n",
       "      <td>CNG - Compressed Natural Gas</td>\n",
       "      <td>NaN</td>\n",
       "      <td>NaN</td>\n",
       "      <td>NaN</td>\n",
       "      <td>NaN</td>\n",
       "      <td>NaN</td>\n",
       "      <td>...</td>\n",
       "      <td>NaN</td>\n",
       "      <td>NaN</td>\n",
       "      <td>NaN</td>\n",
       "      <td>NaN</td>\n",
       "      <td>NaN</td>\n",
       "      <td>NaN</td>\n",
       "      <td>NaN</td>\n",
       "      <td>Cummins Westport L9N 8.9L Near Zero</td>\n",
       "      <td>NaN</td>\n",
       "      <td>NaN</td>\n",
       "    </tr>\n",
       "    <tr>\n",
       "      <th>878</th>\n",
       "      <td>Step Van</td>\n",
       "      <td>(various models)</td>\n",
       "      <td>NaN</td>\n",
       "      <td>Utilimaster</td>\n",
       "      <td>Electric</td>\n",
       "      <td>NaN</td>\n",
       "      <td>NaN</td>\n",
       "      <td>NaN</td>\n",
       "      <td>NaN</td>\n",
       "      <td>NaN</td>\n",
       "      <td>...</td>\n",
       "      <td>NaN</td>\n",
       "      <td>Automatic</td>\n",
       "      <td>NaN</td>\n",
       "      <td>NaN</td>\n",
       "      <td>NaN</td>\n",
       "      <td>NaN</td>\n",
       "      <td>NaN</td>\n",
       "      <td>NaN</td>\n",
       "      <td>According to manufacturer: Various platforms a...</td>\n",
       "      <td>NaN</td>\n",
       "    </tr>\n",
       "    <tr>\n",
       "      <th>879</th>\n",
       "      <td>Transit Bus</td>\n",
       "      <td>CX45E</td>\n",
       "      <td>NaN</td>\n",
       "      <td>Van Hool</td>\n",
       "      <td>Electric</td>\n",
       "      <td>NaN</td>\n",
       "      <td>NaN</td>\n",
       "      <td>NaN</td>\n",
       "      <td>NaN</td>\n",
       "      <td>NaN</td>\n",
       "      <td>...</td>\n",
       "      <td>NaN</td>\n",
       "      <td>NaN</td>\n",
       "      <td>NaN</td>\n",
       "      <td>NaN</td>\n",
       "      <td>NaN</td>\n",
       "      <td>NaN</td>\n",
       "      <td>Up to 56</td>\n",
       "      <td>Siemens  ELFA2 Electric Drive System 360kW</td>\n",
       "      <td>According to manufacturer: 676 kWh battery sto...</td>\n",
       "      <td>NaN</td>\n",
       "    </tr>\n",
       "    <tr>\n",
       "      <th>880</th>\n",
       "      <td>Tractor</td>\n",
       "      <td>VNR Electric - Class 8</td>\n",
       "      <td>NaN</td>\n",
       "      <td>Volvo</td>\n",
       "      <td>Electric</td>\n",
       "      <td>NaN</td>\n",
       "      <td>NaN</td>\n",
       "      <td>NaN</td>\n",
       "      <td>NaN</td>\n",
       "      <td>NaN</td>\n",
       "      <td>...</td>\n",
       "      <td>NaN</td>\n",
       "      <td>NaN</td>\n",
       "      <td>NaN</td>\n",
       "      <td>NaN</td>\n",
       "      <td>NaN</td>\n",
       "      <td>NaN</td>\n",
       "      <td>NaN</td>\n",
       "      <td>NaN</td>\n",
       "      <td>According to manufacturer: 340kW; 455hp; 4,051...</td>\n",
       "      <td>NaN</td>\n",
       "    </tr>\n",
       "    <tr>\n",
       "      <th>881</th>\n",
       "      <td>Step Van</td>\n",
       "      <td>C-Series</td>\n",
       "      <td>NaN</td>\n",
       "      <td>Workhorse</td>\n",
       "      <td>Electric</td>\n",
       "      <td>NaN</td>\n",
       "      <td>NaN</td>\n",
       "      <td>NaN</td>\n",
       "      <td>NaN</td>\n",
       "      <td>NaN</td>\n",
       "      <td>...</td>\n",
       "      <td>NaN</td>\n",
       "      <td>Automatic</td>\n",
       "      <td>NaN</td>\n",
       "      <td>NaN</td>\n",
       "      <td>NaN</td>\n",
       "      <td>NaN</td>\n",
       "      <td>NaN</td>\n",
       "      <td>Workhorse Dual Axial Flux Interior Permanent M...</td>\n",
       "      <td>According to manufacturer: Up to 105 kWh batte...</td>\n",
       "      <td>NaN</td>\n",
       "    </tr>\n",
       "  </tbody>\n",
       "</table>\n",
       "<p>882 rows × 22 columns</p>\n",
       "</div>"
      ],
      "text/plain": [
       "           Category                   Model  Model Year Manufacturer  \\\n",
       "0       Sedan/Wagon                     NSX      2022.0        Acura   \n",
       "1       Sedan/Wagon                     A3       2022.0         Audi   \n",
       "2       Sedan/Wagon              A3 quattro      2022.0         Audi   \n",
       "3       Sedan/Wagon      A4 allroad quattro      2022.0         Audi   \n",
       "4       Sedan/Wagon              A4 quattro      2022.0         Audi   \n",
       "..              ...                     ...         ...          ...   \n",
       "877  Street Sweeper                     HSP         NaN        TYMCO   \n",
       "878        Step Van        (various models)         NaN  Utilimaster   \n",
       "879     Transit Bus                   CX45E         NaN     Van Hool   \n",
       "880         Tractor  VNR Electric - Class 8         NaN        Volvo   \n",
       "881        Step Van                C-Series         NaN    Workhorse   \n",
       "\n",
       "                             Fuel  All-Electric Range  PHEV Total Range  \\\n",
       "0                 Hybrid Electric                 NaN               NaN   \n",
       "1                 Hybrid Electric                 NaN               NaN   \n",
       "2                 Hybrid Electric                 NaN               NaN   \n",
       "3                 Hybrid Electric                 NaN               NaN   \n",
       "4                 Hybrid Electric                 NaN               NaN   \n",
       "..                            ...                 ...               ...   \n",
       "877  CNG - Compressed Natural Gas                 NaN               NaN   \n",
       "878                      Electric                 NaN               NaN   \n",
       "879                      Electric                 NaN               NaN   \n",
       "880                      Electric                 NaN               NaN   \n",
       "881                      Electric                 NaN               NaN   \n",
       "\n",
       "     Alternative Fuel Economy City  Alternative Fuel Economy Highway  \\\n",
       "0                              NaN                               NaN   \n",
       "1                              NaN                               NaN   \n",
       "2                              NaN                               NaN   \n",
       "3                              NaN                               NaN   \n",
       "4                              NaN                               NaN   \n",
       "..                             ...                               ...   \n",
       "877                            NaN                               NaN   \n",
       "878                            NaN                               NaN   \n",
       "879                            NaN                               NaN   \n",
       "880                            NaN                               NaN   \n",
       "881                            NaN                               NaN   \n",
       "\n",
       "     Alternative Fuel Economy Combined  ...  \\\n",
       "0                                  NaN  ...   \n",
       "1                                  NaN  ...   \n",
       "2                                  NaN  ...   \n",
       "3                                  NaN  ...   \n",
       "4                                  NaN  ...   \n",
       "..                                 ...  ...   \n",
       "877                                NaN  ...   \n",
       "878                                NaN  ...   \n",
       "879                                NaN  ...   \n",
       "880                                NaN  ...   \n",
       "881                                NaN  ...   \n",
       "\n",
       "     Conventional Fuel Economy Combined  Transmission Type  Transmission Make  \\\n",
       "0                                  21.0               Auto                NaN   \n",
       "1                                  32.0               Auto                NaN   \n",
       "2                                  31.0               Auto                NaN   \n",
       "3                                  26.0               Auto                NaN   \n",
       "4                                  29.0               Auto                NaN   \n",
       "..                                  ...                ...                ...   \n",
       "877                                 NaN                NaN                NaN   \n",
       "878                                 NaN          Automatic                NaN   \n",
       "879                                 NaN                NaN                NaN   \n",
       "880                                 NaN                NaN                NaN   \n",
       "881                                 NaN          Automatic                NaN   \n",
       "\n",
       "    Engine Type Engine Size Engine Cylinder Count Number of Passengers  \\\n",
       "0            SI        3.5L                   6.0                  NaN   \n",
       "1            SI        2.0L                   4.0                  NaN   \n",
       "2            SI        2.0L                   4.0                  NaN   \n",
       "3            SI        2.0L                   4.0                  NaN   \n",
       "4            SI        2.0L                   4.0                  NaN   \n",
       "..          ...         ...                   ...                  ...   \n",
       "877         NaN         NaN                   NaN                  NaN   \n",
       "878         NaN         NaN                   NaN                  NaN   \n",
       "879         NaN         NaN                   NaN             Up to 56   \n",
       "880         NaN         NaN                   NaN                  NaN   \n",
       "881         NaN         NaN                   NaN                  NaN   \n",
       "\n",
       "                               Heavy-Duty Power System  \\\n",
       "0                                                  NaN   \n",
       "1                                                  NaN   \n",
       "2                                                  NaN   \n",
       "3                                                  NaN   \n",
       "4                                                  NaN   \n",
       "..                                                 ...   \n",
       "877                Cummins Westport L9N 8.9L Near Zero   \n",
       "878                                                NaN   \n",
       "879         Siemens  ELFA2 Electric Drive System 360kW   \n",
       "880                                                NaN   \n",
       "881  Workhorse Dual Axial Flux Interior Permanent M...   \n",
       "\n",
       "                                                 Notes Drivetrain  \n",
       "0                                                  NaN        AWD  \n",
       "1                                                  NaN        FWD  \n",
       "2                                                  NaN        AWD  \n",
       "3                                                  NaN        AWD  \n",
       "4                                                  NaN        AWD  \n",
       "..                                                 ...        ...  \n",
       "877                                                NaN        NaN  \n",
       "878  According to manufacturer: Various platforms a...        NaN  \n",
       "879  According to manufacturer: 676 kWh battery sto...        NaN  \n",
       "880  According to manufacturer: 340kW; 455hp; 4,051...        NaN  \n",
       "881  According to manufacturer: Up to 105 kWh batte...        NaN  \n",
       "\n",
       "[882 rows x 22 columns]"
      ]
     },
     "execution_count": 63,
     "metadata": {},
     "output_type": "execute_result"
    }
   ],
   "source": [
    "df_ev_alt_us"
   ]
  },
  {
   "cell_type": "code",
   "execution_count": 6,
   "id": "3fe57a8e-16c2-426e-b6f3-bde2387d6b8e",
   "metadata": {},
   "outputs": [],
   "source": [
    "df_ldv = pd.read_csv('../data/Electric_alternative_fuel_vehicles_us/Light Duty Vehicles.csv')"
   ]
  },
  {
   "cell_type": "code",
   "execution_count": 10,
   "id": "1d997ea9-449d-46d0-80d0-2631f7fcc3d9",
   "metadata": {},
   "outputs": [],
   "source": [
    "# df_ldv"
   ]
  },
  {
   "cell_type": "code",
   "execution_count": 8,
   "id": "2d161ca9-207b-4f41-81f9-cf088c62d4f7",
   "metadata": {},
   "outputs": [],
   "source": [
    "df_hdv = pd.read_csv('../data/Electric_alternative_fuel_vehicles_us/Medium and Heavy Duty Vehicles.csv')"
   ]
  },
  {
   "cell_type": "code",
   "execution_count": 11,
   "id": "fb07f094-2bc4-42ac-9df5-dac2a9a38ef5",
   "metadata": {},
   "outputs": [],
   "source": [
    "# df_hdv"
   ]
  },
  {
   "cell_type": "code",
   "execution_count": 64,
   "id": "931a98fa-82b7-445b-b0b5-363fb9a6304a",
   "metadata": {},
   "outputs": [],
   "source": [
    "# df_ev_alt_us.isnull().sum()"
   ]
  },
  {
   "cell_type": "code",
   "execution_count": 65,
   "id": "05bcc4be-4763-4c6c-9b6c-39fa49f66010",
   "metadata": {},
   "outputs": [],
   "source": [
    "# df_ev_alt_us.info()"
   ]
  },
  {
   "cell_type": "code",
   "execution_count": 82,
   "id": "6cc2ccf6-04bf-4a16-9352-d644490bf26b",
   "metadata": {},
   "outputs": [
    {
     "data": {
      "text/plain": [
       "Category                               15\n",
       "Model                                 633\n",
       "Model Year                              2\n",
       "Manufacturer                           81\n",
       "Fuel                                   22\n",
       "All-Electric Range                    116\n",
       "PHEV Total Range                       26\n",
       "Alternative Fuel Economy City          75\n",
       "Alternative Fuel Economy Highway       71\n",
       "Alternative Fuel Economy Combined      96\n",
       "Conventional Fuel Economy City         46\n",
       "Conventional Fuel Economy Highway      43\n",
       "Conventional Fuel Economy Combined     45\n",
       "Transmission Type                       4\n",
       "Transmission Make                      32\n",
       "Engine Type                             4\n",
       "Engine Size                            31\n",
       "Engine Cylinder Count                  11\n",
       "Number of Passengers                   52\n",
       "Heavy-Duty Power System                84\n",
       "dtype: int64"
      ]
     },
     "execution_count": 82,
     "metadata": {},
     "output_type": "execute_result"
    }
   ],
   "source": [
    "df_ev_alt_us.nunique()"
   ]
  },
  {
   "cell_type": "markdown",
   "id": "d6768274-b927-43e7-aca3-6b3bfd856134",
   "metadata": {},
   "source": [
    "##### Fuel Economy-Related Columns: fill missing values based on similar vehicles' fuel economy. You can group the data by relevant features (e.g., Manufacturer, Model Year, Category) and then fill in missing values with the median of the group."
   ]
  },
  {
   "cell_type": "code",
   "execution_count": 67,
   "id": "4826897f-bd0f-4fab-86d3-31f8fb6a19c9",
   "metadata": {},
   "outputs": [],
   "source": [
    "fuel_economy_cols = ['Alternative Fuel Economy City', 'Alternative Fuel Economy Highway', 'Alternative Fuel Economy Combined',\n",
    "                        'Conventional Fuel Economy City', 'Conventional Fuel Economy Highway', 'Conventional Fuel Economy Combined']\n",
    "\n",
    "for column in fuel_economy_cols:\n",
    "    df_ev_alt_us[column].fillna(df_ev_alt_us.groupby(['Manufacturer', 'Model Year', 'Category'])[column].transform('median'), inplace=True)\n"
   ]
  },
  {
   "cell_type": "markdown",
   "id": "ba6be6ca-a225-44c5-8e10-bf52c2c242a8",
   "metadata": {},
   "source": [
    "##### Transmission Type and Engine Type: fill missing values with the most common values"
   ]
  },
  {
   "cell_type": "code",
   "execution_count": 68,
   "id": "158cc37a-b647-419c-921f-bba824d20700",
   "metadata": {},
   "outputs": [],
   "source": [
    "df_ev_alt_us['Transmission Type'].fillna(df_ev_alt_us['Transmission Type'].mode()[0], inplace=True)\n",
    "df_ev_alt_us['Engine Type'].fillna(df_ev_alt_us['Engine Type'].mode()[0], inplace=True)"
   ]
  },
  {
   "cell_type": "markdown",
   "id": "0e5834a7-6627-4f50-a2ae-669ccaa094b9",
   "metadata": {},
   "source": [
    "##### Engine Cylinder Count: fill missing values based mean"
   ]
  },
  {
   "cell_type": "code",
   "execution_count": 69,
   "id": "a151d3af-c6f9-452b-9295-79f48255fe1b",
   "metadata": {},
   "outputs": [],
   "source": [
    "df_ev_alt_us['Engine Cylinder Count'].fillna(df_ev_alt_us.groupby(['Manufacturer', 'Model Year', 'Category'])['Engine Cylinder Count'].transform('mean'), inplace=True)\n"
   ]
  },
  {
   "cell_type": "markdown",
   "id": "e227b695-9033-4d90-a5af-3cbc5196d34b",
   "metadata": {},
   "source": [
    "##### Engine Size :fill missing values based mean"
   ]
  },
  {
   "cell_type": "code",
   "execution_count": 74,
   "id": "c30cc16b-8927-4096-b4c0-78b31426188a",
   "metadata": {},
   "outputs": [],
   "source": [
    "# errors='coerce', non-numeric values will be converted to NaN\n",
    "# df_ev_alt_us['Engine Size'] =  pd.to_numeric(df_ev_alt_us['Engine Size'].str.replace('L', ''), errors='coerce')\n",
    "df_ev_alt_us['Engine Size'].fillna(df_ev_alt_us.groupby(['Manufacturer', 'Model Year', 'Category'])['Engine Size'].transform('mean'), inplace=True)"
   ]
  },
  {
   "cell_type": "code",
   "execution_count": 77,
   "id": "3cf22e30-fa0c-4438-9fef-5a067726728a",
   "metadata": {},
   "outputs": [
    {
     "data": {
      "text/html": [
       "<div>\n",
       "<style scoped>\n",
       "    .dataframe tbody tr th:only-of-type {\n",
       "        vertical-align: middle;\n",
       "    }\n",
       "\n",
       "    .dataframe tbody tr th {\n",
       "        vertical-align: top;\n",
       "    }\n",
       "\n",
       "    .dataframe thead th {\n",
       "        text-align: right;\n",
       "    }\n",
       "</style>\n",
       "<table border=\"1\" class=\"dataframe\">\n",
       "  <thead>\n",
       "    <tr style=\"text-align: right;\">\n",
       "      <th></th>\n",
       "      <th>Category</th>\n",
       "      <th>Model</th>\n",
       "      <th>Model Year</th>\n",
       "      <th>Manufacturer</th>\n",
       "      <th>Fuel</th>\n",
       "      <th>All-Electric Range</th>\n",
       "      <th>PHEV Total Range</th>\n",
       "      <th>Alternative Fuel Economy City</th>\n",
       "      <th>Alternative Fuel Economy Highway</th>\n",
       "      <th>Alternative Fuel Economy Combined</th>\n",
       "      <th>...</th>\n",
       "      <th>Conventional Fuel Economy Combined</th>\n",
       "      <th>Transmission Type</th>\n",
       "      <th>Transmission Make</th>\n",
       "      <th>Engine Type</th>\n",
       "      <th>Engine Size</th>\n",
       "      <th>Engine Cylinder Count</th>\n",
       "      <th>Number of Passengers</th>\n",
       "      <th>Heavy-Duty Power System</th>\n",
       "      <th>Notes</th>\n",
       "      <th>Drivetrain</th>\n",
       "    </tr>\n",
       "  </thead>\n",
       "  <tbody>\n",
       "    <tr>\n",
       "      <th>0</th>\n",
       "      <td>Sedan/Wagon</td>\n",
       "      <td>NSX</td>\n",
       "      <td>2022.0</td>\n",
       "      <td>Acura</td>\n",
       "      <td>Hybrid Electric</td>\n",
       "      <td>NaN</td>\n",
       "      <td>NaN</td>\n",
       "      <td>NaN</td>\n",
       "      <td>NaN</td>\n",
       "      <td>NaN</td>\n",
       "      <td>...</td>\n",
       "      <td>21.0</td>\n",
       "      <td>Auto</td>\n",
       "      <td>NaN</td>\n",
       "      <td>SI</td>\n",
       "      <td>3.5</td>\n",
       "      <td>6.0</td>\n",
       "      <td>NaN</td>\n",
       "      <td>NaN</td>\n",
       "      <td>NaN</td>\n",
       "      <td>AWD</td>\n",
       "    </tr>\n",
       "    <tr>\n",
       "      <th>1</th>\n",
       "      <td>Sedan/Wagon</td>\n",
       "      <td>A3</td>\n",
       "      <td>2022.0</td>\n",
       "      <td>Audi</td>\n",
       "      <td>Hybrid Electric</td>\n",
       "      <td>NaN</td>\n",
       "      <td>NaN</td>\n",
       "      <td>81.0</td>\n",
       "      <td>83.0</td>\n",
       "      <td>70.0</td>\n",
       "      <td>...</td>\n",
       "      <td>32.0</td>\n",
       "      <td>Auto</td>\n",
       "      <td>NaN</td>\n",
       "      <td>SI</td>\n",
       "      <td>2.0</td>\n",
       "      <td>4.0</td>\n",
       "      <td>NaN</td>\n",
       "      <td>NaN</td>\n",
       "      <td>NaN</td>\n",
       "      <td>FWD</td>\n",
       "    </tr>\n",
       "    <tr>\n",
       "      <th>2</th>\n",
       "      <td>Sedan/Wagon</td>\n",
       "      <td>A3 quattro</td>\n",
       "      <td>2022.0</td>\n",
       "      <td>Audi</td>\n",
       "      <td>Hybrid Electric</td>\n",
       "      <td>NaN</td>\n",
       "      <td>NaN</td>\n",
       "      <td>81.0</td>\n",
       "      <td>83.0</td>\n",
       "      <td>70.0</td>\n",
       "      <td>...</td>\n",
       "      <td>31.0</td>\n",
       "      <td>Auto</td>\n",
       "      <td>NaN</td>\n",
       "      <td>SI</td>\n",
       "      <td>2.0</td>\n",
       "      <td>4.0</td>\n",
       "      <td>NaN</td>\n",
       "      <td>NaN</td>\n",
       "      <td>NaN</td>\n",
       "      <td>AWD</td>\n",
       "    </tr>\n",
       "    <tr>\n",
       "      <th>3</th>\n",
       "      <td>Sedan/Wagon</td>\n",
       "      <td>A4 allroad quattro</td>\n",
       "      <td>2022.0</td>\n",
       "      <td>Audi</td>\n",
       "      <td>Hybrid Electric</td>\n",
       "      <td>NaN</td>\n",
       "      <td>NaN</td>\n",
       "      <td>81.0</td>\n",
       "      <td>83.0</td>\n",
       "      <td>70.0</td>\n",
       "      <td>...</td>\n",
       "      <td>26.0</td>\n",
       "      <td>Auto</td>\n",
       "      <td>NaN</td>\n",
       "      <td>SI</td>\n",
       "      <td>2.0</td>\n",
       "      <td>4.0</td>\n",
       "      <td>NaN</td>\n",
       "      <td>NaN</td>\n",
       "      <td>NaN</td>\n",
       "      <td>AWD</td>\n",
       "    </tr>\n",
       "    <tr>\n",
       "      <th>4</th>\n",
       "      <td>Sedan/Wagon</td>\n",
       "      <td>A4 quattro</td>\n",
       "      <td>2022.0</td>\n",
       "      <td>Audi</td>\n",
       "      <td>Hybrid Electric</td>\n",
       "      <td>NaN</td>\n",
       "      <td>NaN</td>\n",
       "      <td>81.0</td>\n",
       "      <td>83.0</td>\n",
       "      <td>70.0</td>\n",
       "      <td>...</td>\n",
       "      <td>29.0</td>\n",
       "      <td>Auto</td>\n",
       "      <td>NaN</td>\n",
       "      <td>SI</td>\n",
       "      <td>2.0</td>\n",
       "      <td>4.0</td>\n",
       "      <td>NaN</td>\n",
       "      <td>NaN</td>\n",
       "      <td>NaN</td>\n",
       "      <td>AWD</td>\n",
       "    </tr>\n",
       "    <tr>\n",
       "      <th>...</th>\n",
       "      <td>...</td>\n",
       "      <td>...</td>\n",
       "      <td>...</td>\n",
       "      <td>...</td>\n",
       "      <td>...</td>\n",
       "      <td>...</td>\n",
       "      <td>...</td>\n",
       "      <td>...</td>\n",
       "      <td>...</td>\n",
       "      <td>...</td>\n",
       "      <td>...</td>\n",
       "      <td>...</td>\n",
       "      <td>...</td>\n",
       "      <td>...</td>\n",
       "      <td>...</td>\n",
       "      <td>...</td>\n",
       "      <td>...</td>\n",
       "      <td>...</td>\n",
       "      <td>...</td>\n",
       "      <td>...</td>\n",
       "      <td>...</td>\n",
       "    </tr>\n",
       "    <tr>\n",
       "      <th>877</th>\n",
       "      <td>Street Sweeper</td>\n",
       "      <td>HSP</td>\n",
       "      <td>NaN</td>\n",
       "      <td>TYMCO</td>\n",
       "      <td>CNG - Compressed Natural Gas</td>\n",
       "      <td>NaN</td>\n",
       "      <td>NaN</td>\n",
       "      <td>NaN</td>\n",
       "      <td>NaN</td>\n",
       "      <td>NaN</td>\n",
       "      <td>...</td>\n",
       "      <td>NaN</td>\n",
       "      <td>Auto</td>\n",
       "      <td>NaN</td>\n",
       "      <td>SI</td>\n",
       "      <td>NaN</td>\n",
       "      <td>NaN</td>\n",
       "      <td>NaN</td>\n",
       "      <td>Cummins Westport L9N 8.9L Near Zero</td>\n",
       "      <td>NaN</td>\n",
       "      <td>NaN</td>\n",
       "    </tr>\n",
       "    <tr>\n",
       "      <th>878</th>\n",
       "      <td>Step Van</td>\n",
       "      <td>(various models)</td>\n",
       "      <td>NaN</td>\n",
       "      <td>Utilimaster</td>\n",
       "      <td>Electric</td>\n",
       "      <td>NaN</td>\n",
       "      <td>NaN</td>\n",
       "      <td>NaN</td>\n",
       "      <td>NaN</td>\n",
       "      <td>NaN</td>\n",
       "      <td>...</td>\n",
       "      <td>NaN</td>\n",
       "      <td>Automatic</td>\n",
       "      <td>NaN</td>\n",
       "      <td>SI</td>\n",
       "      <td>NaN</td>\n",
       "      <td>NaN</td>\n",
       "      <td>NaN</td>\n",
       "      <td>NaN</td>\n",
       "      <td>According to manufacturer: Various platforms a...</td>\n",
       "      <td>NaN</td>\n",
       "    </tr>\n",
       "    <tr>\n",
       "      <th>879</th>\n",
       "      <td>Transit Bus</td>\n",
       "      <td>CX45E</td>\n",
       "      <td>NaN</td>\n",
       "      <td>Van Hool</td>\n",
       "      <td>Electric</td>\n",
       "      <td>NaN</td>\n",
       "      <td>NaN</td>\n",
       "      <td>NaN</td>\n",
       "      <td>NaN</td>\n",
       "      <td>NaN</td>\n",
       "      <td>...</td>\n",
       "      <td>NaN</td>\n",
       "      <td>Auto</td>\n",
       "      <td>NaN</td>\n",
       "      <td>SI</td>\n",
       "      <td>NaN</td>\n",
       "      <td>NaN</td>\n",
       "      <td>Up to 56</td>\n",
       "      <td>Siemens  ELFA2 Electric Drive System 360kW</td>\n",
       "      <td>According to manufacturer: 676 kWh battery sto...</td>\n",
       "      <td>NaN</td>\n",
       "    </tr>\n",
       "    <tr>\n",
       "      <th>880</th>\n",
       "      <td>Tractor</td>\n",
       "      <td>VNR Electric - Class 8</td>\n",
       "      <td>NaN</td>\n",
       "      <td>Volvo</td>\n",
       "      <td>Electric</td>\n",
       "      <td>NaN</td>\n",
       "      <td>NaN</td>\n",
       "      <td>NaN</td>\n",
       "      <td>NaN</td>\n",
       "      <td>NaN</td>\n",
       "      <td>...</td>\n",
       "      <td>NaN</td>\n",
       "      <td>Auto</td>\n",
       "      <td>NaN</td>\n",
       "      <td>SI</td>\n",
       "      <td>NaN</td>\n",
       "      <td>NaN</td>\n",
       "      <td>NaN</td>\n",
       "      <td>NaN</td>\n",
       "      <td>According to manufacturer: 340kW; 455hp; 4,051...</td>\n",
       "      <td>NaN</td>\n",
       "    </tr>\n",
       "    <tr>\n",
       "      <th>881</th>\n",
       "      <td>Step Van</td>\n",
       "      <td>C-Series</td>\n",
       "      <td>NaN</td>\n",
       "      <td>Workhorse</td>\n",
       "      <td>Electric</td>\n",
       "      <td>NaN</td>\n",
       "      <td>NaN</td>\n",
       "      <td>NaN</td>\n",
       "      <td>NaN</td>\n",
       "      <td>NaN</td>\n",
       "      <td>...</td>\n",
       "      <td>NaN</td>\n",
       "      <td>Automatic</td>\n",
       "      <td>NaN</td>\n",
       "      <td>SI</td>\n",
       "      <td>NaN</td>\n",
       "      <td>NaN</td>\n",
       "      <td>NaN</td>\n",
       "      <td>Workhorse Dual Axial Flux Interior Permanent M...</td>\n",
       "      <td>According to manufacturer: Up to 105 kWh batte...</td>\n",
       "      <td>NaN</td>\n",
       "    </tr>\n",
       "  </tbody>\n",
       "</table>\n",
       "<p>882 rows × 22 columns</p>\n",
       "</div>"
      ],
      "text/plain": [
       "           Category                   Model  Model Year Manufacturer  \\\n",
       "0       Sedan/Wagon                     NSX      2022.0        Acura   \n",
       "1       Sedan/Wagon                     A3       2022.0         Audi   \n",
       "2       Sedan/Wagon              A3 quattro      2022.0         Audi   \n",
       "3       Sedan/Wagon      A4 allroad quattro      2022.0         Audi   \n",
       "4       Sedan/Wagon              A4 quattro      2022.0         Audi   \n",
       "..              ...                     ...         ...          ...   \n",
       "877  Street Sweeper                     HSP         NaN        TYMCO   \n",
       "878        Step Van        (various models)         NaN  Utilimaster   \n",
       "879     Transit Bus                   CX45E         NaN     Van Hool   \n",
       "880         Tractor  VNR Electric - Class 8         NaN        Volvo   \n",
       "881        Step Van                C-Series         NaN    Workhorse   \n",
       "\n",
       "                             Fuel  All-Electric Range  PHEV Total Range  \\\n",
       "0                 Hybrid Electric                 NaN               NaN   \n",
       "1                 Hybrid Electric                 NaN               NaN   \n",
       "2                 Hybrid Electric                 NaN               NaN   \n",
       "3                 Hybrid Electric                 NaN               NaN   \n",
       "4                 Hybrid Electric                 NaN               NaN   \n",
       "..                            ...                 ...               ...   \n",
       "877  CNG - Compressed Natural Gas                 NaN               NaN   \n",
       "878                      Electric                 NaN               NaN   \n",
       "879                      Electric                 NaN               NaN   \n",
       "880                      Electric                 NaN               NaN   \n",
       "881                      Electric                 NaN               NaN   \n",
       "\n",
       "     Alternative Fuel Economy City  Alternative Fuel Economy Highway  \\\n",
       "0                              NaN                               NaN   \n",
       "1                             81.0                              83.0   \n",
       "2                             81.0                              83.0   \n",
       "3                             81.0                              83.0   \n",
       "4                             81.0                              83.0   \n",
       "..                             ...                               ...   \n",
       "877                            NaN                               NaN   \n",
       "878                            NaN                               NaN   \n",
       "879                            NaN                               NaN   \n",
       "880                            NaN                               NaN   \n",
       "881                            NaN                               NaN   \n",
       "\n",
       "     Alternative Fuel Economy Combined  ...  \\\n",
       "0                                  NaN  ...   \n",
       "1                                 70.0  ...   \n",
       "2                                 70.0  ...   \n",
       "3                                 70.0  ...   \n",
       "4                                 70.0  ...   \n",
       "..                                 ...  ...   \n",
       "877                                NaN  ...   \n",
       "878                                NaN  ...   \n",
       "879                                NaN  ...   \n",
       "880                                NaN  ...   \n",
       "881                                NaN  ...   \n",
       "\n",
       "     Conventional Fuel Economy Combined  Transmission Type  Transmission Make  \\\n",
       "0                                  21.0               Auto                NaN   \n",
       "1                                  32.0               Auto                NaN   \n",
       "2                                  31.0               Auto                NaN   \n",
       "3                                  26.0               Auto                NaN   \n",
       "4                                  29.0               Auto                NaN   \n",
       "..                                  ...                ...                ...   \n",
       "877                                 NaN               Auto                NaN   \n",
       "878                                 NaN          Automatic                NaN   \n",
       "879                                 NaN               Auto                NaN   \n",
       "880                                 NaN               Auto                NaN   \n",
       "881                                 NaN          Automatic                NaN   \n",
       "\n",
       "    Engine Type Engine Size Engine Cylinder Count  Number of Passengers  \\\n",
       "0            SI         3.5                   6.0                   NaN   \n",
       "1            SI         2.0                   4.0                   NaN   \n",
       "2            SI         2.0                   4.0                   NaN   \n",
       "3            SI         2.0                   4.0                   NaN   \n",
       "4            SI         2.0                   4.0                   NaN   \n",
       "..          ...         ...                   ...                   ...   \n",
       "877          SI         NaN                   NaN                   NaN   \n",
       "878          SI         NaN                   NaN                   NaN   \n",
       "879          SI         NaN                   NaN              Up to 56   \n",
       "880          SI         NaN                   NaN                   NaN   \n",
       "881          SI         NaN                   NaN                   NaN   \n",
       "\n",
       "                               Heavy-Duty Power System  \\\n",
       "0                                                  NaN   \n",
       "1                                                  NaN   \n",
       "2                                                  NaN   \n",
       "3                                                  NaN   \n",
       "4                                                  NaN   \n",
       "..                                                 ...   \n",
       "877                Cummins Westport L9N 8.9L Near Zero   \n",
       "878                                                NaN   \n",
       "879         Siemens  ELFA2 Electric Drive System 360kW   \n",
       "880                                                NaN   \n",
       "881  Workhorse Dual Axial Flux Interior Permanent M...   \n",
       "\n",
       "                                                 Notes Drivetrain  \n",
       "0                                                  NaN        AWD  \n",
       "1                                                  NaN        FWD  \n",
       "2                                                  NaN        AWD  \n",
       "3                                                  NaN        AWD  \n",
       "4                                                  NaN        AWD  \n",
       "..                                                 ...        ...  \n",
       "877                                                NaN        NaN  \n",
       "878  According to manufacturer: Various platforms a...        NaN  \n",
       "879  According to manufacturer: 676 kWh battery sto...        NaN  \n",
       "880  According to manufacturer: 340kW; 455hp; 4,051...        NaN  \n",
       "881  According to manufacturer: Up to 105 kWh batte...        NaN  \n",
       "\n",
       "[882 rows x 22 columns]"
      ]
     },
     "execution_count": 77,
     "metadata": {},
     "output_type": "execute_result"
    }
   ],
   "source": [
    "df_ev_alt_us"
   ]
  },
  {
   "cell_type": "markdown",
   "id": "1eb4d5c1-6a48-476f-be87-3a8c9a2c098b",
   "metadata": {},
   "source": [
    "##### Electric-Only Range, PHEV Total Range, PHEV Type: fill missing values based on averages"
   ]
  },
  {
   "cell_type": "code",
   "execution_count": 79,
   "id": "8e35bd52-c11d-4bf1-96ee-1888df4458e2",
   "metadata": {},
   "outputs": [],
   "source": [
    "electric_columns = ['All-Electric Range', 'PHEV Total Range']\n",
    "for column in electric_columns:\n",
    "    df_ev_alt_us[column].fillna(df_ev_alt_us.groupby(['Manufacturer', 'Model Year', 'Category'])[column].transform('median'), inplace=True)\n",
    "df_ev_alt_us['PHEV Type'].fillna(df_ev_alt_us['PHEV Type'].mode()[0], inplace=True)\n"
   ]
  },
  {
   "cell_type": "code",
   "execution_count": 80,
   "id": "5b9fa537-e163-48b0-a727-cd8e748bd9cd",
   "metadata": {},
   "outputs": [],
   "source": [
    "# drop columns\n",
    "df_ev_alt_us.drop(['Notes', 'Drivetrain'], axis=1, inplace=True)\n"
   ]
  },
  {
   "cell_type": "code",
   "execution_count": 81,
   "id": "f517244a-02d8-4d42-a343-41251a8e032c",
   "metadata": {},
   "outputs": [
    {
     "data": {
      "text/html": [
       "<div>\n",
       "<style scoped>\n",
       "    .dataframe tbody tr th:only-of-type {\n",
       "        vertical-align: middle;\n",
       "    }\n",
       "\n",
       "    .dataframe tbody tr th {\n",
       "        vertical-align: top;\n",
       "    }\n",
       "\n",
       "    .dataframe thead th {\n",
       "        text-align: right;\n",
       "    }\n",
       "</style>\n",
       "<table border=\"1\" class=\"dataframe\">\n",
       "  <thead>\n",
       "    <tr style=\"text-align: right;\">\n",
       "      <th></th>\n",
       "      <th>Category</th>\n",
       "      <th>Model</th>\n",
       "      <th>Model Year</th>\n",
       "      <th>Manufacturer</th>\n",
       "      <th>Fuel</th>\n",
       "      <th>All-Electric Range</th>\n",
       "      <th>PHEV Total Range</th>\n",
       "      <th>Alternative Fuel Economy City</th>\n",
       "      <th>Alternative Fuel Economy Highway</th>\n",
       "      <th>Alternative Fuel Economy Combined</th>\n",
       "      <th>Conventional Fuel Economy City</th>\n",
       "      <th>Conventional Fuel Economy Highway</th>\n",
       "      <th>Conventional Fuel Economy Combined</th>\n",
       "      <th>Transmission Type</th>\n",
       "      <th>Transmission Make</th>\n",
       "      <th>Engine Type</th>\n",
       "      <th>Engine Size</th>\n",
       "      <th>Engine Cylinder Count</th>\n",
       "      <th>Number of Passengers</th>\n",
       "      <th>Heavy-Duty Power System</th>\n",
       "    </tr>\n",
       "  </thead>\n",
       "  <tbody>\n",
       "    <tr>\n",
       "      <th>0</th>\n",
       "      <td>Sedan/Wagon</td>\n",
       "      <td>NSX</td>\n",
       "      <td>2022.0</td>\n",
       "      <td>Acura</td>\n",
       "      <td>Hybrid Electric</td>\n",
       "      <td>NaN</td>\n",
       "      <td>NaN</td>\n",
       "      <td>NaN</td>\n",
       "      <td>NaN</td>\n",
       "      <td>NaN</td>\n",
       "      <td>21.0</td>\n",
       "      <td>22.0</td>\n",
       "      <td>21.0</td>\n",
       "      <td>Auto</td>\n",
       "      <td>NaN</td>\n",
       "      <td>SI</td>\n",
       "      <td>3.5</td>\n",
       "      <td>6.0</td>\n",
       "      <td>NaN</td>\n",
       "      <td>NaN</td>\n",
       "    </tr>\n",
       "    <tr>\n",
       "      <th>1</th>\n",
       "      <td>Sedan/Wagon</td>\n",
       "      <td>A3</td>\n",
       "      <td>2022.0</td>\n",
       "      <td>Audi</td>\n",
       "      <td>Hybrid Electric</td>\n",
       "      <td>26.0</td>\n",
       "      <td>400.0</td>\n",
       "      <td>81.0</td>\n",
       "      <td>83.0</td>\n",
       "      <td>70.0</td>\n",
       "      <td>29.0</td>\n",
       "      <td>38.0</td>\n",
       "      <td>32.0</td>\n",
       "      <td>Auto</td>\n",
       "      <td>NaN</td>\n",
       "      <td>SI</td>\n",
       "      <td>2.0</td>\n",
       "      <td>4.0</td>\n",
       "      <td>NaN</td>\n",
       "      <td>NaN</td>\n",
       "    </tr>\n",
       "    <tr>\n",
       "      <th>2</th>\n",
       "      <td>Sedan/Wagon</td>\n",
       "      <td>A3 quattro</td>\n",
       "      <td>2022.0</td>\n",
       "      <td>Audi</td>\n",
       "      <td>Hybrid Electric</td>\n",
       "      <td>26.0</td>\n",
       "      <td>400.0</td>\n",
       "      <td>81.0</td>\n",
       "      <td>83.0</td>\n",
       "      <td>70.0</td>\n",
       "      <td>28.0</td>\n",
       "      <td>36.0</td>\n",
       "      <td>31.0</td>\n",
       "      <td>Auto</td>\n",
       "      <td>NaN</td>\n",
       "      <td>SI</td>\n",
       "      <td>2.0</td>\n",
       "      <td>4.0</td>\n",
       "      <td>NaN</td>\n",
       "      <td>NaN</td>\n",
       "    </tr>\n",
       "    <tr>\n",
       "      <th>3</th>\n",
       "      <td>Sedan/Wagon</td>\n",
       "      <td>A4 allroad quattro</td>\n",
       "      <td>2022.0</td>\n",
       "      <td>Audi</td>\n",
       "      <td>Hybrid Electric</td>\n",
       "      <td>26.0</td>\n",
       "      <td>400.0</td>\n",
       "      <td>81.0</td>\n",
       "      <td>83.0</td>\n",
       "      <td>70.0</td>\n",
       "      <td>24.0</td>\n",
       "      <td>30.0</td>\n",
       "      <td>26.0</td>\n",
       "      <td>Auto</td>\n",
       "      <td>NaN</td>\n",
       "      <td>SI</td>\n",
       "      <td>2.0</td>\n",
       "      <td>4.0</td>\n",
       "      <td>NaN</td>\n",
       "      <td>NaN</td>\n",
       "    </tr>\n",
       "    <tr>\n",
       "      <th>4</th>\n",
       "      <td>Sedan/Wagon</td>\n",
       "      <td>A4 quattro</td>\n",
       "      <td>2022.0</td>\n",
       "      <td>Audi</td>\n",
       "      <td>Hybrid Electric</td>\n",
       "      <td>26.0</td>\n",
       "      <td>400.0</td>\n",
       "      <td>81.0</td>\n",
       "      <td>83.0</td>\n",
       "      <td>70.0</td>\n",
       "      <td>26.0</td>\n",
       "      <td>34.0</td>\n",
       "      <td>29.0</td>\n",
       "      <td>Auto</td>\n",
       "      <td>NaN</td>\n",
       "      <td>SI</td>\n",
       "      <td>2.0</td>\n",
       "      <td>4.0</td>\n",
       "      <td>NaN</td>\n",
       "      <td>NaN</td>\n",
       "    </tr>\n",
       "    <tr>\n",
       "      <th>...</th>\n",
       "      <td>...</td>\n",
       "      <td>...</td>\n",
       "      <td>...</td>\n",
       "      <td>...</td>\n",
       "      <td>...</td>\n",
       "      <td>...</td>\n",
       "      <td>...</td>\n",
       "      <td>...</td>\n",
       "      <td>...</td>\n",
       "      <td>...</td>\n",
       "      <td>...</td>\n",
       "      <td>...</td>\n",
       "      <td>...</td>\n",
       "      <td>...</td>\n",
       "      <td>...</td>\n",
       "      <td>...</td>\n",
       "      <td>...</td>\n",
       "      <td>...</td>\n",
       "      <td>...</td>\n",
       "      <td>...</td>\n",
       "    </tr>\n",
       "    <tr>\n",
       "      <th>877</th>\n",
       "      <td>Street Sweeper</td>\n",
       "      <td>HSP</td>\n",
       "      <td>NaN</td>\n",
       "      <td>TYMCO</td>\n",
       "      <td>CNG - Compressed Natural Gas</td>\n",
       "      <td>NaN</td>\n",
       "      <td>NaN</td>\n",
       "      <td>NaN</td>\n",
       "      <td>NaN</td>\n",
       "      <td>NaN</td>\n",
       "      <td>NaN</td>\n",
       "      <td>NaN</td>\n",
       "      <td>NaN</td>\n",
       "      <td>Auto</td>\n",
       "      <td>NaN</td>\n",
       "      <td>SI</td>\n",
       "      <td>NaN</td>\n",
       "      <td>NaN</td>\n",
       "      <td>NaN</td>\n",
       "      <td>Cummins Westport L9N 8.9L Near Zero</td>\n",
       "    </tr>\n",
       "    <tr>\n",
       "      <th>878</th>\n",
       "      <td>Step Van</td>\n",
       "      <td>(various models)</td>\n",
       "      <td>NaN</td>\n",
       "      <td>Utilimaster</td>\n",
       "      <td>Electric</td>\n",
       "      <td>NaN</td>\n",
       "      <td>NaN</td>\n",
       "      <td>NaN</td>\n",
       "      <td>NaN</td>\n",
       "      <td>NaN</td>\n",
       "      <td>NaN</td>\n",
       "      <td>NaN</td>\n",
       "      <td>NaN</td>\n",
       "      <td>Automatic</td>\n",
       "      <td>NaN</td>\n",
       "      <td>SI</td>\n",
       "      <td>NaN</td>\n",
       "      <td>NaN</td>\n",
       "      <td>NaN</td>\n",
       "      <td>NaN</td>\n",
       "    </tr>\n",
       "    <tr>\n",
       "      <th>879</th>\n",
       "      <td>Transit Bus</td>\n",
       "      <td>CX45E</td>\n",
       "      <td>NaN</td>\n",
       "      <td>Van Hool</td>\n",
       "      <td>Electric</td>\n",
       "      <td>NaN</td>\n",
       "      <td>NaN</td>\n",
       "      <td>NaN</td>\n",
       "      <td>NaN</td>\n",
       "      <td>NaN</td>\n",
       "      <td>NaN</td>\n",
       "      <td>NaN</td>\n",
       "      <td>NaN</td>\n",
       "      <td>Auto</td>\n",
       "      <td>NaN</td>\n",
       "      <td>SI</td>\n",
       "      <td>NaN</td>\n",
       "      <td>NaN</td>\n",
       "      <td>Up to 56</td>\n",
       "      <td>Siemens  ELFA2 Electric Drive System 360kW</td>\n",
       "    </tr>\n",
       "    <tr>\n",
       "      <th>880</th>\n",
       "      <td>Tractor</td>\n",
       "      <td>VNR Electric - Class 8</td>\n",
       "      <td>NaN</td>\n",
       "      <td>Volvo</td>\n",
       "      <td>Electric</td>\n",
       "      <td>NaN</td>\n",
       "      <td>NaN</td>\n",
       "      <td>NaN</td>\n",
       "      <td>NaN</td>\n",
       "      <td>NaN</td>\n",
       "      <td>NaN</td>\n",
       "      <td>NaN</td>\n",
       "      <td>NaN</td>\n",
       "      <td>Auto</td>\n",
       "      <td>NaN</td>\n",
       "      <td>SI</td>\n",
       "      <td>NaN</td>\n",
       "      <td>NaN</td>\n",
       "      <td>NaN</td>\n",
       "      <td>NaN</td>\n",
       "    </tr>\n",
       "    <tr>\n",
       "      <th>881</th>\n",
       "      <td>Step Van</td>\n",
       "      <td>C-Series</td>\n",
       "      <td>NaN</td>\n",
       "      <td>Workhorse</td>\n",
       "      <td>Electric</td>\n",
       "      <td>NaN</td>\n",
       "      <td>NaN</td>\n",
       "      <td>NaN</td>\n",
       "      <td>NaN</td>\n",
       "      <td>NaN</td>\n",
       "      <td>NaN</td>\n",
       "      <td>NaN</td>\n",
       "      <td>NaN</td>\n",
       "      <td>Automatic</td>\n",
       "      <td>NaN</td>\n",
       "      <td>SI</td>\n",
       "      <td>NaN</td>\n",
       "      <td>NaN</td>\n",
       "      <td>NaN</td>\n",
       "      <td>Workhorse Dual Axial Flux Interior Permanent M...</td>\n",
       "    </tr>\n",
       "  </tbody>\n",
       "</table>\n",
       "<p>882 rows × 20 columns</p>\n",
       "</div>"
      ],
      "text/plain": [
       "           Category                   Model  Model Year Manufacturer  \\\n",
       "0       Sedan/Wagon                     NSX      2022.0        Acura   \n",
       "1       Sedan/Wagon                     A3       2022.0         Audi   \n",
       "2       Sedan/Wagon              A3 quattro      2022.0         Audi   \n",
       "3       Sedan/Wagon      A4 allroad quattro      2022.0         Audi   \n",
       "4       Sedan/Wagon              A4 quattro      2022.0         Audi   \n",
       "..              ...                     ...         ...          ...   \n",
       "877  Street Sweeper                     HSP         NaN        TYMCO   \n",
       "878        Step Van        (various models)         NaN  Utilimaster   \n",
       "879     Transit Bus                   CX45E         NaN     Van Hool   \n",
       "880         Tractor  VNR Electric - Class 8         NaN        Volvo   \n",
       "881        Step Van                C-Series         NaN    Workhorse   \n",
       "\n",
       "                             Fuel  All-Electric Range  PHEV Total Range  \\\n",
       "0                 Hybrid Electric                 NaN               NaN   \n",
       "1                 Hybrid Electric                26.0             400.0   \n",
       "2                 Hybrid Electric                26.0             400.0   \n",
       "3                 Hybrid Electric                26.0             400.0   \n",
       "4                 Hybrid Electric                26.0             400.0   \n",
       "..                            ...                 ...               ...   \n",
       "877  CNG - Compressed Natural Gas                 NaN               NaN   \n",
       "878                      Electric                 NaN               NaN   \n",
       "879                      Electric                 NaN               NaN   \n",
       "880                      Electric                 NaN               NaN   \n",
       "881                      Electric                 NaN               NaN   \n",
       "\n",
       "     Alternative Fuel Economy City  Alternative Fuel Economy Highway  \\\n",
       "0                              NaN                               NaN   \n",
       "1                             81.0                              83.0   \n",
       "2                             81.0                              83.0   \n",
       "3                             81.0                              83.0   \n",
       "4                             81.0                              83.0   \n",
       "..                             ...                               ...   \n",
       "877                            NaN                               NaN   \n",
       "878                            NaN                               NaN   \n",
       "879                            NaN                               NaN   \n",
       "880                            NaN                               NaN   \n",
       "881                            NaN                               NaN   \n",
       "\n",
       "     Alternative Fuel Economy Combined  Conventional Fuel Economy City  \\\n",
       "0                                  NaN                            21.0   \n",
       "1                                 70.0                            29.0   \n",
       "2                                 70.0                            28.0   \n",
       "3                                 70.0                            24.0   \n",
       "4                                 70.0                            26.0   \n",
       "..                                 ...                             ...   \n",
       "877                                NaN                             NaN   \n",
       "878                                NaN                             NaN   \n",
       "879                                NaN                             NaN   \n",
       "880                                NaN                             NaN   \n",
       "881                                NaN                             NaN   \n",
       "\n",
       "     Conventional Fuel Economy Highway  Conventional Fuel Economy Combined  \\\n",
       "0                                 22.0                                21.0   \n",
       "1                                 38.0                                32.0   \n",
       "2                                 36.0                                31.0   \n",
       "3                                 30.0                                26.0   \n",
       "4                                 34.0                                29.0   \n",
       "..                                 ...                                 ...   \n",
       "877                                NaN                                 NaN   \n",
       "878                                NaN                                 NaN   \n",
       "879                                NaN                                 NaN   \n",
       "880                                NaN                                 NaN   \n",
       "881                                NaN                                 NaN   \n",
       "\n",
       "    Transmission Type Transmission Make Engine Type  Engine Size  \\\n",
       "0                Auto               NaN          SI          3.5   \n",
       "1                Auto               NaN          SI          2.0   \n",
       "2                Auto               NaN          SI          2.0   \n",
       "3                Auto               NaN          SI          2.0   \n",
       "4                Auto               NaN          SI          2.0   \n",
       "..                ...               ...         ...          ...   \n",
       "877              Auto               NaN          SI          NaN   \n",
       "878         Automatic               NaN          SI          NaN   \n",
       "879              Auto               NaN          SI          NaN   \n",
       "880              Auto               NaN          SI          NaN   \n",
       "881         Automatic               NaN          SI          NaN   \n",
       "\n",
       "     Engine Cylinder Count Number of Passengers  \\\n",
       "0                      6.0                  NaN   \n",
       "1                      4.0                  NaN   \n",
       "2                      4.0                  NaN   \n",
       "3                      4.0                  NaN   \n",
       "4                      4.0                  NaN   \n",
       "..                     ...                  ...   \n",
       "877                    NaN                  NaN   \n",
       "878                    NaN                  NaN   \n",
       "879                    NaN             Up to 56   \n",
       "880                    NaN                  NaN   \n",
       "881                    NaN                  NaN   \n",
       "\n",
       "                               Heavy-Duty Power System  \n",
       "0                                                  NaN  \n",
       "1                                                  NaN  \n",
       "2                                                  NaN  \n",
       "3                                                  NaN  \n",
       "4                                                  NaN  \n",
       "..                                                 ...  \n",
       "877                Cummins Westport L9N 8.9L Near Zero  \n",
       "878                                                NaN  \n",
       "879         Siemens  ELFA2 Electric Drive System 360kW  \n",
       "880                                                NaN  \n",
       "881  Workhorse Dual Axial Flux Interior Permanent M...  \n",
       "\n",
       "[882 rows x 20 columns]"
      ]
     },
     "execution_count": 81,
     "metadata": {},
     "output_type": "execute_result"
    }
   ],
   "source": [
    "df_ev_alt_us"
   ]
  },
  {
   "cell_type": "code",
   "execution_count": 85,
   "id": "8df4ff9c-2d46-4d98-8d64-a5f6bbec10b1",
   "metadata": {},
   "outputs": [
    {
     "data": {
      "text/plain": [
       "array(['Hybrid Electric', 'Plug-in Hybrid Electric', 'Electric',\n",
       "       'Biodiesel (B20)', 'Ethanol (E85)', 'Hydrogen Fuel Cell',\n",
       "       'CNG - Bi-fuel', 'CNG - Compressed Natural Gas',\n",
       "       'Propane - Bi-fuel', 'Propane',\n",
       "       'LNG - Liquified Natural Gas|CNG - Compressed Natural Gas',\n",
       "       'CNG - Compressed Natural Gas|LNG - Liquified Natural Gas',\n",
       "       'Propane|CNG - Compressed Natural Gas',\n",
       "       'CNG - Compressed Natural Gas|Plug-in Hybrid Electric',\n",
       "       'Diesel/Hybrid Electric',\n",
       "       'Propane - Bi-fuel|CNG - Bi-fuel|Propane|CNG - Compressed Natural Gas|Ethanol (E85)',\n",
       "       'Propane - Bi-fuel|Propane|CNG - Bi-fuel|Ethanol (E85)|CNG - Compressed Natural Gas',\n",
       "       'CNG - Compressed Natural Gas|Propane - Bi-fuel|E85/Hybrid Electric|CNG - Bi-fuel|Propane',\n",
       "       'CNG - Bi-fuel|Ethanol (E85)|CNG - Compressed Natural Gas|Propane|Propane - Bi-fuel',\n",
       "       'Propane - Bi-fuel|Propane|CNG - Compressed Natural Gas|CNG - Bi-fuel',\n",
       "       'CNG - Compressed Natural Gas|Propane',\n",
       "       'CNG - Compressed Natural Gas|Propane - Bi-fuel'], dtype=object)"
      ]
     },
     "execution_count": 85,
     "metadata": {},
     "output_type": "execute_result"
    }
   ],
   "source": [
    "df_ev_alt_us['Fuel'].unique()"
   ]
  },
  {
   "cell_type": "markdown",
   "id": "d6cb4a77-9501-4e08-a6f9-5e77528436c6",
   "metadata": {},
   "source": [
    "EVs:  'Electric', 'Hybrid Electric', 'Plug-in Hybrid Electric','Diesel/Hybrid Electric',\n",
    "        'CNG - Compressed Natural Gas|Propane - Bi-fuel|E85/Hybrid Electric|CNG - Bi-fuel|Propane'\n",
    "AFVs: 'Biodiesel (B20)', 'Ethanol (E85)', 'Hydrogen Fuel Cell',\r\n",
    "       'CNG - Bi-fuel', 'CNG - Compressed Natural Gas',\r\n",
    "       'Propane - Bi-fuel', 'Propane',\r\n",
    "       'LNG - Liquified Natural Gas|CNG - Compressed Natural Gas',\r\n",
    "       'CNG - Compressed Natural Gas|LNG - Liquified Natural Gas',\r\n",
    "       'Propane|CNG - Compressed Natural Gas',\r\n",
    "       'CNG - Compressed Natural Gas|Plug-in Hybrid Elecctric',\r\n",
    "       'Propane - Bi-fuel|CNG - Bi-fuel|Propane|CNG - Compressed Natural Gas|Ethanol (E85)',\r\n",
    "       'Propane - Bi-fuel|Propane|CNG - Bi-fuel|Ethanol (E85)|CNG - Compressed Natu|Propane',\r\n",
    "       'CNG - Bi-fuel|Ethanol (E85)|CNG - Compressed Natural Gas|Propane|Propane - Bi-fuel',\r\n",
    "       'Propane - Bi-fuel|Propane|CNG - Compressed Natural Gas|CNG - Bi-fuel',\r\n",
    "       'CNG - Compressed Natural Gas|Propane',\r\n",
    "       'CNG - Compressed Natural Gas|Propane - Bi-fuel'"
   ]
  },
  {
   "cell_type": "code",
   "execution_count": 91,
   "id": "14c8bb19-af81-4918-9617-f6f8e8aad2de",
   "metadata": {},
   "outputs": [],
   "source": [
    "# Create a function to categorize fuels\n",
    "def categorize_fuel(fuel):\n",
    "    if 'Electric' in fuel:\n",
    "        return 'EVs'\n",
    "    else:\n",
    "        return 'AFVs'\n",
    "\n",
    "# Apply the categorize_fuel function to create a new column 'Fuel Category'\n",
    "df_ev_alt_us['Fuel Category'] = df_ev_alt_us['Fuel'].apply(categorize_fuel)\n",
    "\n"
   ]
  },
  {
   "cell_type": "code",
   "execution_count": 92,
   "id": "81fe3524-ff4d-425e-bd96-26b3a37b4ee2",
   "metadata": {},
   "outputs": [
    {
     "data": {
      "text/html": [
       "<div>\n",
       "<style scoped>\n",
       "    .dataframe tbody tr th:only-of-type {\n",
       "        vertical-align: middle;\n",
       "    }\n",
       "\n",
       "    .dataframe tbody tr th {\n",
       "        vertical-align: top;\n",
       "    }\n",
       "\n",
       "    .dataframe thead th {\n",
       "        text-align: right;\n",
       "    }\n",
       "</style>\n",
       "<table border=\"1\" class=\"dataframe\">\n",
       "  <thead>\n",
       "    <tr style=\"text-align: right;\">\n",
       "      <th></th>\n",
       "      <th>Category</th>\n",
       "      <th>Model</th>\n",
       "      <th>Model Year</th>\n",
       "      <th>Manufacturer</th>\n",
       "      <th>Fuel</th>\n",
       "      <th>All-Electric Range</th>\n",
       "      <th>PHEV Total Range</th>\n",
       "      <th>Alternative Fuel Economy City</th>\n",
       "      <th>Alternative Fuel Economy Highway</th>\n",
       "      <th>Alternative Fuel Economy Combined</th>\n",
       "      <th>...</th>\n",
       "      <th>Conventional Fuel Economy Highway</th>\n",
       "      <th>Conventional Fuel Economy Combined</th>\n",
       "      <th>Transmission Type</th>\n",
       "      <th>Transmission Make</th>\n",
       "      <th>Engine Type</th>\n",
       "      <th>Engine Size</th>\n",
       "      <th>Engine Cylinder Count</th>\n",
       "      <th>Number of Passengers</th>\n",
       "      <th>Heavy-Duty Power System</th>\n",
       "      <th>Fuel Category</th>\n",
       "    </tr>\n",
       "  </thead>\n",
       "  <tbody>\n",
       "    <tr>\n",
       "      <th>0</th>\n",
       "      <td>Sedan/Wagon</td>\n",
       "      <td>NSX</td>\n",
       "      <td>2022.0</td>\n",
       "      <td>Acura</td>\n",
       "      <td>Hybrid Electric</td>\n",
       "      <td>NaN</td>\n",
       "      <td>NaN</td>\n",
       "      <td>NaN</td>\n",
       "      <td>NaN</td>\n",
       "      <td>NaN</td>\n",
       "      <td>...</td>\n",
       "      <td>22.0</td>\n",
       "      <td>21.0</td>\n",
       "      <td>Auto</td>\n",
       "      <td>NaN</td>\n",
       "      <td>SI</td>\n",
       "      <td>3.5</td>\n",
       "      <td>6.0</td>\n",
       "      <td>NaN</td>\n",
       "      <td>NaN</td>\n",
       "      <td>EVs</td>\n",
       "    </tr>\n",
       "    <tr>\n",
       "      <th>1</th>\n",
       "      <td>Sedan/Wagon</td>\n",
       "      <td>A3</td>\n",
       "      <td>2022.0</td>\n",
       "      <td>Audi</td>\n",
       "      <td>Hybrid Electric</td>\n",
       "      <td>26.0</td>\n",
       "      <td>400.0</td>\n",
       "      <td>81.0</td>\n",
       "      <td>83.0</td>\n",
       "      <td>70.0</td>\n",
       "      <td>...</td>\n",
       "      <td>38.0</td>\n",
       "      <td>32.0</td>\n",
       "      <td>Auto</td>\n",
       "      <td>NaN</td>\n",
       "      <td>SI</td>\n",
       "      <td>2.0</td>\n",
       "      <td>4.0</td>\n",
       "      <td>NaN</td>\n",
       "      <td>NaN</td>\n",
       "      <td>EVs</td>\n",
       "    </tr>\n",
       "    <tr>\n",
       "      <th>2</th>\n",
       "      <td>Sedan/Wagon</td>\n",
       "      <td>A3 quattro</td>\n",
       "      <td>2022.0</td>\n",
       "      <td>Audi</td>\n",
       "      <td>Hybrid Electric</td>\n",
       "      <td>26.0</td>\n",
       "      <td>400.0</td>\n",
       "      <td>81.0</td>\n",
       "      <td>83.0</td>\n",
       "      <td>70.0</td>\n",
       "      <td>...</td>\n",
       "      <td>36.0</td>\n",
       "      <td>31.0</td>\n",
       "      <td>Auto</td>\n",
       "      <td>NaN</td>\n",
       "      <td>SI</td>\n",
       "      <td>2.0</td>\n",
       "      <td>4.0</td>\n",
       "      <td>NaN</td>\n",
       "      <td>NaN</td>\n",
       "      <td>EVs</td>\n",
       "    </tr>\n",
       "    <tr>\n",
       "      <th>3</th>\n",
       "      <td>Sedan/Wagon</td>\n",
       "      <td>A4 allroad quattro</td>\n",
       "      <td>2022.0</td>\n",
       "      <td>Audi</td>\n",
       "      <td>Hybrid Electric</td>\n",
       "      <td>26.0</td>\n",
       "      <td>400.0</td>\n",
       "      <td>81.0</td>\n",
       "      <td>83.0</td>\n",
       "      <td>70.0</td>\n",
       "      <td>...</td>\n",
       "      <td>30.0</td>\n",
       "      <td>26.0</td>\n",
       "      <td>Auto</td>\n",
       "      <td>NaN</td>\n",
       "      <td>SI</td>\n",
       "      <td>2.0</td>\n",
       "      <td>4.0</td>\n",
       "      <td>NaN</td>\n",
       "      <td>NaN</td>\n",
       "      <td>EVs</td>\n",
       "    </tr>\n",
       "    <tr>\n",
       "      <th>4</th>\n",
       "      <td>Sedan/Wagon</td>\n",
       "      <td>A4 quattro</td>\n",
       "      <td>2022.0</td>\n",
       "      <td>Audi</td>\n",
       "      <td>Hybrid Electric</td>\n",
       "      <td>26.0</td>\n",
       "      <td>400.0</td>\n",
       "      <td>81.0</td>\n",
       "      <td>83.0</td>\n",
       "      <td>70.0</td>\n",
       "      <td>...</td>\n",
       "      <td>34.0</td>\n",
       "      <td>29.0</td>\n",
       "      <td>Auto</td>\n",
       "      <td>NaN</td>\n",
       "      <td>SI</td>\n",
       "      <td>2.0</td>\n",
       "      <td>4.0</td>\n",
       "      <td>NaN</td>\n",
       "      <td>NaN</td>\n",
       "      <td>EVs</td>\n",
       "    </tr>\n",
       "    <tr>\n",
       "      <th>...</th>\n",
       "      <td>...</td>\n",
       "      <td>...</td>\n",
       "      <td>...</td>\n",
       "      <td>...</td>\n",
       "      <td>...</td>\n",
       "      <td>...</td>\n",
       "      <td>...</td>\n",
       "      <td>...</td>\n",
       "      <td>...</td>\n",
       "      <td>...</td>\n",
       "      <td>...</td>\n",
       "      <td>...</td>\n",
       "      <td>...</td>\n",
       "      <td>...</td>\n",
       "      <td>...</td>\n",
       "      <td>...</td>\n",
       "      <td>...</td>\n",
       "      <td>...</td>\n",
       "      <td>...</td>\n",
       "      <td>...</td>\n",
       "      <td>...</td>\n",
       "    </tr>\n",
       "    <tr>\n",
       "      <th>877</th>\n",
       "      <td>Street Sweeper</td>\n",
       "      <td>HSP</td>\n",
       "      <td>NaN</td>\n",
       "      <td>TYMCO</td>\n",
       "      <td>CNG - Compressed Natural Gas</td>\n",
       "      <td>NaN</td>\n",
       "      <td>NaN</td>\n",
       "      <td>NaN</td>\n",
       "      <td>NaN</td>\n",
       "      <td>NaN</td>\n",
       "      <td>...</td>\n",
       "      <td>NaN</td>\n",
       "      <td>NaN</td>\n",
       "      <td>Auto</td>\n",
       "      <td>NaN</td>\n",
       "      <td>SI</td>\n",
       "      <td>NaN</td>\n",
       "      <td>NaN</td>\n",
       "      <td>NaN</td>\n",
       "      <td>Cummins Westport L9N 8.9L Near Zero</td>\n",
       "      <td>AFVs</td>\n",
       "    </tr>\n",
       "    <tr>\n",
       "      <th>878</th>\n",
       "      <td>Step Van</td>\n",
       "      <td>(various models)</td>\n",
       "      <td>NaN</td>\n",
       "      <td>Utilimaster</td>\n",
       "      <td>Electric</td>\n",
       "      <td>NaN</td>\n",
       "      <td>NaN</td>\n",
       "      <td>NaN</td>\n",
       "      <td>NaN</td>\n",
       "      <td>NaN</td>\n",
       "      <td>...</td>\n",
       "      <td>NaN</td>\n",
       "      <td>NaN</td>\n",
       "      <td>Automatic</td>\n",
       "      <td>NaN</td>\n",
       "      <td>SI</td>\n",
       "      <td>NaN</td>\n",
       "      <td>NaN</td>\n",
       "      <td>NaN</td>\n",
       "      <td>NaN</td>\n",
       "      <td>EVs</td>\n",
       "    </tr>\n",
       "    <tr>\n",
       "      <th>879</th>\n",
       "      <td>Transit Bus</td>\n",
       "      <td>CX45E</td>\n",
       "      <td>NaN</td>\n",
       "      <td>Van Hool</td>\n",
       "      <td>Electric</td>\n",
       "      <td>NaN</td>\n",
       "      <td>NaN</td>\n",
       "      <td>NaN</td>\n",
       "      <td>NaN</td>\n",
       "      <td>NaN</td>\n",
       "      <td>...</td>\n",
       "      <td>NaN</td>\n",
       "      <td>NaN</td>\n",
       "      <td>Auto</td>\n",
       "      <td>NaN</td>\n",
       "      <td>SI</td>\n",
       "      <td>NaN</td>\n",
       "      <td>NaN</td>\n",
       "      <td>Up to 56</td>\n",
       "      <td>Siemens  ELFA2 Electric Drive System 360kW</td>\n",
       "      <td>EVs</td>\n",
       "    </tr>\n",
       "    <tr>\n",
       "      <th>880</th>\n",
       "      <td>Tractor</td>\n",
       "      <td>VNR Electric - Class 8</td>\n",
       "      <td>NaN</td>\n",
       "      <td>Volvo</td>\n",
       "      <td>Electric</td>\n",
       "      <td>NaN</td>\n",
       "      <td>NaN</td>\n",
       "      <td>NaN</td>\n",
       "      <td>NaN</td>\n",
       "      <td>NaN</td>\n",
       "      <td>...</td>\n",
       "      <td>NaN</td>\n",
       "      <td>NaN</td>\n",
       "      <td>Auto</td>\n",
       "      <td>NaN</td>\n",
       "      <td>SI</td>\n",
       "      <td>NaN</td>\n",
       "      <td>NaN</td>\n",
       "      <td>NaN</td>\n",
       "      <td>NaN</td>\n",
       "      <td>EVs</td>\n",
       "    </tr>\n",
       "    <tr>\n",
       "      <th>881</th>\n",
       "      <td>Step Van</td>\n",
       "      <td>C-Series</td>\n",
       "      <td>NaN</td>\n",
       "      <td>Workhorse</td>\n",
       "      <td>Electric</td>\n",
       "      <td>NaN</td>\n",
       "      <td>NaN</td>\n",
       "      <td>NaN</td>\n",
       "      <td>NaN</td>\n",
       "      <td>NaN</td>\n",
       "      <td>...</td>\n",
       "      <td>NaN</td>\n",
       "      <td>NaN</td>\n",
       "      <td>Automatic</td>\n",
       "      <td>NaN</td>\n",
       "      <td>SI</td>\n",
       "      <td>NaN</td>\n",
       "      <td>NaN</td>\n",
       "      <td>NaN</td>\n",
       "      <td>Workhorse Dual Axial Flux Interior Permanent M...</td>\n",
       "      <td>EVs</td>\n",
       "    </tr>\n",
       "  </tbody>\n",
       "</table>\n",
       "<p>882 rows × 21 columns</p>\n",
       "</div>"
      ],
      "text/plain": [
       "           Category                   Model  Model Year Manufacturer  \\\n",
       "0       Sedan/Wagon                     NSX      2022.0        Acura   \n",
       "1       Sedan/Wagon                     A3       2022.0         Audi   \n",
       "2       Sedan/Wagon              A3 quattro      2022.0         Audi   \n",
       "3       Sedan/Wagon      A4 allroad quattro      2022.0         Audi   \n",
       "4       Sedan/Wagon              A4 quattro      2022.0         Audi   \n",
       "..              ...                     ...         ...          ...   \n",
       "877  Street Sweeper                     HSP         NaN        TYMCO   \n",
       "878        Step Van        (various models)         NaN  Utilimaster   \n",
       "879     Transit Bus                   CX45E         NaN     Van Hool   \n",
       "880         Tractor  VNR Electric - Class 8         NaN        Volvo   \n",
       "881        Step Van                C-Series         NaN    Workhorse   \n",
       "\n",
       "                             Fuel  All-Electric Range  PHEV Total Range  \\\n",
       "0                 Hybrid Electric                 NaN               NaN   \n",
       "1                 Hybrid Electric                26.0             400.0   \n",
       "2                 Hybrid Electric                26.0             400.0   \n",
       "3                 Hybrid Electric                26.0             400.0   \n",
       "4                 Hybrid Electric                26.0             400.0   \n",
       "..                            ...                 ...               ...   \n",
       "877  CNG - Compressed Natural Gas                 NaN               NaN   \n",
       "878                      Electric                 NaN               NaN   \n",
       "879                      Electric                 NaN               NaN   \n",
       "880                      Electric                 NaN               NaN   \n",
       "881                      Electric                 NaN               NaN   \n",
       "\n",
       "     Alternative Fuel Economy City  Alternative Fuel Economy Highway  \\\n",
       "0                              NaN                               NaN   \n",
       "1                             81.0                              83.0   \n",
       "2                             81.0                              83.0   \n",
       "3                             81.0                              83.0   \n",
       "4                             81.0                              83.0   \n",
       "..                             ...                               ...   \n",
       "877                            NaN                               NaN   \n",
       "878                            NaN                               NaN   \n",
       "879                            NaN                               NaN   \n",
       "880                            NaN                               NaN   \n",
       "881                            NaN                               NaN   \n",
       "\n",
       "     Alternative Fuel Economy Combined  ...  \\\n",
       "0                                  NaN  ...   \n",
       "1                                 70.0  ...   \n",
       "2                                 70.0  ...   \n",
       "3                                 70.0  ...   \n",
       "4                                 70.0  ...   \n",
       "..                                 ...  ...   \n",
       "877                                NaN  ...   \n",
       "878                                NaN  ...   \n",
       "879                                NaN  ...   \n",
       "880                                NaN  ...   \n",
       "881                                NaN  ...   \n",
       "\n",
       "     Conventional Fuel Economy Highway  Conventional Fuel Economy Combined  \\\n",
       "0                                 22.0                                21.0   \n",
       "1                                 38.0                                32.0   \n",
       "2                                 36.0                                31.0   \n",
       "3                                 30.0                                26.0   \n",
       "4                                 34.0                                29.0   \n",
       "..                                 ...                                 ...   \n",
       "877                                NaN                                 NaN   \n",
       "878                                NaN                                 NaN   \n",
       "879                                NaN                                 NaN   \n",
       "880                                NaN                                 NaN   \n",
       "881                                NaN                                 NaN   \n",
       "\n",
       "     Transmission Type Transmission Make Engine Type Engine Size  \\\n",
       "0                 Auto               NaN          SI         3.5   \n",
       "1                 Auto               NaN          SI         2.0   \n",
       "2                 Auto               NaN          SI         2.0   \n",
       "3                 Auto               NaN          SI         2.0   \n",
       "4                 Auto               NaN          SI         2.0   \n",
       "..                 ...               ...         ...         ...   \n",
       "877               Auto               NaN          SI         NaN   \n",
       "878          Automatic               NaN          SI         NaN   \n",
       "879               Auto               NaN          SI         NaN   \n",
       "880               Auto               NaN          SI         NaN   \n",
       "881          Automatic               NaN          SI         NaN   \n",
       "\n",
       "     Engine Cylinder Count  Number of Passengers  \\\n",
       "0                      6.0                   NaN   \n",
       "1                      4.0                   NaN   \n",
       "2                      4.0                   NaN   \n",
       "3                      4.0                   NaN   \n",
       "4                      4.0                   NaN   \n",
       "..                     ...                   ...   \n",
       "877                    NaN                   NaN   \n",
       "878                    NaN                   NaN   \n",
       "879                    NaN              Up to 56   \n",
       "880                    NaN                   NaN   \n",
       "881                    NaN                   NaN   \n",
       "\n",
       "                               Heavy-Duty Power System Fuel Category  \n",
       "0                                                  NaN           EVs  \n",
       "1                                                  NaN           EVs  \n",
       "2                                                  NaN           EVs  \n",
       "3                                                  NaN           EVs  \n",
       "4                                                  NaN           EVs  \n",
       "..                                                 ...           ...  \n",
       "877                Cummins Westport L9N 8.9L Near Zero          AFVs  \n",
       "878                                                NaN           EVs  \n",
       "879         Siemens  ELFA2 Electric Drive System 360kW           EVs  \n",
       "880                                                NaN           EVs  \n",
       "881  Workhorse Dual Axial Flux Interior Permanent M...           EVs  \n",
       "\n",
       "[882 rows x 21 columns]"
      ]
     },
     "execution_count": 92,
     "metadata": {},
     "output_type": "execute_result"
    }
   ],
   "source": [
    "df_ev_alt_us"
   ]
  },
  {
   "cell_type": "markdown",
   "id": "d5de9ede-3bc0-45d7-809a-070d355524ad",
   "metadata": {},
   "source": [
    "#### Market Share of EVs and AFVs"
   ]
  },
  {
   "cell_type": "code",
   "execution_count": 94,
   "id": "b473fc32-da50-4ea0-9467-15d78474d407",
   "metadata": {},
   "outputs": [],
   "source": [
    "market_share = df_ev_alt_us['Fuel Category'].value_counts(normalize=True) * 100"
   ]
  },
  {
   "cell_type": "code",
   "execution_count": 90,
   "id": "2a6cb3a7-a2d2-4486-bb5b-aba54c955f81",
   "metadata": {},
   "outputs": [
    {
     "data": {
      "text/plain": [
       "Fuel Category\n",
       "EVs     73.015873\n",
       "AFVs    26.984127\n",
       "Name: proportion, dtype: float64"
      ]
     },
     "execution_count": 90,
     "metadata": {},
     "output_type": "execute_result"
    }
   ],
   "source": [
    "market_share\n",
    "#EVs contains hybrid electric also"
   ]
  },
  {
   "cell_type": "code",
   "execution_count": 107,
   "id": "09db2a90-08a4-4b11-bdcf-c13551c2d60a",
   "metadata": {},
   "outputs": [
    {
     "data": {
      "application/vnd.plotly.v1+json": {
       "config": {
        "plotlyServerURL": "https://plot.ly"
       },
       "data": [
        {
         "domain": {
          "x": [
           0,
           1
          ],
          "y": [
           0,
           1
          ]
         },
         "hovertemplate": "Fuel Category=%{label}<br>value=%{value}<extra></extra>",
         "labels": [
          "EVs",
          "AFVs"
         ],
         "legendgroup": "",
         "name": "",
         "showlegend": true,
         "type": "pie",
         "values": [
          73.01587301587301,
          26.984126984126984
         ]
        }
       ],
       "layout": {
        "height": 500,
        "legend": {
         "tracegroupgap": 0
        },
        "piecolorway": [
         "#1f77b4",
         "#ff7f0e"
        ],
        "template": {
         "data": {
          "bar": [
           {
            "error_x": {
             "color": "#2a3f5f"
            },
            "error_y": {
             "color": "#2a3f5f"
            },
            "marker": {
             "line": {
              "color": "#E5ECF6",
              "width": 0.5
             },
             "pattern": {
              "fillmode": "overlay",
              "size": 10,
              "solidity": 0.2
             }
            },
            "type": "bar"
           }
          ],
          "barpolar": [
           {
            "marker": {
             "line": {
              "color": "#E5ECF6",
              "width": 0.5
             },
             "pattern": {
              "fillmode": "overlay",
              "size": 10,
              "solidity": 0.2
             }
            },
            "type": "barpolar"
           }
          ],
          "carpet": [
           {
            "aaxis": {
             "endlinecolor": "#2a3f5f",
             "gridcolor": "white",
             "linecolor": "white",
             "minorgridcolor": "white",
             "startlinecolor": "#2a3f5f"
            },
            "baxis": {
             "endlinecolor": "#2a3f5f",
             "gridcolor": "white",
             "linecolor": "white",
             "minorgridcolor": "white",
             "startlinecolor": "#2a3f5f"
            },
            "type": "carpet"
           }
          ],
          "choropleth": [
           {
            "colorbar": {
             "outlinewidth": 0,
             "ticks": ""
            },
            "type": "choropleth"
           }
          ],
          "contour": [
           {
            "colorbar": {
             "outlinewidth": 0,
             "ticks": ""
            },
            "colorscale": [
             [
              0,
              "#0d0887"
             ],
             [
              0.1111111111111111,
              "#46039f"
             ],
             [
              0.2222222222222222,
              "#7201a8"
             ],
             [
              0.3333333333333333,
              "#9c179e"
             ],
             [
              0.4444444444444444,
              "#bd3786"
             ],
             [
              0.5555555555555556,
              "#d8576b"
             ],
             [
              0.6666666666666666,
              "#ed7953"
             ],
             [
              0.7777777777777778,
              "#fb9f3a"
             ],
             [
              0.8888888888888888,
              "#fdca26"
             ],
             [
              1,
              "#f0f921"
             ]
            ],
            "type": "contour"
           }
          ],
          "contourcarpet": [
           {
            "colorbar": {
             "outlinewidth": 0,
             "ticks": ""
            },
            "type": "contourcarpet"
           }
          ],
          "heatmap": [
           {
            "colorbar": {
             "outlinewidth": 0,
             "ticks": ""
            },
            "colorscale": [
             [
              0,
              "#0d0887"
             ],
             [
              0.1111111111111111,
              "#46039f"
             ],
             [
              0.2222222222222222,
              "#7201a8"
             ],
             [
              0.3333333333333333,
              "#9c179e"
             ],
             [
              0.4444444444444444,
              "#bd3786"
             ],
             [
              0.5555555555555556,
              "#d8576b"
             ],
             [
              0.6666666666666666,
              "#ed7953"
             ],
             [
              0.7777777777777778,
              "#fb9f3a"
             ],
             [
              0.8888888888888888,
              "#fdca26"
             ],
             [
              1,
              "#f0f921"
             ]
            ],
            "type": "heatmap"
           }
          ],
          "heatmapgl": [
           {
            "colorbar": {
             "outlinewidth": 0,
             "ticks": ""
            },
            "colorscale": [
             [
              0,
              "#0d0887"
             ],
             [
              0.1111111111111111,
              "#46039f"
             ],
             [
              0.2222222222222222,
              "#7201a8"
             ],
             [
              0.3333333333333333,
              "#9c179e"
             ],
             [
              0.4444444444444444,
              "#bd3786"
             ],
             [
              0.5555555555555556,
              "#d8576b"
             ],
             [
              0.6666666666666666,
              "#ed7953"
             ],
             [
              0.7777777777777778,
              "#fb9f3a"
             ],
             [
              0.8888888888888888,
              "#fdca26"
             ],
             [
              1,
              "#f0f921"
             ]
            ],
            "type": "heatmapgl"
           }
          ],
          "histogram": [
           {
            "marker": {
             "pattern": {
              "fillmode": "overlay",
              "size": 10,
              "solidity": 0.2
             }
            },
            "type": "histogram"
           }
          ],
          "histogram2d": [
           {
            "colorbar": {
             "outlinewidth": 0,
             "ticks": ""
            },
            "colorscale": [
             [
              0,
              "#0d0887"
             ],
             [
              0.1111111111111111,
              "#46039f"
             ],
             [
              0.2222222222222222,
              "#7201a8"
             ],
             [
              0.3333333333333333,
              "#9c179e"
             ],
             [
              0.4444444444444444,
              "#bd3786"
             ],
             [
              0.5555555555555556,
              "#d8576b"
             ],
             [
              0.6666666666666666,
              "#ed7953"
             ],
             [
              0.7777777777777778,
              "#fb9f3a"
             ],
             [
              0.8888888888888888,
              "#fdca26"
             ],
             [
              1,
              "#f0f921"
             ]
            ],
            "type": "histogram2d"
           }
          ],
          "histogram2dcontour": [
           {
            "colorbar": {
             "outlinewidth": 0,
             "ticks": ""
            },
            "colorscale": [
             [
              0,
              "#0d0887"
             ],
             [
              0.1111111111111111,
              "#46039f"
             ],
             [
              0.2222222222222222,
              "#7201a8"
             ],
             [
              0.3333333333333333,
              "#9c179e"
             ],
             [
              0.4444444444444444,
              "#bd3786"
             ],
             [
              0.5555555555555556,
              "#d8576b"
             ],
             [
              0.6666666666666666,
              "#ed7953"
             ],
             [
              0.7777777777777778,
              "#fb9f3a"
             ],
             [
              0.8888888888888888,
              "#fdca26"
             ],
             [
              1,
              "#f0f921"
             ]
            ],
            "type": "histogram2dcontour"
           }
          ],
          "mesh3d": [
           {
            "colorbar": {
             "outlinewidth": 0,
             "ticks": ""
            },
            "type": "mesh3d"
           }
          ],
          "parcoords": [
           {
            "line": {
             "colorbar": {
              "outlinewidth": 0,
              "ticks": ""
             }
            },
            "type": "parcoords"
           }
          ],
          "pie": [
           {
            "automargin": true,
            "type": "pie"
           }
          ],
          "scatter": [
           {
            "fillpattern": {
             "fillmode": "overlay",
             "size": 10,
             "solidity": 0.2
            },
            "type": "scatter"
           }
          ],
          "scatter3d": [
           {
            "line": {
             "colorbar": {
              "outlinewidth": 0,
              "ticks": ""
             }
            },
            "marker": {
             "colorbar": {
              "outlinewidth": 0,
              "ticks": ""
             }
            },
            "type": "scatter3d"
           }
          ],
          "scattercarpet": [
           {
            "marker": {
             "colorbar": {
              "outlinewidth": 0,
              "ticks": ""
             }
            },
            "type": "scattercarpet"
           }
          ],
          "scattergeo": [
           {
            "marker": {
             "colorbar": {
              "outlinewidth": 0,
              "ticks": ""
             }
            },
            "type": "scattergeo"
           }
          ],
          "scattergl": [
           {
            "marker": {
             "colorbar": {
              "outlinewidth": 0,
              "ticks": ""
             }
            },
            "type": "scattergl"
           }
          ],
          "scattermapbox": [
           {
            "marker": {
             "colorbar": {
              "outlinewidth": 0,
              "ticks": ""
             }
            },
            "type": "scattermapbox"
           }
          ],
          "scatterpolar": [
           {
            "marker": {
             "colorbar": {
              "outlinewidth": 0,
              "ticks": ""
             }
            },
            "type": "scatterpolar"
           }
          ],
          "scatterpolargl": [
           {
            "marker": {
             "colorbar": {
              "outlinewidth": 0,
              "ticks": ""
             }
            },
            "type": "scatterpolargl"
           }
          ],
          "scatterternary": [
           {
            "marker": {
             "colorbar": {
              "outlinewidth": 0,
              "ticks": ""
             }
            },
            "type": "scatterternary"
           }
          ],
          "surface": [
           {
            "colorbar": {
             "outlinewidth": 0,
             "ticks": ""
            },
            "colorscale": [
             [
              0,
              "#0d0887"
             ],
             [
              0.1111111111111111,
              "#46039f"
             ],
             [
              0.2222222222222222,
              "#7201a8"
             ],
             [
              0.3333333333333333,
              "#9c179e"
             ],
             [
              0.4444444444444444,
              "#bd3786"
             ],
             [
              0.5555555555555556,
              "#d8576b"
             ],
             [
              0.6666666666666666,
              "#ed7953"
             ],
             [
              0.7777777777777778,
              "#fb9f3a"
             ],
             [
              0.8888888888888888,
              "#fdca26"
             ],
             [
              1,
              "#f0f921"
             ]
            ],
            "type": "surface"
           }
          ],
          "table": [
           {
            "cells": {
             "fill": {
              "color": "#EBF0F8"
             },
             "line": {
              "color": "white"
             }
            },
            "header": {
             "fill": {
              "color": "#C8D4E3"
             },
             "line": {
              "color": "white"
             }
            },
            "type": "table"
           }
          ]
         },
         "layout": {
          "annotationdefaults": {
           "arrowcolor": "#2a3f5f",
           "arrowhead": 0,
           "arrowwidth": 1
          },
          "autotypenumbers": "strict",
          "coloraxis": {
           "colorbar": {
            "outlinewidth": 0,
            "ticks": ""
           }
          },
          "colorscale": {
           "diverging": [
            [
             0,
             "#8e0152"
            ],
            [
             0.1,
             "#c51b7d"
            ],
            [
             0.2,
             "#de77ae"
            ],
            [
             0.3,
             "#f1b6da"
            ],
            [
             0.4,
             "#fde0ef"
            ],
            [
             0.5,
             "#f7f7f7"
            ],
            [
             0.6,
             "#e6f5d0"
            ],
            [
             0.7,
             "#b8e186"
            ],
            [
             0.8,
             "#7fbc41"
            ],
            [
             0.9,
             "#4d9221"
            ],
            [
             1,
             "#276419"
            ]
           ],
           "sequential": [
            [
             0,
             "#0d0887"
            ],
            [
             0.1111111111111111,
             "#46039f"
            ],
            [
             0.2222222222222222,
             "#7201a8"
            ],
            [
             0.3333333333333333,
             "#9c179e"
            ],
            [
             0.4444444444444444,
             "#bd3786"
            ],
            [
             0.5555555555555556,
             "#d8576b"
            ],
            [
             0.6666666666666666,
             "#ed7953"
            ],
            [
             0.7777777777777778,
             "#fb9f3a"
            ],
            [
             0.8888888888888888,
             "#fdca26"
            ],
            [
             1,
             "#f0f921"
            ]
           ],
           "sequentialminus": [
            [
             0,
             "#0d0887"
            ],
            [
             0.1111111111111111,
             "#46039f"
            ],
            [
             0.2222222222222222,
             "#7201a8"
            ],
            [
             0.3333333333333333,
             "#9c179e"
            ],
            [
             0.4444444444444444,
             "#bd3786"
            ],
            [
             0.5555555555555556,
             "#d8576b"
            ],
            [
             0.6666666666666666,
             "#ed7953"
            ],
            [
             0.7777777777777778,
             "#fb9f3a"
            ],
            [
             0.8888888888888888,
             "#fdca26"
            ],
            [
             1,
             "#f0f921"
            ]
           ]
          },
          "colorway": [
           "#636efa",
           "#EF553B",
           "#00cc96",
           "#ab63fa",
           "#FFA15A",
           "#19d3f3",
           "#FF6692",
           "#B6E880",
           "#FF97FF",
           "#FECB52"
          ],
          "font": {
           "color": "#2a3f5f"
          },
          "geo": {
           "bgcolor": "white",
           "lakecolor": "white",
           "landcolor": "#E5ECF6",
           "showlakes": true,
           "showland": true,
           "subunitcolor": "white"
          },
          "hoverlabel": {
           "align": "left"
          },
          "hovermode": "closest",
          "mapbox": {
           "style": "light"
          },
          "paper_bgcolor": "white",
          "plot_bgcolor": "#E5ECF6",
          "polar": {
           "angularaxis": {
            "gridcolor": "white",
            "linecolor": "white",
            "ticks": ""
           },
           "bgcolor": "#E5ECF6",
           "radialaxis": {
            "gridcolor": "white",
            "linecolor": "white",
            "ticks": ""
           }
          },
          "scene": {
           "xaxis": {
            "backgroundcolor": "#E5ECF6",
            "gridcolor": "white",
            "gridwidth": 2,
            "linecolor": "white",
            "showbackground": true,
            "ticks": "",
            "zerolinecolor": "white"
           },
           "yaxis": {
            "backgroundcolor": "#E5ECF6",
            "gridcolor": "white",
            "gridwidth": 2,
            "linecolor": "white",
            "showbackground": true,
            "ticks": "",
            "zerolinecolor": "white"
           },
           "zaxis": {
            "backgroundcolor": "#E5ECF6",
            "gridcolor": "white",
            "gridwidth": 2,
            "linecolor": "white",
            "showbackground": true,
            "ticks": "",
            "zerolinecolor": "white"
           }
          },
          "shapedefaults": {
           "line": {
            "color": "#2a3f5f"
           }
          },
          "ternary": {
           "aaxis": {
            "gridcolor": "white",
            "linecolor": "white",
            "ticks": ""
           },
           "baxis": {
            "gridcolor": "white",
            "linecolor": "white",
            "ticks": ""
           },
           "bgcolor": "#E5ECF6",
           "caxis": {
            "gridcolor": "white",
            "linecolor": "white",
            "ticks": ""
           }
          },
          "title": {
           "x": 0.05
          },
          "xaxis": {
           "automargin": true,
           "gridcolor": "white",
           "linecolor": "white",
           "ticks": "",
           "title": {
            "standoff": 15
           },
           "zerolinecolor": "white",
           "zerolinewidth": 2
          },
          "yaxis": {
           "automargin": true,
           "gridcolor": "white",
           "linecolor": "white",
           "ticks": "",
           "title": {
            "standoff": 15
           },
           "zerolinecolor": "white",
           "zerolinewidth": 2
          }
         }
        },
        "title": {
         "text": "Market Share of EVs and AFVs"
        },
        "width": 700
       }
      },
      "text/html": [
       "<div>                            <div id=\"25a45bf2-e41b-4cad-8064-87b1c208e124\" class=\"plotly-graph-div\" style=\"height:500px; width:700px;\"></div>            <script type=\"text/javascript\">                require([\"plotly\"], function(Plotly) {                    window.PLOTLYENV=window.PLOTLYENV || {};                                    if (document.getElementById(\"25a45bf2-e41b-4cad-8064-87b1c208e124\")) {                    Plotly.newPlot(                        \"25a45bf2-e41b-4cad-8064-87b1c208e124\",                        [{\"domain\":{\"x\":[0.0,1.0],\"y\":[0.0,1.0]},\"hovertemplate\":\"Fuel Category=%{label}\\u003cbr\\u003evalue=%{value}\\u003cextra\\u003e\\u003c\\u002fextra\\u003e\",\"labels\":[\"EVs\",\"AFVs\"],\"legendgroup\":\"\",\"name\":\"\",\"showlegend\":true,\"values\":[73.01587301587301,26.984126984126984],\"type\":\"pie\"}],                        {\"template\":{\"data\":{\"histogram2dcontour\":[{\"type\":\"histogram2dcontour\",\"colorbar\":{\"outlinewidth\":0,\"ticks\":\"\"},\"colorscale\":[[0.0,\"#0d0887\"],[0.1111111111111111,\"#46039f\"],[0.2222222222222222,\"#7201a8\"],[0.3333333333333333,\"#9c179e\"],[0.4444444444444444,\"#bd3786\"],[0.5555555555555556,\"#d8576b\"],[0.6666666666666666,\"#ed7953\"],[0.7777777777777778,\"#fb9f3a\"],[0.8888888888888888,\"#fdca26\"],[1.0,\"#f0f921\"]]}],\"choropleth\":[{\"type\":\"choropleth\",\"colorbar\":{\"outlinewidth\":0,\"ticks\":\"\"}}],\"histogram2d\":[{\"type\":\"histogram2d\",\"colorbar\":{\"outlinewidth\":0,\"ticks\":\"\"},\"colorscale\":[[0.0,\"#0d0887\"],[0.1111111111111111,\"#46039f\"],[0.2222222222222222,\"#7201a8\"],[0.3333333333333333,\"#9c179e\"],[0.4444444444444444,\"#bd3786\"],[0.5555555555555556,\"#d8576b\"],[0.6666666666666666,\"#ed7953\"],[0.7777777777777778,\"#fb9f3a\"],[0.8888888888888888,\"#fdca26\"],[1.0,\"#f0f921\"]]}],\"heatmap\":[{\"type\":\"heatmap\",\"colorbar\":{\"outlinewidth\":0,\"ticks\":\"\"},\"colorscale\":[[0.0,\"#0d0887\"],[0.1111111111111111,\"#46039f\"],[0.2222222222222222,\"#7201a8\"],[0.3333333333333333,\"#9c179e\"],[0.4444444444444444,\"#bd3786\"],[0.5555555555555556,\"#d8576b\"],[0.6666666666666666,\"#ed7953\"],[0.7777777777777778,\"#fb9f3a\"],[0.8888888888888888,\"#fdca26\"],[1.0,\"#f0f921\"]]}],\"heatmapgl\":[{\"type\":\"heatmapgl\",\"colorbar\":{\"outlinewidth\":0,\"ticks\":\"\"},\"colorscale\":[[0.0,\"#0d0887\"],[0.1111111111111111,\"#46039f\"],[0.2222222222222222,\"#7201a8\"],[0.3333333333333333,\"#9c179e\"],[0.4444444444444444,\"#bd3786\"],[0.5555555555555556,\"#d8576b\"],[0.6666666666666666,\"#ed7953\"],[0.7777777777777778,\"#fb9f3a\"],[0.8888888888888888,\"#fdca26\"],[1.0,\"#f0f921\"]]}],\"contourcarpet\":[{\"type\":\"contourcarpet\",\"colorbar\":{\"outlinewidth\":0,\"ticks\":\"\"}}],\"contour\":[{\"type\":\"contour\",\"colorbar\":{\"outlinewidth\":0,\"ticks\":\"\"},\"colorscale\":[[0.0,\"#0d0887\"],[0.1111111111111111,\"#46039f\"],[0.2222222222222222,\"#7201a8\"],[0.3333333333333333,\"#9c179e\"],[0.4444444444444444,\"#bd3786\"],[0.5555555555555556,\"#d8576b\"],[0.6666666666666666,\"#ed7953\"],[0.7777777777777778,\"#fb9f3a\"],[0.8888888888888888,\"#fdca26\"],[1.0,\"#f0f921\"]]}],\"surface\":[{\"type\":\"surface\",\"colorbar\":{\"outlinewidth\":0,\"ticks\":\"\"},\"colorscale\":[[0.0,\"#0d0887\"],[0.1111111111111111,\"#46039f\"],[0.2222222222222222,\"#7201a8\"],[0.3333333333333333,\"#9c179e\"],[0.4444444444444444,\"#bd3786\"],[0.5555555555555556,\"#d8576b\"],[0.6666666666666666,\"#ed7953\"],[0.7777777777777778,\"#fb9f3a\"],[0.8888888888888888,\"#fdca26\"],[1.0,\"#f0f921\"]]}],\"mesh3d\":[{\"type\":\"mesh3d\",\"colorbar\":{\"outlinewidth\":0,\"ticks\":\"\"}}],\"scatter\":[{\"fillpattern\":{\"fillmode\":\"overlay\",\"size\":10,\"solidity\":0.2},\"type\":\"scatter\"}],\"parcoords\":[{\"type\":\"parcoords\",\"line\":{\"colorbar\":{\"outlinewidth\":0,\"ticks\":\"\"}}}],\"scatterpolargl\":[{\"type\":\"scatterpolargl\",\"marker\":{\"colorbar\":{\"outlinewidth\":0,\"ticks\":\"\"}}}],\"bar\":[{\"error_x\":{\"color\":\"#2a3f5f\"},\"error_y\":{\"color\":\"#2a3f5f\"},\"marker\":{\"line\":{\"color\":\"#E5ECF6\",\"width\":0.5},\"pattern\":{\"fillmode\":\"overlay\",\"size\":10,\"solidity\":0.2}},\"type\":\"bar\"}],\"scattergeo\":[{\"type\":\"scattergeo\",\"marker\":{\"colorbar\":{\"outlinewidth\":0,\"ticks\":\"\"}}}],\"scatterpolar\":[{\"type\":\"scatterpolar\",\"marker\":{\"colorbar\":{\"outlinewidth\":0,\"ticks\":\"\"}}}],\"histogram\":[{\"marker\":{\"pattern\":{\"fillmode\":\"overlay\",\"size\":10,\"solidity\":0.2}},\"type\":\"histogram\"}],\"scattergl\":[{\"type\":\"scattergl\",\"marker\":{\"colorbar\":{\"outlinewidth\":0,\"ticks\":\"\"}}}],\"scatter3d\":[{\"type\":\"scatter3d\",\"line\":{\"colorbar\":{\"outlinewidth\":0,\"ticks\":\"\"}},\"marker\":{\"colorbar\":{\"outlinewidth\":0,\"ticks\":\"\"}}}],\"scattermapbox\":[{\"type\":\"scattermapbox\",\"marker\":{\"colorbar\":{\"outlinewidth\":0,\"ticks\":\"\"}}}],\"scatterternary\":[{\"type\":\"scatterternary\",\"marker\":{\"colorbar\":{\"outlinewidth\":0,\"ticks\":\"\"}}}],\"scattercarpet\":[{\"type\":\"scattercarpet\",\"marker\":{\"colorbar\":{\"outlinewidth\":0,\"ticks\":\"\"}}}],\"carpet\":[{\"aaxis\":{\"endlinecolor\":\"#2a3f5f\",\"gridcolor\":\"white\",\"linecolor\":\"white\",\"minorgridcolor\":\"white\",\"startlinecolor\":\"#2a3f5f\"},\"baxis\":{\"endlinecolor\":\"#2a3f5f\",\"gridcolor\":\"white\",\"linecolor\":\"white\",\"minorgridcolor\":\"white\",\"startlinecolor\":\"#2a3f5f\"},\"type\":\"carpet\"}],\"table\":[{\"cells\":{\"fill\":{\"color\":\"#EBF0F8\"},\"line\":{\"color\":\"white\"}},\"header\":{\"fill\":{\"color\":\"#C8D4E3\"},\"line\":{\"color\":\"white\"}},\"type\":\"table\"}],\"barpolar\":[{\"marker\":{\"line\":{\"color\":\"#E5ECF6\",\"width\":0.5},\"pattern\":{\"fillmode\":\"overlay\",\"size\":10,\"solidity\":0.2}},\"type\":\"barpolar\"}],\"pie\":[{\"automargin\":true,\"type\":\"pie\"}]},\"layout\":{\"autotypenumbers\":\"strict\",\"colorway\":[\"#636efa\",\"#EF553B\",\"#00cc96\",\"#ab63fa\",\"#FFA15A\",\"#19d3f3\",\"#FF6692\",\"#B6E880\",\"#FF97FF\",\"#FECB52\"],\"font\":{\"color\":\"#2a3f5f\"},\"hovermode\":\"closest\",\"hoverlabel\":{\"align\":\"left\"},\"paper_bgcolor\":\"white\",\"plot_bgcolor\":\"#E5ECF6\",\"polar\":{\"bgcolor\":\"#E5ECF6\",\"angularaxis\":{\"gridcolor\":\"white\",\"linecolor\":\"white\",\"ticks\":\"\"},\"radialaxis\":{\"gridcolor\":\"white\",\"linecolor\":\"white\",\"ticks\":\"\"}},\"ternary\":{\"bgcolor\":\"#E5ECF6\",\"aaxis\":{\"gridcolor\":\"white\",\"linecolor\":\"white\",\"ticks\":\"\"},\"baxis\":{\"gridcolor\":\"white\",\"linecolor\":\"white\",\"ticks\":\"\"},\"caxis\":{\"gridcolor\":\"white\",\"linecolor\":\"white\",\"ticks\":\"\"}},\"coloraxis\":{\"colorbar\":{\"outlinewidth\":0,\"ticks\":\"\"}},\"colorscale\":{\"sequential\":[[0.0,\"#0d0887\"],[0.1111111111111111,\"#46039f\"],[0.2222222222222222,\"#7201a8\"],[0.3333333333333333,\"#9c179e\"],[0.4444444444444444,\"#bd3786\"],[0.5555555555555556,\"#d8576b\"],[0.6666666666666666,\"#ed7953\"],[0.7777777777777778,\"#fb9f3a\"],[0.8888888888888888,\"#fdca26\"],[1.0,\"#f0f921\"]],\"sequentialminus\":[[0.0,\"#0d0887\"],[0.1111111111111111,\"#46039f\"],[0.2222222222222222,\"#7201a8\"],[0.3333333333333333,\"#9c179e\"],[0.4444444444444444,\"#bd3786\"],[0.5555555555555556,\"#d8576b\"],[0.6666666666666666,\"#ed7953\"],[0.7777777777777778,\"#fb9f3a\"],[0.8888888888888888,\"#fdca26\"],[1.0,\"#f0f921\"]],\"diverging\":[[0,\"#8e0152\"],[0.1,\"#c51b7d\"],[0.2,\"#de77ae\"],[0.3,\"#f1b6da\"],[0.4,\"#fde0ef\"],[0.5,\"#f7f7f7\"],[0.6,\"#e6f5d0\"],[0.7,\"#b8e186\"],[0.8,\"#7fbc41\"],[0.9,\"#4d9221\"],[1,\"#276419\"]]},\"xaxis\":{\"gridcolor\":\"white\",\"linecolor\":\"white\",\"ticks\":\"\",\"title\":{\"standoff\":15},\"zerolinecolor\":\"white\",\"automargin\":true,\"zerolinewidth\":2},\"yaxis\":{\"gridcolor\":\"white\",\"linecolor\":\"white\",\"ticks\":\"\",\"title\":{\"standoff\":15},\"zerolinecolor\":\"white\",\"automargin\":true,\"zerolinewidth\":2},\"scene\":{\"xaxis\":{\"backgroundcolor\":\"#E5ECF6\",\"gridcolor\":\"white\",\"linecolor\":\"white\",\"showbackground\":true,\"ticks\":\"\",\"zerolinecolor\":\"white\",\"gridwidth\":2},\"yaxis\":{\"backgroundcolor\":\"#E5ECF6\",\"gridcolor\":\"white\",\"linecolor\":\"white\",\"showbackground\":true,\"ticks\":\"\",\"zerolinecolor\":\"white\",\"gridwidth\":2},\"zaxis\":{\"backgroundcolor\":\"#E5ECF6\",\"gridcolor\":\"white\",\"linecolor\":\"white\",\"showbackground\":true,\"ticks\":\"\",\"zerolinecolor\":\"white\",\"gridwidth\":2}},\"shapedefaults\":{\"line\":{\"color\":\"#2a3f5f\"}},\"annotationdefaults\":{\"arrowcolor\":\"#2a3f5f\",\"arrowhead\":0,\"arrowwidth\":1},\"geo\":{\"bgcolor\":\"white\",\"landcolor\":\"#E5ECF6\",\"subunitcolor\":\"white\",\"showland\":true,\"showlakes\":true,\"lakecolor\":\"white\"},\"title\":{\"x\":0.05},\"mapbox\":{\"style\":\"light\"}}},\"legend\":{\"tracegroupgap\":0},\"title\":{\"text\":\"Market Share of EVs and AFVs\"},\"piecolorway\":[\"#1f77b4\",\"#ff7f0e\"],\"height\":500,\"width\":700},                        {\"responsive\": true}                    ).then(function(){\n",
       "                            \n",
       "var gd = document.getElementById('25a45bf2-e41b-4cad-8064-87b1c208e124');\n",
       "var x = new MutationObserver(function (mutations, observer) {{\n",
       "        var display = window.getComputedStyle(gd).display;\n",
       "        if (!display || display === 'none') {{\n",
       "            console.log([gd, 'removed!']);\n",
       "            Plotly.purge(gd);\n",
       "            observer.disconnect();\n",
       "        }}\n",
       "}});\n",
       "\n",
       "// Listen for the removal of the full notebook cells\n",
       "var notebookContainer = gd.closest('#notebook-container');\n",
       "if (notebookContainer) {{\n",
       "    x.observe(notebookContainer, {childList: true});\n",
       "}}\n",
       "\n",
       "// Listen for the clearing of the current output cell\n",
       "var outputEl = gd.closest('.output');\n",
       "if (outputEl) {{\n",
       "    x.observe(outputEl, {childList: true});\n",
       "}}\n",
       "\n",
       "                        })                };                });            </script>        </div>"
      ]
     },
     "metadata": {},
     "output_type": "display_data"
    },
    {
     "data": {
      "text/plain": [
       "<Figure size 640x480 with 0 Axes>"
      ]
     },
     "metadata": {},
     "output_type": "display_data"
    }
   ],
   "source": [
    "import plotly.express as px\n",
    "colors = ['#1f77b4', '#ff7f0e']  \n",
    "fig = px.pie(market_share, \n",
    "             names=market_share.index, \n",
    "             values=market_share.values,\n",
    "             title='Market Share of EVs and AFVs',\n",
    "             color_discrete_sequence=colors, \n",
    "             width=700, height=500) \n",
    "fig.show()\n",
    "plt.savefig(f'../data/market_share_AFV_EV_US_pie.png', dpi=300)"
   ]
  },
  {
   "cell_type": "code",
   "execution_count": 111,
   "id": "b3b36de9-5acc-4740-a80b-f5c73841f08a",
   "metadata": {},
   "outputs": [],
   "source": [
    "# #adoption of EVs\n",
    "\n",
    "# fig = px.line(df_ev_alt_us, x='Model Year', y='EV Adoption', title='Trends in EV Adoption',\n",
    "#               labels={'Model Year': 'Year', 'EV Adoption': 'Number of EVs'},\n",
    "#               markers=True, line_shape='linear')\n",
    "\n",
    "# fig.show()\n"
   ]
  },
  {
   "cell_type": "code",
   "execution_count": null,
   "id": "5c19e445-b882-4fa6-86c9-69c4980548b7",
   "metadata": {},
   "outputs": [],
   "source": []
  },
  {
   "cell_type": "code",
   "execution_count": null,
   "id": "26e8354c-7bd0-4a75-9400-5db94f1216d9",
   "metadata": {},
   "outputs": [],
   "source": []
  }
 ],
 "metadata": {
  "kernelspec": {
   "display_name": "Python 3 (ipykernel)",
   "language": "python",
   "name": "python3"
  },
  "language_info": {
   "codemirror_mode": {
    "name": "ipython",
    "version": 3
   },
   "file_extension": ".py",
   "mimetype": "text/x-python",
   "name": "python",
   "nbconvert_exporter": "python",
   "pygments_lexer": "ipython3",
   "version": "3.11.4"
  }
 },
 "nbformat": 4,
 "nbformat_minor": 5
}
