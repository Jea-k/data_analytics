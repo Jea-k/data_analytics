{
 "cells": [
  {
   "cell_type": "markdown",
   "id": "af8a3e59",
   "metadata": {},
   "source": [
    "### Confidence Intervals"
   ]
  },
  {
   "cell_type": "markdown",
   "id": "6467822e",
   "metadata": {},
   "source": [
    "For the bikes data set, calculate the 95% confidence intervals for the mean of the windspeed feature using bootstrapping. Create a notebook in which following questions shall be solved:\n",
    "\n",
    "1. Initialize empty list called sample_means\n",
    "2. Create a for loop that will loop 10,000 times\n",
    "3. In each iteration using the pandas method .sample() sample 100 windspeeds with replacement\n",
    "4. Also in that same iteration take the mean of these 100 samples and then append it to the sample_means list\n",
    "5. Using sns.displot plot the distribution of the sample_means list\n",
    "6. Convert sample_means list to pandas Series\n",
    "7. Using pandas .quantile() calculate the upper (0.975) and lower (0.025) limits of the confidence interval of the sample_means Series\n",
    "\n",
    "Bonus\n",
    "\n",
    "Calculate using the z-value formula\n",
    "Compare to the results of the bootstrapping method"
   ]
  },
  {
   "cell_type": "code",
   "execution_count": 1,
   "id": "029babff",
   "metadata": {},
   "outputs": [],
   "source": [
    "import pandas as pd\n",
    "import matplotlib.pyplot as plt\n",
    "import numpy as np\n",
    "import seaborn as sns\n",
    "import statsmodels.formula.api as sm"
   ]
  },
  {
   "cell_type": "code",
   "execution_count": 2,
   "id": "ffc4ec80",
   "metadata": {},
   "outputs": [
    {
     "data": {
      "text/html": [
       "<div>\n",
       "<style scoped>\n",
       "    .dataframe tbody tr th:only-of-type {\n",
       "        vertical-align: middle;\n",
       "    }\n",
       "\n",
       "    .dataframe tbody tr th {\n",
       "        vertical-align: top;\n",
       "    }\n",
       "\n",
       "    .dataframe thead th {\n",
       "        text-align: right;\n",
       "    }\n",
       "</style>\n",
       "<table border=\"1\" class=\"dataframe\">\n",
       "  <thead>\n",
       "    <tr style=\"text-align: right;\">\n",
       "      <th></th>\n",
       "      <th>datetime</th>\n",
       "      <th>season</th>\n",
       "      <th>holiday</th>\n",
       "      <th>workingday</th>\n",
       "      <th>weather</th>\n",
       "      <th>temp</th>\n",
       "      <th>atemp</th>\n",
       "      <th>humidity</th>\n",
       "      <th>windspeed</th>\n",
       "      <th>casual</th>\n",
       "      <th>registered</th>\n",
       "      <th>count</th>\n",
       "      <th>hour</th>\n",
       "      <th>month</th>\n",
       "      <th>weekday</th>\n",
       "      <th>day</th>\n",
       "      <th>year</th>\n",
       "      <th>part_of_day</th>\n",
       "    </tr>\n",
       "  </thead>\n",
       "  <tbody>\n",
       "    <tr>\n",
       "      <th>0</th>\n",
       "      <td>2011-01-01 00:00:00</td>\n",
       "      <td>1</td>\n",
       "      <td>0</td>\n",
       "      <td>0</td>\n",
       "      <td>1</td>\n",
       "      <td>9.84</td>\n",
       "      <td>14.395</td>\n",
       "      <td>81</td>\n",
       "      <td>0.0000</td>\n",
       "      <td>3.0</td>\n",
       "      <td>13.0</td>\n",
       "      <td>16</td>\n",
       "      <td>0</td>\n",
       "      <td>1</td>\n",
       "      <td>5</td>\n",
       "      <td>1</td>\n",
       "      <td>2011</td>\n",
       "      <td>morning</td>\n",
       "    </tr>\n",
       "    <tr>\n",
       "      <th>1</th>\n",
       "      <td>2011-01-01 01:00:00</td>\n",
       "      <td>1</td>\n",
       "      <td>0</td>\n",
       "      <td>0</td>\n",
       "      <td>1</td>\n",
       "      <td>9.02</td>\n",
       "      <td>13.635</td>\n",
       "      <td>80</td>\n",
       "      <td>0.0000</td>\n",
       "      <td>8.0</td>\n",
       "      <td>32.0</td>\n",
       "      <td>40</td>\n",
       "      <td>1</td>\n",
       "      <td>1</td>\n",
       "      <td>5</td>\n",
       "      <td>1</td>\n",
       "      <td>2011</td>\n",
       "      <td>morning</td>\n",
       "    </tr>\n",
       "    <tr>\n",
       "      <th>2</th>\n",
       "      <td>2011-01-01 02:00:00</td>\n",
       "      <td>1</td>\n",
       "      <td>0</td>\n",
       "      <td>0</td>\n",
       "      <td>1</td>\n",
       "      <td>9.02</td>\n",
       "      <td>13.635</td>\n",
       "      <td>80</td>\n",
       "      <td>0.0000</td>\n",
       "      <td>5.0</td>\n",
       "      <td>27.0</td>\n",
       "      <td>32</td>\n",
       "      <td>2</td>\n",
       "      <td>1</td>\n",
       "      <td>5</td>\n",
       "      <td>1</td>\n",
       "      <td>2011</td>\n",
       "      <td>morning</td>\n",
       "    </tr>\n",
       "    <tr>\n",
       "      <th>3</th>\n",
       "      <td>2011-01-01 03:00:00</td>\n",
       "      <td>1</td>\n",
       "      <td>0</td>\n",
       "      <td>0</td>\n",
       "      <td>1</td>\n",
       "      <td>9.84</td>\n",
       "      <td>14.395</td>\n",
       "      <td>75</td>\n",
       "      <td>0.0000</td>\n",
       "      <td>3.0</td>\n",
       "      <td>10.0</td>\n",
       "      <td>13</td>\n",
       "      <td>3</td>\n",
       "      <td>1</td>\n",
       "      <td>5</td>\n",
       "      <td>1</td>\n",
       "      <td>2011</td>\n",
       "      <td>morning</td>\n",
       "    </tr>\n",
       "    <tr>\n",
       "      <th>4</th>\n",
       "      <td>2011-01-01 04:00:00</td>\n",
       "      <td>1</td>\n",
       "      <td>0</td>\n",
       "      <td>0</td>\n",
       "      <td>1</td>\n",
       "      <td>9.84</td>\n",
       "      <td>14.395</td>\n",
       "      <td>75</td>\n",
       "      <td>0.0000</td>\n",
       "      <td>0.0</td>\n",
       "      <td>1.0</td>\n",
       "      <td>1</td>\n",
       "      <td>4</td>\n",
       "      <td>1</td>\n",
       "      <td>5</td>\n",
       "      <td>1</td>\n",
       "      <td>2011</td>\n",
       "      <td>morning</td>\n",
       "    </tr>\n",
       "    <tr>\n",
       "      <th>...</th>\n",
       "      <td>...</td>\n",
       "      <td>...</td>\n",
       "      <td>...</td>\n",
       "      <td>...</td>\n",
       "      <td>...</td>\n",
       "      <td>...</td>\n",
       "      <td>...</td>\n",
       "      <td>...</td>\n",
       "      <td>...</td>\n",
       "      <td>...</td>\n",
       "      <td>...</td>\n",
       "      <td>...</td>\n",
       "      <td>...</td>\n",
       "      <td>...</td>\n",
       "      <td>...</td>\n",
       "      <td>...</td>\n",
       "      <td>...</td>\n",
       "      <td>...</td>\n",
       "    </tr>\n",
       "    <tr>\n",
       "      <th>17374</th>\n",
       "      <td>2012-12-31 19:00:00</td>\n",
       "      <td>1</td>\n",
       "      <td>0</td>\n",
       "      <td>1</td>\n",
       "      <td>2</td>\n",
       "      <td>10.66</td>\n",
       "      <td>12.880</td>\n",
       "      <td>60</td>\n",
       "      <td>11.0014</td>\n",
       "      <td>NaN</td>\n",
       "      <td>NaN</td>\n",
       "      <td>156</td>\n",
       "      <td>19</td>\n",
       "      <td>12</td>\n",
       "      <td>0</td>\n",
       "      <td>31</td>\n",
       "      <td>2012</td>\n",
       "      <td>evening</td>\n",
       "    </tr>\n",
       "    <tr>\n",
       "      <th>17375</th>\n",
       "      <td>2012-12-31 20:00:00</td>\n",
       "      <td>1</td>\n",
       "      <td>0</td>\n",
       "      <td>1</td>\n",
       "      <td>2</td>\n",
       "      <td>10.66</td>\n",
       "      <td>12.880</td>\n",
       "      <td>60</td>\n",
       "      <td>11.0014</td>\n",
       "      <td>NaN</td>\n",
       "      <td>NaN</td>\n",
       "      <td>104</td>\n",
       "      <td>20</td>\n",
       "      <td>12</td>\n",
       "      <td>0</td>\n",
       "      <td>31</td>\n",
       "      <td>2012</td>\n",
       "      <td>evening</td>\n",
       "    </tr>\n",
       "    <tr>\n",
       "      <th>17376</th>\n",
       "      <td>2012-12-31 21:00:00</td>\n",
       "      <td>1</td>\n",
       "      <td>0</td>\n",
       "      <td>1</td>\n",
       "      <td>1</td>\n",
       "      <td>10.66</td>\n",
       "      <td>12.880</td>\n",
       "      <td>60</td>\n",
       "      <td>11.0014</td>\n",
       "      <td>NaN</td>\n",
       "      <td>NaN</td>\n",
       "      <td>67</td>\n",
       "      <td>21</td>\n",
       "      <td>12</td>\n",
       "      <td>0</td>\n",
       "      <td>31</td>\n",
       "      <td>2012</td>\n",
       "      <td>night</td>\n",
       "    </tr>\n",
       "    <tr>\n",
       "      <th>17377</th>\n",
       "      <td>2012-12-31 22:00:00</td>\n",
       "      <td>1</td>\n",
       "      <td>0</td>\n",
       "      <td>1</td>\n",
       "      <td>1</td>\n",
       "      <td>10.66</td>\n",
       "      <td>13.635</td>\n",
       "      <td>56</td>\n",
       "      <td>8.9981</td>\n",
       "      <td>NaN</td>\n",
       "      <td>NaN</td>\n",
       "      <td>43</td>\n",
       "      <td>22</td>\n",
       "      <td>12</td>\n",
       "      <td>0</td>\n",
       "      <td>31</td>\n",
       "      <td>2012</td>\n",
       "      <td>night</td>\n",
       "    </tr>\n",
       "    <tr>\n",
       "      <th>17378</th>\n",
       "      <td>2012-12-31 23:00:00</td>\n",
       "      <td>1</td>\n",
       "      <td>0</td>\n",
       "      <td>1</td>\n",
       "      <td>1</td>\n",
       "      <td>10.66</td>\n",
       "      <td>13.635</td>\n",
       "      <td>65</td>\n",
       "      <td>8.9981</td>\n",
       "      <td>NaN</td>\n",
       "      <td>NaN</td>\n",
       "      <td>28</td>\n",
       "      <td>23</td>\n",
       "      <td>12</td>\n",
       "      <td>0</td>\n",
       "      <td>31</td>\n",
       "      <td>2012</td>\n",
       "      <td>night</td>\n",
       "    </tr>\n",
       "  </tbody>\n",
       "</table>\n",
       "<p>17379 rows × 18 columns</p>\n",
       "</div>"
      ],
      "text/plain": [
       "                 datetime  season  holiday  workingday  weather   temp  \\\n",
       "0     2011-01-01 00:00:00       1        0           0        1   9.84   \n",
       "1     2011-01-01 01:00:00       1        0           0        1   9.02   \n",
       "2     2011-01-01 02:00:00       1        0           0        1   9.02   \n",
       "3     2011-01-01 03:00:00       1        0           0        1   9.84   \n",
       "4     2011-01-01 04:00:00       1        0           0        1   9.84   \n",
       "...                   ...     ...      ...         ...      ...    ...   \n",
       "17374 2012-12-31 19:00:00       1        0           1        2  10.66   \n",
       "17375 2012-12-31 20:00:00       1        0           1        2  10.66   \n",
       "17376 2012-12-31 21:00:00       1        0           1        1  10.66   \n",
       "17377 2012-12-31 22:00:00       1        0           1        1  10.66   \n",
       "17378 2012-12-31 23:00:00       1        0           1        1  10.66   \n",
       "\n",
       "        atemp  humidity  windspeed  casual  registered  count  hour  month  \\\n",
       "0      14.395        81     0.0000     3.0        13.0     16     0      1   \n",
       "1      13.635        80     0.0000     8.0        32.0     40     1      1   \n",
       "2      13.635        80     0.0000     5.0        27.0     32     2      1   \n",
       "3      14.395        75     0.0000     3.0        10.0     13     3      1   \n",
       "4      14.395        75     0.0000     0.0         1.0      1     4      1   \n",
       "...       ...       ...        ...     ...         ...    ...   ...    ...   \n",
       "17374  12.880        60    11.0014     NaN         NaN    156    19     12   \n",
       "17375  12.880        60    11.0014     NaN         NaN    104    20     12   \n",
       "17376  12.880        60    11.0014     NaN         NaN     67    21     12   \n",
       "17377  13.635        56     8.9981     NaN         NaN     43    22     12   \n",
       "17378  13.635        65     8.9981     NaN         NaN     28    23     12   \n",
       "\n",
       "       weekday  day  year part_of_day  \n",
       "0            5    1  2011     morning  \n",
       "1            5    1  2011     morning  \n",
       "2            5    1  2011     morning  \n",
       "3            5    1  2011     morning  \n",
       "4            5    1  2011     morning  \n",
       "...        ...  ...   ...         ...  \n",
       "17374        0   31  2012     evening  \n",
       "17375        0   31  2012     evening  \n",
       "17376        0   31  2012       night  \n",
       "17377        0   31  2012       night  \n",
       "17378        0   31  2012       night  \n",
       "\n",
       "[17379 rows x 18 columns]"
      ]
     },
     "execution_count": 2,
     "metadata": {},
     "output_type": "execute_result"
    }
   ],
   "source": [
    "df = pd.read_csv('../data/bike_dataset_new.csv',parse_dates=['datetime'])\n",
    "df"
   ]
  },
  {
   "cell_type": "code",
   "execution_count": 4,
   "id": "b345e00f",
   "metadata": {},
   "outputs": [],
   "source": [
    "# df['windspeed'].count()"
   ]
  },
  {
   "cell_type": "markdown",
   "id": "09207461",
   "metadata": {},
   "source": [
    "#### 1. Initialize empty list called sample_means"
   ]
  },
  {
   "cell_type": "code",
   "execution_count": 5,
   "id": "604b4bf7",
   "metadata": {},
   "outputs": [],
   "source": [
    "sample_means = []"
   ]
  },
  {
   "cell_type": "markdown",
   "id": "0e6ab355",
   "metadata": {},
   "source": [
    "#### 2. Create a for loop that will loop 10,000 times\n",
    "#### 3. In each iteration using the pandas method .sample() sample 100 windspeeds with replacement\n",
    "#### 4. Also in that same iteration take the mean of these 100 samples and then append it to the sample_means list"
   ]
  },
  {
   "cell_type": "code",
   "execution_count": 6,
   "id": "4fab4d74",
   "metadata": {},
   "outputs": [],
   "source": [
    "for i in range(10_000):\n",
    "    bootstrap_sample = df['windspeed'].sample(n=100,replace=True) \n",
    "#   bootstrap_sample = df['windspeed'].sample(frac=0.0057,replace=True) \n",
    "#   frac = sample_size / total_size\n",
    "    sample_means.append(bootstrap_sample.mean())"
   ]
  },
  {
   "cell_type": "markdown",
   "id": "615ef9d0",
   "metadata": {},
   "source": [
    "#### 5. Using sns.displot plot the distribution of the sample_means list"
   ]
  },
  {
   "cell_type": "code",
   "execution_count": 7,
   "id": "bcdc738e",
   "metadata": {},
   "outputs": [
    {
     "name": "stderr",
     "output_type": "stream",
     "text": [
      "C:\\Users\\HP\\miniconda3\\Lib\\site-packages\\seaborn\\axisgrid.py:118: UserWarning: The figure layout has changed to tight\n",
      "  self._figure.tight_layout(*args, **kwargs)\n"
     ]
    },
    {
     "data": {
      "image/png": "[encoded data removed]",
      "text/plain": [
       "<Figure size 500x500 with 1 Axes>"
      ]
     },
     "metadata": {},
     "output_type": "display_data"
    }
   ],
   "source": [
    "sns.set(style='dark')\n",
    "sns.displot(sample_means, kde=True, stat=\"probability\");"
   ]
  },
  {
   "cell_type": "markdown",
   "id": "af327752",
   "metadata": {},
   "source": [
    "#### 6. Convert sample_means list to pandas Series"
   ]
  },
  {
   "cell_type": "code",
   "execution_count": 8,
   "id": "38fc468c",
   "metadata": {},
   "outputs": [],
   "source": [
    "sample_means_series = pd.Series(sample_means)"
   ]
  },
  {
   "cell_type": "markdown",
   "id": "cd747b8b",
   "metadata": {},
   "source": [
    "#### 7. Using pandas .quantile() calculate the upper (0.975) and lower (0.025) limits of the confidence interval of the sample_means Series"
   ]
  },
  {
   "cell_type": "code",
   "execution_count": 10,
   "id": "9e8f3fbf",
   "metadata": {},
   "outputs": [
    {
     "name": "stdout",
     "output_type": "stream",
     "text": [
      "The Confidence Interval of the average windspeed is between 10.9502111625 and 14.570222837499996\n"
     ]
    }
   ],
   "source": [
    "cl = 0.975 #set the confidence level to 0.975, which corresponds to a 95% confidence interval\n",
    "\n",
    "lower_quantile = (1-cl)/2  #this will be 0.025 (half of the significance level)\n",
    "\n",
    "upper_quantile = cl + ((1-cl)/2) # this will also be 0.975\n",
    "\n",
    "lower_limit = sample_means_series.quantile(lower_quantile)\n",
    "\n",
    "upper_limit = sample_means_series.quantile(upper_quantile)\n",
    "\n",
    "print(f'The Confidence Interval of the average windspeed is between {lower_limit} and {upper_limit}')"
   ]
  },
  {
   "cell_type": "code",
   "execution_count": 11,
   "id": "b1dde9a0",
   "metadata": {},
   "outputs": [
    {
     "name": "stdout",
     "output_type": "stream",
     "text": [
      "The Confidence Interval of the average windspeed is between 12.5520880995 and 12.920101813499999\n"
     ]
    }
   ],
   "source": [
    "#for sample = 10,000\n",
    "sample_means2 = []\n",
    "for i in range(100_000):\n",
    "    bootstrap_sample2 = df['windspeed'].sample(n=10000,replace=True) \n",
    "    sample_means2.append(bootstrap_sample2.mean())\n",
    "\n",
    "sample_means_series2 = pd.Series(sample_means2)\n",
    "\n",
    "cl2 = 0.975\n",
    "\n",
    "lower_quantile2 = (1-cl2)/2  \n",
    "\n",
    "upper_quantile2 = cl2 + ((1-cl2)/2)\n",
    "\n",
    "lower_limit2 = sample_means_series2.quantile(lower_quantile2)\n",
    "\n",
    "upper_limit2 = sample_means_series2.quantile(upper_quantile2)\n",
    "\n",
    "print(f'The Confidence Interval of the average windspeed is between {lower_limit2} and {upper_limit2}')"
   ]
  },
  {
   "cell_type": "markdown",
   "id": "913d2adb",
   "metadata": {},
   "source": [
    "#### Bonus - using statistical formula\n",
    "\n",
    "Calculate using the z-value formula\n",
    "Compare to the results of the bootstrapping method"
   ]
  },
  {
   "cell_type": "code",
   "execution_count": 12,
   "id": "a1c4ce4c",
   "metadata": {},
   "outputs": [
    {
     "name": "stdout",
     "output_type": "stream",
     "text": [
      "12.736539622532941 8.196795314376963\n"
     ]
    }
   ],
   "source": [
    "# sample mean and standard deviation for windspeed\n",
    "\n",
    "sample_mean = df['windspeed'].mean()\n",
    "\n",
    "sample_std = df['windspeed'].std()\n",
    "\n",
    "print(sample_mean, sample_std)"
   ]
  },
  {
   "cell_type": "code",
   "execution_count": 13,
   "id": "ad5966dc",
   "metadata": {},
   "outputs": [
    {
     "name": "stdout",
     "output_type": "stream",
     "text": [
      "Calculated Confidence Interval of the average windspeed is between 12.601614931415103 and 12.87146431365078\n"
     ]
    }
   ],
   "source": [
    "# cl = 0.975, then z = 2.17\n",
    "\n",
    "z = 2.17\n",
    "n = len(df['windspeed'])\n",
    "\n",
    "lower_limit_eq = sample_mean - ((z * sample_std) / np.sqrt(n))\n",
    "upper_limit_eq = sample_mean + ((z * sample_std) / np.sqrt(n))\n",
    "\n",
    "print(f'Calculated Confidence Interval of the average windspeed is between {lower_limit_eq} and {upper_limit_eq}')\n"
   ]
  },
  {
   "cell_type": "markdown",
   "id": "0fd26f37",
   "metadata": {},
   "source": [
    "### Comparison"
   ]
  },
  {
   "cell_type": "markdown",
   "id": "f1f2a5ca",
   "metadata": {},
   "source": [
    "**Bootstrapping method results:** with n=100\n",
    "\n",
    "- Confidence Interval of the average windspeed is between **11.03061145858586**and **14.450158837500004**\n",
    "\n",
    "**Bootstrapping method results:** with n=10,000\n",
    "- Confidence Interval of the average windspeed is between **12.553099146249998** and **12.92241212425**\n",
    "   \n",
    "**Statistical formula results:**\n",
    "    \n",
    "- Confidence Interval of the average windspeed is between **12.601614931415103** and **12.87146431365078**\n",
    "  "
   ]
  },
  {
   "cell_type": "markdown",
   "id": "9924a0dd-5d2b-4746-b468-00bafa433d00",
   "metadata": {},
   "source": [
    "#### Note"
   ]
  },
  {
   "cell_type": "markdown",
   "id": "8ba71f22-e0bf-472d-8352-6634975b1dc4",
   "metadata": {},
   "source": [
    "- For small dataset use bootstrapping\n",
    "- For large dataset use statistical formula"
   ]
  },
  {
   "cell_type": "code",
   "execution_count": null,
   "id": "604a4343-e7f7-4981-a923-453588ed6244",
   "metadata": {},
   "outputs": [],
   "source": []
  }
 ],
 "metadata": {
  "kernelspec": {
   "display_name": "Python 3 (ipykernel)",
   "language": "python",
   "name": "python3"
  },
  "language_info": {
   "codemirror_mode": {
    "name": "ipython",
    "version": 3
   },
   "file_extension": ".py",
   "mimetype": "text/x-python",
   "name": "python",
   "nbconvert_exporter": "python",
   "pygments_lexer": "ipython3",
   "version": "3.11.4"
  }
 },
 "nbformat": 4,
 "nbformat_minor": 5
}
