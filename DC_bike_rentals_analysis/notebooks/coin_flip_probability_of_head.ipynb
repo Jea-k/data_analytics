{
 "cells": [
  {
   "cell_type": "markdown",
   "id": "fff941a0-3b9c-47be-a88e-e90791f3523f",
   "metadata": {},
   "source": [
    "Simulate a fair coin flip for 10 times and calculate the estimated probability of getting a head (number of times you got a head divided by 10). Repeat for 100, 1000 and 10000 times. How does the estimated probability changes ? How can we interpret that ?\n",
    "Plot the pmf of the Binomial distribution of n = 10 and  p=0.5.\n",
    "(hint: start by sampling from the distribution for 100_000 times)\n",
    "Research other commonly used probability distributions and the random real life processes and events they are used to model."
   ]
  },
  {
   "cell_type": "code",
   "execution_count": 1,
   "id": "f1b47498-5689-4eb5-920b-1aa24c22afb7",
   "metadata": {},
   "outputs": [],
   "source": [
    "import pandas as pd\n",
    "import matplotlib.pyplot as plt\n",
    "import numpy as np\n",
    "import seaborn as sns\n",
    "import statsmodels.formula.api as sm"
   ]
  },
  {
   "cell_type": "code",
   "execution_count": 2,
   "id": "5f19ca71-cd4f-4c4e-8f7f-7187095512ca",
   "metadata": {},
   "outputs": [],
   "source": [
    "counts ={}\n",
    "\n",
    "for i in range(100_000):\n",
    "    coin_flip = np.random.choice(['Head', 'Tail'], size=10, replace=True)\n",
    "    n_heads = (coin_flip == 'Head').sum()\n",
    "\n",
    "    if n_heads not in counts:\n",
    "        counts[n_heads] = 0\n",
    "    counts[n_heads] += 1\n",
    "    # Calculate the estimated probability of getting a head\n",
    "    probability_10 = n_heads / 10"
   ]
  },
  {
   "cell_type": "code",
   "execution_count": 3,
   "id": "3c2af2c0-2c6c-40e8-ade6-6c87992f027d",
   "metadata": {},
   "outputs": [
    {
     "data": {
      "text/plain": [
       "0.4"
      ]
     },
     "execution_count": 3,
     "metadata": {},
     "output_type": "execute_result"
    }
   ],
   "source": [
    "probability_10"
   ]
  },
  {
   "cell_type": "code",
   "execution_count": 4,
   "id": "90dcad07-6e31-46e4-a593-5695a107de2c",
   "metadata": {},
   "outputs": [],
   "source": [
    "counts ={}\n",
    "\n",
    "for i in range(100_000):\n",
    "    coin_flip = np.random.choice(['Head', 'Tail'], size=100, replace=True)\n",
    "    n_heads = (coin_flip == 'Head').sum()\n",
    "\n",
    "    if n_heads not in counts:\n",
    "        counts[n_heads] = 0\n",
    "    counts[n_heads] += 1\n",
    "    probability_100 = n_heads / 100"
   ]
  },
  {
   "cell_type": "code",
   "execution_count": 5,
   "id": "90192aea-bd5c-41d3-98e9-5846a945f403",
   "metadata": {},
   "outputs": [
    {
     "data": {
      "text/plain": [
       "0.49"
      ]
     },
     "execution_count": 5,
     "metadata": {},
     "output_type": "execute_result"
    }
   ],
   "source": [
    "probability_100"
   ]
  },
  {
   "cell_type": "code",
   "execution_count": 6,
   "id": "913c6deb-cde6-45fc-8f38-df861b416b38",
   "metadata": {},
   "outputs": [],
   "source": [
    "counts ={}\n",
    "\n",
    "for i in range(100_000):\n",
    "    coin_flip = np.random.choice(['Head', 'Tail'], size=1000, replace=True)\n",
    "    n_heads = (coin_flip == 'Head').sum()\n",
    "\n",
    "    if n_heads not in counts:\n",
    "        counts[n_heads] = 0\n",
    "    counts[n_heads] += 1\n",
    "    probability_1000 = n_heads / 1000"
   ]
  },
  {
   "cell_type": "code",
   "execution_count": 7,
   "id": "0ddb2d69-ffda-4a40-a620-77985eeff361",
   "metadata": {},
   "outputs": [
    {
     "data": {
      "text/plain": [
       "0.51"
      ]
     },
     "execution_count": 7,
     "metadata": {},
     "output_type": "execute_result"
    }
   ],
   "source": [
    "probability_1000"
   ]
  },
  {
   "cell_type": "code",
   "execution_count": 10,
   "id": "ed71792d-da02-482a-a881-7249744bf8ea",
   "metadata": {},
   "outputs": [],
   "source": [
    "counts ={}\n",
    "\n",
    "for i in range(100_000):\n",
    "    coin_flip = np.random.choice(['Head', 'Tail'], size=10000, replace=True)\n",
    "    n_heads = (coin_flip == 'Head').sum()\n",
    "\n",
    "    if n_heads not in counts:\n",
    "        counts[n_heads] = 0\n",
    "    counts[n_heads] += 1\n",
    "    probability_10000 = n_heads / 10000"
   ]
  },
  {
   "cell_type": "code",
   "execution_count": 11,
   "id": "d01bd0d7-5f34-4905-a15a-14009abfc8d8",
   "metadata": {},
   "outputs": [
    {
     "data": {
      "text/plain": [
       "0.5029"
      ]
     },
     "execution_count": 11,
     "metadata": {},
     "output_type": "execute_result"
    }
   ],
   "source": [
    "probability_10000"
   ]
  },
  {
   "cell_type": "code",
   "execution_count": 12,
   "id": "94cf1c71-89c8-4ad7-ad07-f19a20513d0a",
   "metadata": {},
   "outputs": [
    {
     "data": {
      "text/plain": [
       "<matplotlib.legend.Legend at 0x20d7fd6a410>"
      ]
     },
     "execution_count": 12,
     "metadata": {},
     "output_type": "execute_result"
    },
    {
     "data": {
      "image/png": "[encoded data removed]",
      "text/plain": [
       "<Figure size 640x480 with 1 Axes>"
      ]
     },
     "metadata": {},
     "output_type": "display_data"
    }
   ],
   "source": [
    "#combining above code in one and plotting histogram\n",
    "counts = {}\n",
    "\n",
    "for n in [10, 100, 1000, 10000]:\n",
    "    probabilities = []  # Store probabilities for each iteration\n",
    "    for i in range(100_000):\n",
    "        coin_flip = np.random.choice(['Head', 'Tail'], size=n, replace=True)\n",
    "        n_heads = (coin_flip == 'Head').sum()\n",
    "\n",
    "        if n_heads not in counts:\n",
    "            counts[n_heads] = 0\n",
    "        counts[n_heads] += 1\n",
    "        probabilities.append(n_heads / n)\n",
    "    \n",
    "    # Plot the distribution of probabilities\n",
    "    plt.hist(probabilities, bins=20, alpha=0.5, label=f'n = {n}')\n",
    "\n",
    "\n",
    "plt.title('Distribution of Estimated Probabilities')\n",
    "plt.xlabel('Estimated Probability')\n",
    "plt.ylabel('Frequency')\n",
    "plt.legend()"
   ]
  },
  {
   "cell_type": "markdown",
   "id": "685448dc-1639-4825-a8ff-6956edb36e95",
   "metadata": {},
   "source": [
    "#### Note:\n",
    "- probability_10 = 0.4\n",
    "- probability_100 = 0.49\n",
    "- probability_1000 = 0.51\n",
    "- probability_10000 = 0.5\n",
    "  \n",
    "As the number of trials increases, the distribution of estimated probabilities becomes narrower and more concentrated around the true probability of 0.5 (since it's a fair coin). Law of Large Numbers - as the number of trials (or samples) increases, the sample mean or probability will converge to the true mean or probability."
   ]
  },
  {
   "cell_type": "code",
   "execution_count": null,
   "id": "d7e74963-0eca-4c10-a10c-817dc7e6f4ba",
   "metadata": {},
   "outputs": [],
   "source": []
  }
 ],
 "metadata": {
  "kernelspec": {
   "display_name": "Python 3 (ipykernel)",
   "language": "python",
   "name": "python3"
  },
  "language_info": {
   "codemirror_mode": {
    "name": "ipython",
    "version": 3
   },
   "file_extension": ".py",
   "mimetype": "text/x-python",
   "name": "python",
   "nbconvert_exporter": "python",
   "pygments_lexer": "ipython3",
   "version": "3.11.4"
  }
 },
 "nbformat": 4,
 "nbformat_minor": 5
}
