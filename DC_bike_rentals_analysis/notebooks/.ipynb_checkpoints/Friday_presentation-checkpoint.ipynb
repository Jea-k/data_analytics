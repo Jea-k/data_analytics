{
 "cells": [
  {
   "cell_type": "markdown",
   "id": "24351f8c",
   "metadata": {},
   "source": [
    "### Goal: Explore DC bike data to understand the demand for bicycle rentals over time and fit a regression line to the data."
   ]
  },
  {
   "cell_type": "markdown",
   "id": "172b07e1",
   "metadata": {},
   "source": [
    "### Time-related patterns that bike counts show"
   ]
  },
  {
   "cell_type": "markdown",
   "id": "fbe4e0d8",
   "metadata": {},
   "source": [
    "#### Daily Patterns: \n",
    "- There are higher bike counts during morning and evening rush hours due to commuting and work related activities\n",
    "\n",
    "#### Weekly Patterns:  \n",
    "- Weekdays have higher bike counts due to commuting and work-related activities, while weekends may show different patterns with increased leisure or recreational activities\n",
    "\n",
    "#### Seasonal Patterns: \n",
    "- Bike counts may be higher during favorable weather conditions like spring or summer, when more people engage in outdoor activities and tourism is at peak\n",
    "\n"
   ]
  },
  {
   "cell_type": "markdown",
   "id": "f595f3ff",
   "metadata": {},
   "source": [
    "#### Rolling average\n",
    "- The \"count\"  shows the exact number of bikes rented at each specific time\n",
    "- The \"rolling average\" shows the average number of bike rentals over a specific time period. \n",
    "\n",
    "- The rolling average line is lower than the count line, it shows that the average number of bike counts is lower than the actual count.\n",
    "\n",
    "\n",
    "\n",
    "\n",
    "\n",
    "\n",
    "\n",
    "\n"
   ]
  },
  {
   "cell_type": "markdown",
   "id": "e543e9a7",
   "metadata": {},
   "source": [
    "#### Pivot table\n",
    "\n",
    "- Peak Commuting Hours:  These peak hours typically are morning rush hour (e.g., 7 am to 9 am) and evening rush hour (e.g., 5 pm to 7 pm).\n",
    "\n",
    "- Workdays vs. Weekends: \n",
    "\n",
    "- Stakeholders can be focused on areas and times with higher traffic density, target those areas for improvements\n"
   ]
  },
  {
   "cell_type": "markdown",
   "id": "ba8ef1ac",
   "metadata": {},
   "source": [
    "#### Error Metric and Naive Forecast\n",
    "\n",
    "- used the counts from may 2011 to predict counts for 2012\n",
    "- used rmse to measure the accuracy of the prediction model\n",
    "\n",
    "The RMSE represents the average difference between the predicted and actual values,showing how far off, on average, the naive prediction was from the actual values. A lower RMSE value suggests a better fit between the prediction and the actual data.\n",
    "\n",
    "On average, the difference between the predicted values (May 2012 count) and the actual values (May 2011 count) is approximately 168 which may suggest that the naive prediction has a relatively high level of error or deviation from the actual values."
   ]
  },
  {
   "cell_type": "markdown",
   "id": "0a064d89",
   "metadata": {},
   "source": [
    "#### Linear Regression\n",
    "\n",
    "- A linear regression model helps us understand the relationship between a dependent variable (such as \"count\" of bike rentals) and one or more independent variables (such as \"season,\" \"temp,\" \"hour,\" \"day,\" and \"part_of_day\"). \n",
    "\n",
    "- It assumes a linear relationship between the dependent variable and the independent variables\n",
    "\n",
    "- R-squared shows how well the linear regression model fits the data. \n",
    "\n",
    "- A higher R-squared value indicates a better fit of the model to the data. It shows that the model is more effective at predicting the bike rental counts based on the given independent variables.\n",
    "\n"
   ]
  },
  {
   "cell_type": "markdown",
   "id": "3aa23024",
   "metadata": {},
   "source": [
    "#### Distribution Function\n",
    "\n",
    "The distribution of the temperature of the entire year\n",
    "\n",
    "The plot shows the distribution of temperature as a probability. This means that the height of the curve or the area under the curve represents the likelihood of observing specific temperature values."
   ]
  },
  {
   "cell_type": "markdown",
   "id": "289d42a4",
   "metadata": {},
   "source": [
    "#### Confidence Levels\n",
    "\n",
    "- range of values that is likely to contain the true value that we are trying to estimate\n",
    "\n",
    "- Here average windspeed is used\n",
    "\n",
    "- Bootstrapping provides a wider range of values for the average windspeed, taking into account more possibilities in the data. The z-formula gives a narrower range, but it may not consider all the possible variations."
   ]
  },
  {
   "cell_type": "markdown",
   "id": "61aed567",
   "metadata": {},
   "source": [
    "#### A/B Testing\n",
    "- To compare two different versions of a variable or feature to determine which one performs better."
   ]
  },
  {
   "cell_type": "markdown",
   "id": "d7c7216a",
   "metadata": {},
   "source": [
    "#### Clustering"
   ]
  },
  {
   "cell_type": "code",
   "execution_count": null,
   "id": "49598f24",
   "metadata": {},
   "outputs": [],
   "source": []
  }
 ],
 "metadata": {
  "kernelspec": {
   "display_name": "Python 3 (ipykernel)",
   "language": "python",
   "name": "python3"
  },
  "language_info": {
   "codemirror_mode": {
    "name": "ipython",
    "version": 3
   },
   "file_extension": ".py",
   "mimetype": "text/x-python",
   "name": "python",
   "nbconvert_exporter": "python",
   "pygments_lexer": "ipython3",
   "version": "3.10.10"
  }
 },
 "nbformat": 4,
 "nbformat_minor": 5
}
