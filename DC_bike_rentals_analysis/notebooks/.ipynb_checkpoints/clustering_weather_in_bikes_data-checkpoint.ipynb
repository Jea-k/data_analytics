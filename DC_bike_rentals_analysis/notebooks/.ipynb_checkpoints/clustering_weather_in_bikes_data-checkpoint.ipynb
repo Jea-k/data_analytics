{
 "cells": [
  {
   "cell_type": "markdown",
   "id": "b3a59a7f",
   "metadata": {},
   "source": [
    "#### Prepare the data"
   ]
  },
  {
   "cell_type": "code",
   "execution_count": null,
   "id": "af7d7917",
   "metadata": {},
   "outputs": [],
   "source": [
    "# import needed libraries\n",
    "import numpy as np\n",
    "import pandas as pd\n",
    "from sklearn.preprocessing import StandardScaler\n",
    "from sklearn.cluster import KMeans\n",
    "import matplotlib.pyplot as plt"
   ]
  },
  {
   "cell_type": "code",
   "execution_count": null,
   "id": "3283b228",
   "metadata": {},
   "outputs": [],
   "source": [
    "# read the bike data\n",
    "df = pd.read_csv('../../data/bike_dataset_new.csv',parse_dates=['datetime'])\n",
    "df"
   ]
  },
  {
   "cell_type": "markdown",
   "id": "0044cc45",
   "metadata": {},
   "source": [
    "#### Check the number of weather types"
   ]
  },
  {
   "cell_type": "code",
   "execution_count": null,
   "id": "efd743c0",
   "metadata": {},
   "outputs": [],
   "source": [
    "# Print out the unique values in the weather column\n",
    "df['weather'].unique()"
   ]
  },
  {
   "cell_type": "markdown",
   "id": "fb83ef28",
   "metadata": {},
   "source": [
    "#### Create a dataframe with weather related data only ('temp', 'atemp', 'humidity', 'windspeed')"
   ]
  },
  {
   "cell_type": "code",
   "execution_count": null,
   "id": "5ba7aa9f",
   "metadata": {},
   "outputs": [],
   "source": [
    "# Create a subset of the dataframe with only given columns\n",
    "df_weather = df[['temp', 'atemp', 'humidity', 'windspeed', 'weather']]\n",
    "df_weather"
   ]
  },
  {
   "cell_type": "markdown",
   "id": "b94ba853",
   "metadata": {},
   "source": [
    "#### Check the data distribution and standardize it if needed"
   ]
  },
  {
   "cell_type": "code",
   "execution_count": null,
   "id": "db4d77e7",
   "metadata": {},
   "outputs": [],
   "source": [
    "# Run describe method on the new dataframe that was just created\n",
    "df_weather.describe()"
   ]
  },
  {
   "cell_type": "code",
   "execution_count": null,
   "id": "07ebdd23",
   "metadata": {},
   "outputs": [],
   "source": [
    "# Standardize the data due to the difference in magnitude \n",
    "scaler = StandardScaler()\n",
    "scaler.fit(df_weather)\n",
    "df_weather_scaled = scaler.transform(df_weather)\n",
    "df_weather_scaled"
   ]
  },
  {
   "cell_type": "code",
   "execution_count": null,
   "id": "58f76534",
   "metadata": {
    "scrolled": true
   },
   "outputs": [],
   "source": [
    "# Transform scaled data into a dataframe\n",
    "df_weather = pd.DataFrame(df_weather_scaled, columns=df_weather.columns)\n",
    "df_weather"
   ]
  },
  {
   "cell_type": "code",
   "execution_count": null,
   "id": "1b022e9c",
   "metadata": {},
   "outputs": [],
   "source": [
    "df_weather.describe()"
   ]
  },
  {
   "cell_type": "markdown",
   "id": "2ce580ac",
   "metadata": {},
   "source": [
    "#### Use the elbow method to determine the number of clusters"
   ]
  },
  {
   "cell_type": "code",
   "execution_count": null,
   "id": "aa879c5a",
   "metadata": {},
   "outputs": [],
   "source": [
    "# Use the code from the encounter and adapt it to implement the elbow method\n",
    "K = range(2, 10) #let's give it a range\n",
    "inertia = []\n",
    "\n",
    "for k in K:\n",
    "    kmeans = KMeans(n_clusters=k,\n",
    "                    random_state=1234,\n",
    "                    n_init=10) # a different random state\n",
    "    kmeans.fit(df_weather)\n",
    "    inertia.append(kmeans.inertia_) #Inertia measures how well a dataset was clustered by K-Means\n",
    "\n",
    "plt.figure(figsize=(16,8))\n",
    "plt.plot(K, inertia, 'bx-') # shows the x symbols on the graph\n",
    "plt.xlabel('k')\n",
    "plt.ylabel('inertia')\n",
    "plt.xticks(np.arange(min(K), max(K), 1.0))\n",
    "plt.title('Elbow Method showing the optimal k');"
   ]
  },
  {
   "cell_type": "markdown",
   "id": "04e68b30",
   "metadata": {},
   "source": [
    "You should see a slight elbow for k = 4 which fits our knowledge of the dataset."
   ]
  },
  {
   "cell_type": "markdown",
   "id": "ecfd5549",
   "metadata": {},
   "source": [
    "### Repeat k-means clustering with k = 4. Visualize the results and compare them with the weather from the `weather` column. Are the results aligned or rather different?"
   ]
  },
  {
   "cell_type": "code",
   "execution_count": null,
   "id": "8f79d243",
   "metadata": {},
   "outputs": [],
   "source": [
    "# Predict the labels and visualize the data. Adapt the code from the encounter.\n",
    "# Note: in the encounter notebook we only visualize the data in a 2 dimensional space which means we are using only two columns (you can select column 1 - 'atemp' and column 2 - 'humidity')\n",
    "kmeans = KMeans(n_clusters=4, random_state=42, n_init=10)\n",
    "kmeans.fit(df_weather)\n",
    "\n",
    "#  Get the cluster labels assigned to each data point\n",
    "labels = kmeans.labels_\n",
    "\n",
    "# Plot the data points with color-coded clusters\n",
    "plt.scatter(df_weather['temp'], df_weather['atemp'], c=labels)\n",
    "\n",
    "plt.xlabel('temp')\n",
    "plt.ylabel('atemp')\n",
    "plt.title('K-means Clustering Results (k = 4)')\n",
    "\n",
    "\n",
    "\n",
    "plt.show()\n"
   ]
  },
  {
   "cell_type": "code",
   "execution_count": null,
   "id": "957627a7",
   "metadata": {},
   "outputs": [],
   "source": [
    "# Add weather information to the plot\n",
    "weather = df_weather['weather']\n",
    "temp = df_weather['temp']\n",
    "atemp = df_weather['atemp']\n",
    "\n"
   ]
  },
  {
   "cell_type": "code",
   "execution_count": null,
   "id": "a63b344c",
   "metadata": {},
   "outputs": [],
   "source": [
    "kmeans = KMeans(n_clusters=4, random_state=42, n_init=10)\n",
    "kmeans.fit(df_weather)\n",
    "\n",
    "# Get the cluster labels assigned to each data point\n",
    "labels = kmeans.labels_\n",
    "\n",
    "# Get the weather information\n",
    "weather = df_weather['weather']\n",
    "\n",
    "# Create a dictionary of markers for different weather conditions\n",
    "weather_markers = {'sunny': 'o', 'rainy': 's', 'cloudy': '^', 'snowy': 'v'}\n",
    "\n",
    "# Plot the data points with color-coded clusters and weather markers\n",
    "for index, row in df_weather.iterrows():\n",
    "    temp = row['temp']\n",
    "    atemp = row['atemp']\n",
    "    weather_label = row['weather']\n",
    "    marker = weather_markers.get(weather_label, 'x')  # Use 'x' as the default marker symbol\n",
    "    plt.scatter(temp, atemp, c=labels[index], marker=marker, label=weather_label)\n",
    "\n",
    "plt.xlabel('temp')\n",
    "plt.ylabel('atemp')\n",
    "plt.title('K-means Clustering Results (k = 4)')\n",
    "plt.legend()\n",
    "\n",
    "plt.show()\n",
    "\n"
   ]
  },
  {
   "cell_type": "markdown",
   "id": "fac21d68",
   "metadata": {},
   "source": [
    "#### Conclusions:\n",
    "\n",
    "Write down your thoughts here."
   ]
  },
  {
   "cell_type": "code",
   "execution_count": null,
   "id": "7adfc34b",
   "metadata": {},
   "outputs": [],
   "source": []
  }
 ],
 "metadata": {
  "kernelspec": {
   "display_name": "Python 3 (ipykernel)",
   "language": "python",
   "name": "python3"
  },
  "language_info": {
   "codemirror_mode": {
    "name": "ipython",
    "version": 3
   },
   "file_extension": ".py",
   "mimetype": "text/x-python",
   "name": "python",
   "nbconvert_exporter": "python",
   "pygments_lexer": "ipython3",
   "version": "3.10.10"
  }
 },
 "nbformat": 4,
 "nbformat_minor": 5
}
